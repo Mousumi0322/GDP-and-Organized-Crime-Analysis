{
 "cells": [
  {
   "cell_type": "code",
   "execution_count": 1,
   "metadata": {},
   "outputs": [],
   "source": [
    "import pandas as pd\n",
    "import numpy as np\n",
    "import matplotlib.pyplot as plt"
   ]
  },
  {
   "cell_type": "code",
   "execution_count": 2,
   "metadata": {},
   "outputs": [
    {
     "data": {
      "text/html": [
       "<div>\n",
       "<style scoped>\n",
       "    .dataframe tbody tr th:only-of-type {\n",
       "        vertical-align: middle;\n",
       "    }\n",
       "\n",
       "    .dataframe tbody tr th {\n",
       "        vertical-align: top;\n",
       "    }\n",
       "\n",
       "    .dataframe thead th {\n",
       "        text-align: right;\n",
       "    }\n",
       "</style>\n",
       "<table border=\"1\" class=\"dataframe\">\n",
       "  <thead>\n",
       "    <tr style=\"text-align: right;\">\n",
       "      <th></th>\n",
       "      <th>Continent</th>\n",
       "      <th>Region</th>\n",
       "      <th>Country</th>\n",
       "      <th>Criminality</th>\n",
       "      <th>Criminal markets</th>\n",
       "      <th>Human trafficking</th>\n",
       "      <th>Human smuggling</th>\n",
       "      <th>Arms trafficking</th>\n",
       "      <th>Flora crimes</th>\n",
       "      <th>Fauna crimes</th>\n",
       "      <th>...</th>\n",
       "      <th>Territorial integrity</th>\n",
       "      <th>Anti-money laundering</th>\n",
       "      <th>Economic regulatory capacity</th>\n",
       "      <th>Victim and witness support</th>\n",
       "      <th>Prevention</th>\n",
       "      <th>Non-state actors</th>\n",
       "      <th>Year</th>\n",
       "      <th>Unit</th>\n",
       "      <th>GDP Per Capita (US$)</th>\n",
       "      <th>Code Value</th>\n",
       "    </tr>\n",
       "  </thead>\n",
       "  <tbody>\n",
       "    <tr>\n",
       "      <th>0</th>\n",
       "      <td>Asia</td>\n",
       "      <td>Western Asia</td>\n",
       "      <td>Turkey</td>\n",
       "      <td>6.89</td>\n",
       "      <td>6.40</td>\n",
       "      <td>7.0</td>\n",
       "      <td>9.0</td>\n",
       "      <td>9.0</td>\n",
       "      <td>4.0</td>\n",
       "      <td>3.0</td>\n",
       "      <td>...</td>\n",
       "      <td>6.5</td>\n",
       "      <td>2.0</td>\n",
       "      <td>4.0</td>\n",
       "      <td>4.0</td>\n",
       "      <td>3.5</td>\n",
       "      <td>3.5</td>\n",
       "      <td>2021</td>\n",
       "      <td>US$</td>\n",
       "      <td>9661.23</td>\n",
       "      <td>TUR</td>\n",
       "    </tr>\n",
       "    <tr>\n",
       "      <th>1</th>\n",
       "      <td>Africa</td>\n",
       "      <td>West Africa</td>\n",
       "      <td>Cabo Verde</td>\n",
       "      <td>4.04</td>\n",
       "      <td>3.70</td>\n",
       "      <td>4.5</td>\n",
       "      <td>2.0</td>\n",
       "      <td>2.5</td>\n",
       "      <td>2.5</td>\n",
       "      <td>4.0</td>\n",
       "      <td>...</td>\n",
       "      <td>7.5</td>\n",
       "      <td>5.0</td>\n",
       "      <td>6.0</td>\n",
       "      <td>3.5</td>\n",
       "      <td>6.0</td>\n",
       "      <td>7.0</td>\n",
       "      <td>2021</td>\n",
       "      <td>US$</td>\n",
       "      <td>3293.23</td>\n",
       "      <td>CPV</td>\n",
       "    </tr>\n",
       "    <tr>\n",
       "      <th>2</th>\n",
       "      <td>Africa</td>\n",
       "      <td>Southern Africa</td>\n",
       "      <td>South Africa</td>\n",
       "      <td>6.63</td>\n",
       "      <td>6.00</td>\n",
       "      <td>4.5</td>\n",
       "      <td>4.0</td>\n",
       "      <td>8.0</td>\n",
       "      <td>3.5</td>\n",
       "      <td>7.5</td>\n",
       "      <td>...</td>\n",
       "      <td>6.0</td>\n",
       "      <td>6.0</td>\n",
       "      <td>6.0</td>\n",
       "      <td>4.0</td>\n",
       "      <td>5.0</td>\n",
       "      <td>7.0</td>\n",
       "      <td>2021</td>\n",
       "      <td>US$</td>\n",
       "      <td>7055.06</td>\n",
       "      <td>ZAF</td>\n",
       "    </tr>\n",
       "    <tr>\n",
       "      <th>3</th>\n",
       "      <td>South America</td>\n",
       "      <td>South America</td>\n",
       "      <td>Colombia</td>\n",
       "      <td>7.66</td>\n",
       "      <td>7.20</td>\n",
       "      <td>7.5</td>\n",
       "      <td>7.0</td>\n",
       "      <td>8.0</td>\n",
       "      <td>6.0</td>\n",
       "      <td>7.0</td>\n",
       "      <td>...</td>\n",
       "      <td>4.5</td>\n",
       "      <td>6.0</td>\n",
       "      <td>5.0</td>\n",
       "      <td>3.5</td>\n",
       "      <td>4.5</td>\n",
       "      <td>6.5</td>\n",
       "      <td>2021</td>\n",
       "      <td>US$</td>\n",
       "      <td>6104.14</td>\n",
       "      <td>COL</td>\n",
       "    </tr>\n",
       "    <tr>\n",
       "      <th>4</th>\n",
       "      <td>South America</td>\n",
       "      <td>South America</td>\n",
       "      <td>Peru</td>\n",
       "      <td>6.35</td>\n",
       "      <td>6.20</td>\n",
       "      <td>7.0</td>\n",
       "      <td>6.0</td>\n",
       "      <td>5.5</td>\n",
       "      <td>7.0</td>\n",
       "      <td>5.5</td>\n",
       "      <td>...</td>\n",
       "      <td>5.0</td>\n",
       "      <td>4.5</td>\n",
       "      <td>4.0</td>\n",
       "      <td>3.5</td>\n",
       "      <td>3.0</td>\n",
       "      <td>4.5</td>\n",
       "      <td>2021</td>\n",
       "      <td>US$</td>\n",
       "      <td>6621.65</td>\n",
       "      <td>PER</td>\n",
       "    </tr>\n",
       "    <tr>\n",
       "      <th>...</th>\n",
       "      <td>...</td>\n",
       "      <td>...</td>\n",
       "      <td>...</td>\n",
       "      <td>...</td>\n",
       "      <td>...</td>\n",
       "      <td>...</td>\n",
       "      <td>...</td>\n",
       "      <td>...</td>\n",
       "      <td>...</td>\n",
       "      <td>...</td>\n",
       "      <td>...</td>\n",
       "      <td>...</td>\n",
       "      <td>...</td>\n",
       "      <td>...</td>\n",
       "      <td>...</td>\n",
       "      <td>...</td>\n",
       "      <td>...</td>\n",
       "      <td>...</td>\n",
       "      <td>...</td>\n",
       "      <td>...</td>\n",
       "      <td>...</td>\n",
       "    </tr>\n",
       "    <tr>\n",
       "      <th>188</th>\n",
       "      <td>North America</td>\n",
       "      <td>Caribbean</td>\n",
       "      <td>Jamaica</td>\n",
       "      <td>5.91</td>\n",
       "      <td>4.20</td>\n",
       "      <td>5.0</td>\n",
       "      <td>3.0</td>\n",
       "      <td>8.5</td>\n",
       "      <td>1.5</td>\n",
       "      <td>2.0</td>\n",
       "      <td>...</td>\n",
       "      <td>6.5</td>\n",
       "      <td>4.5</td>\n",
       "      <td>4.5</td>\n",
       "      <td>5.0</td>\n",
       "      <td>6.0</td>\n",
       "      <td>6.5</td>\n",
       "      <td>2021</td>\n",
       "      <td>US$</td>\n",
       "      <td>5183.58</td>\n",
       "      <td>JAM</td>\n",
       "    </tr>\n",
       "    <tr>\n",
       "      <th>189</th>\n",
       "      <td>North America</td>\n",
       "      <td>Caribbean</td>\n",
       "      <td>St. Vincent and the Grenadines</td>\n",
       "      <td>3.30</td>\n",
       "      <td>2.85</td>\n",
       "      <td>2.5</td>\n",
       "      <td>1.0</td>\n",
       "      <td>4.0</td>\n",
       "      <td>1.0</td>\n",
       "      <td>2.0</td>\n",
       "      <td>...</td>\n",
       "      <td>6.0</td>\n",
       "      <td>5.5</td>\n",
       "      <td>4.0</td>\n",
       "      <td>3.0</td>\n",
       "      <td>6.0</td>\n",
       "      <td>6.0</td>\n",
       "      <td>2021</td>\n",
       "      <td>US$</td>\n",
       "      <td>8440.03</td>\n",
       "      <td>VCT</td>\n",
       "    </tr>\n",
       "    <tr>\n",
       "      <th>190</th>\n",
       "      <td>Europe</td>\n",
       "      <td>Central &amp; Eastern Europe</td>\n",
       "      <td>Slovenia</td>\n",
       "      <td>4.29</td>\n",
       "      <td>3.95</td>\n",
       "      <td>4.0</td>\n",
       "      <td>5.5</td>\n",
       "      <td>3.5</td>\n",
       "      <td>2.0</td>\n",
       "      <td>3.0</td>\n",
       "      <td>...</td>\n",
       "      <td>7.5</td>\n",
       "      <td>6.5</td>\n",
       "      <td>5.0</td>\n",
       "      <td>6.0</td>\n",
       "      <td>6.0</td>\n",
       "      <td>6.0</td>\n",
       "      <td>2021</td>\n",
       "      <td>US$</td>\n",
       "      <td>29134.80</td>\n",
       "      <td>SVN</td>\n",
       "    </tr>\n",
       "    <tr>\n",
       "      <th>191</th>\n",
       "      <td>North America</td>\n",
       "      <td>Caribbean</td>\n",
       "      <td>St. Lucia</td>\n",
       "      <td>4.09</td>\n",
       "      <td>3.05</td>\n",
       "      <td>4.0</td>\n",
       "      <td>1.5</td>\n",
       "      <td>5.0</td>\n",
       "      <td>2.0</td>\n",
       "      <td>1.0</td>\n",
       "      <td>...</td>\n",
       "      <td>5.5</td>\n",
       "      <td>4.0</td>\n",
       "      <td>5.5</td>\n",
       "      <td>5.0</td>\n",
       "      <td>6.0</td>\n",
       "      <td>4.0</td>\n",
       "      <td>2021</td>\n",
       "      <td>US$</td>\n",
       "      <td>9824.06</td>\n",
       "      <td>LCA</td>\n",
       "    </tr>\n",
       "    <tr>\n",
       "      <th>192</th>\n",
       "      <td>North America</td>\n",
       "      <td>Caribbean</td>\n",
       "      <td>Dominica</td>\n",
       "      <td>2.63</td>\n",
       "      <td>2.75</td>\n",
       "      <td>2.5</td>\n",
       "      <td>2.5</td>\n",
       "      <td>5.0</td>\n",
       "      <td>1.0</td>\n",
       "      <td>1.0</td>\n",
       "      <td>...</td>\n",
       "      <td>6.0</td>\n",
       "      <td>5.0</td>\n",
       "      <td>5.0</td>\n",
       "      <td>5.0</td>\n",
       "      <td>6.0</td>\n",
       "      <td>5.0</td>\n",
       "      <td>2021</td>\n",
       "      <td>US$</td>\n",
       "      <td>7570.78</td>\n",
       "      <td>DMA</td>\n",
       "    </tr>\n",
       "  </tbody>\n",
       "</table>\n",
       "<p>193 rows × 37 columns</p>\n",
       "</div>"
      ],
      "text/plain": [
       "         Continent                    Region                         Country  \\\n",
       "0             Asia              Western Asia                          Turkey   \n",
       "1           Africa               West Africa                      Cabo Verde   \n",
       "2           Africa           Southern Africa                    South Africa   \n",
       "3    South America             South America                        Colombia   \n",
       "4    South America             South America                            Peru   \n",
       "..             ...                       ...                             ...   \n",
       "188  North America                Caribbean                          Jamaica   \n",
       "189  North America                Caribbean   St. Vincent and the Grenadines   \n",
       "190         Europe  Central & Eastern Europe                        Slovenia   \n",
       "191  North America                Caribbean                        St. Lucia   \n",
       "192  North America                Caribbean                         Dominica   \n",
       "\n",
       "     Criminality  Criminal markets  Human trafficking  Human smuggling  \\\n",
       "0           6.89              6.40                7.0              9.0   \n",
       "1           4.04              3.70                4.5              2.0   \n",
       "2           6.63              6.00                4.5              4.0   \n",
       "3           7.66              7.20                7.5              7.0   \n",
       "4           6.35              6.20                7.0              6.0   \n",
       "..           ...               ...                ...              ...   \n",
       "188         5.91              4.20                5.0              3.0   \n",
       "189         3.30              2.85                2.5              1.0   \n",
       "190         4.29              3.95                4.0              5.5   \n",
       "191         4.09              3.05                4.0              1.5   \n",
       "192         2.63              2.75                2.5              2.5   \n",
       "\n",
       "     Arms trafficking  Flora crimes  Fauna crimes  ...  Territorial integrity  \\\n",
       "0                 9.0           4.0           3.0  ...                    6.5   \n",
       "1                 2.5           2.5           4.0  ...                    7.5   \n",
       "2                 8.0           3.5           7.5  ...                    6.0   \n",
       "3                 8.0           6.0           7.0  ...                    4.5   \n",
       "4                 5.5           7.0           5.5  ...                    5.0   \n",
       "..                ...           ...           ...  ...                    ...   \n",
       "188               8.5           1.5           2.0  ...                    6.5   \n",
       "189               4.0           1.0           2.0  ...                    6.0   \n",
       "190               3.5           2.0           3.0  ...                    7.5   \n",
       "191               5.0           2.0           1.0  ...                    5.5   \n",
       "192               5.0           1.0           1.0  ...                    6.0   \n",
       "\n",
       "     Anti-money laundering  Economic regulatory capacity  \\\n",
       "0                      2.0                           4.0   \n",
       "1                      5.0                           6.0   \n",
       "2                      6.0                           6.0   \n",
       "3                      6.0                           5.0   \n",
       "4                      4.5                           4.0   \n",
       "..                     ...                           ...   \n",
       "188                    4.5                           4.5   \n",
       "189                    5.5                           4.0   \n",
       "190                    6.5                           5.0   \n",
       "191                    4.0                           5.5   \n",
       "192                    5.0                           5.0   \n",
       "\n",
       "     Victim and witness support  Prevention  Non-state actors  Year  Unit  \\\n",
       "0                           4.0         3.5               3.5  2021   US$   \n",
       "1                           3.5         6.0               7.0  2021   US$   \n",
       "2                           4.0         5.0               7.0  2021   US$   \n",
       "3                           3.5         4.5               6.5  2021   US$   \n",
       "4                           3.5         3.0               4.5  2021   US$   \n",
       "..                          ...         ...               ...   ...   ...   \n",
       "188                         5.0         6.0               6.5  2021   US$   \n",
       "189                         3.0         6.0               6.0  2021   US$   \n",
       "190                         6.0         6.0               6.0  2021   US$   \n",
       "191                         5.0         6.0               4.0  2021   US$   \n",
       "192                         5.0         6.0               5.0  2021   US$   \n",
       "\n",
       "     GDP Per Capita (US$)  Code Value  \n",
       "0                 9661.23         TUR  \n",
       "1                 3293.23         CPV  \n",
       "2                 7055.06         ZAF  \n",
       "3                 6104.14         COL  \n",
       "4                 6621.65         PER  \n",
       "..                    ...         ...  \n",
       "188               5183.58         JAM  \n",
       "189               8440.03         VCT  \n",
       "190              29134.80         SVN  \n",
       "191               9824.06         LCA  \n",
       "192               7570.78         DMA  \n",
       "\n",
       "[193 rows x 37 columns]"
      ]
     },
     "execution_count": 2,
     "metadata": {},
     "output_type": "execute_result"
    }
   ],
   "source": [
    "df1 = pd.read_excel('merged_data.xlsx')\n",
    "df1"
   ]
  },
  {
   "cell_type": "code",
   "execution_count": 8,
   "metadata": {},
   "outputs": [
    {
     "name": "stdout",
     "output_type": "stream",
     "text": [
      "Continent                                      object\n",
      "Region                                         object\n",
      "Country                                        object\n",
      "Criminality                                   float64\n",
      "Criminal markets                              float64\n",
      "Human trafficking                             float64\n",
      "Human smuggling                               float64\n",
      "Arms trafficking                              float64\n",
      "Flora crimes                                  float64\n",
      "Fauna crimes                                  float64\n",
      "Non-renewable resource crimes                 float64\n",
      "Heroin trade                                  float64\n",
      "Cocaine trade                                 float64\n",
      "Cannabis trade                                float64\n",
      "Synthetic drug trade                          float64\n",
      "Criminal actors                               float64\n",
      "Mafia-style groups                            float64\n",
      "Criminal networks                             float64\n",
      "State-embedded actors                         float64\n",
      "Foreign actors                                float64\n",
      "Resilience                                    float64\n",
      "Political leadership and governance           float64\n",
      "Government transparency and accountability    float64\n",
      "International cooperation                     float64\n",
      "National policies and laws                    float64\n",
      "Judicial system and detention                 float64\n",
      "Law enforcement                               float64\n",
      "Territorial integrity                         float64\n",
      "Anti-money laundering                         float64\n",
      "Economic regulatory capacity                  float64\n",
      "Victim and witness support                    float64\n",
      "Prevention                                    float64\n",
      "Non-state actors                              float64\n",
      "Year                                            int64\n",
      "Unit                                           object\n",
      "GDP Per Capita (US$)                          float64\n",
      "Code Value                                     object\n",
      "dtype: object\n"
     ]
    }
   ],
   "source": [
    "print(df1.dtypes)"
   ]
  },
  {
   "cell_type": "code",
   "execution_count": 16,
   "metadata": {},
   "outputs": [
    {
     "name": "stdout",
     "output_type": "stream",
     "text": [
      "Missing values in each column:\n",
      " Continent                                     0\n",
      "Region                                        0\n",
      "Country                                       0\n",
      "Criminality                                   0\n",
      "Criminal markets                              0\n",
      "Human trafficking                             0\n",
      "Human smuggling                               0\n",
      "Arms trafficking                              0\n",
      "Flora crimes                                  0\n",
      "Fauna crimes                                  0\n",
      "Non-renewable resource crimes                 0\n",
      "Heroin trade                                  0\n",
      "Cocaine trade                                 0\n",
      "Cannabis trade                                0\n",
      "Synthetic drug trade                          0\n",
      "Criminal actors                               0\n",
      "Mafia-style groups                            0\n",
      "Criminal networks                             0\n",
      "State-embedded actors                         0\n",
      "Foreign actors                                0\n",
      "Resilience                                    0\n",
      "Political leadership and governance           0\n",
      "Government transparency and accountability    0\n",
      "International cooperation                     0\n",
      "National policies and laws                    0\n",
      "Judicial system and detention                 0\n",
      "Law enforcement                               0\n",
      "Territorial integrity                         0\n",
      "Anti-money laundering                         0\n",
      "Economic regulatory capacity                  0\n",
      "Victim and witness support                    0\n",
      "Prevention                                    0\n",
      "Non-state actors                              0\n",
      "Year                                          0\n",
      "Unit                                          0\n",
      "GDP Per Capita (US$)                          0\n",
      "Code Value                                    0\n",
      "dtype: int64\n"
     ]
    }
   ],
   "source": [
    "missing_values = df1.isnull().sum()\n",
    "print(\"Missing values in each column:\\n\", missing_values)\n"
   ]
  },
  {
   "cell_type": "code",
   "execution_count": 18,
   "metadata": {},
   "outputs": [],
   "source": [
    "numerical_cols = df1.select_dtypes(include=[np.number]).columns    \n",
    "#select_dtypes(include=[np.number]). This function selects columns based on their data types, specifically including numerical data types such as integers and floats.   \n",
    "df1[numerical_cols] = df1[numerical_cols].fillna(df1[numerical_cols].mean())\n",
    "#It then fills missing values in these numerical columns with the mean of each respective column using the fillna() method.\n"
   ]
  },
  {
   "cell_type": "code",
   "execution_count": 20,
   "metadata": {},
   "outputs": [],
   "source": [
    "df1.rename(columns={'GDP Per Capita (US$)': 'GDP_per_capita'}, inplace=True)"
   ]
  },
  {
   "cell_type": "code",
   "execution_count": 22,
   "metadata": {},
   "outputs": [
    {
     "name": "stdout",
     "output_type": "stream",
     "text": [
      "Correlation between the GDP per capita and the criminality index: -0.3486143681276767\n"
     ]
    }
   ],
   "source": [
    "#Correlation Coefficient\n",
    "correlation = df1['GDP_per_capita'].corr(df1['Criminality'])\n",
    "print(\"Correlation between the GDP per capita and the criminality index:\",correlation)\n",
    "#it to the case when there's a perfect negative linear relationship between x and y."
   ]
  },
  {
   "cell_type": "code",
   "execution_count": 29,
   "metadata": {},
   "outputs": [
    {
     "data": {
      "image/png": "[encoded data removed]",
      "text/plain": [
       "<Figure size 1000x600 with 1 Axes>"
      ]
     },
     "metadata": {},
     "output_type": "display_data"
    }
   ],
   "source": [
    "plt.figure(figsize=(10,6))\n",
    "plt.scatter(df1['GDP_per_capita'],df1[\"Criminality\"], alpha=0.5)\n",
    "plt.title('Scatter Plot of GDP per Capita vs Organized Crime Index')\n",
    "plt.xlabel('GDP per Capita')\n",
    "plt.ylabel('Organized Crime Index')\n",
    "plt.grid(True)\n",
    "plt.show()"
   ]
  },
  {
   "cell_type": "code",
   "execution_count": 32,
   "metadata": {},
   "outputs": [],
   "source": [
    "# Grouping data by 'Continent' to analyze regional differences\n",
    "import seaborn as sns\n",
    "regional_group = df1.groupby('Continent').agg({\n",
    "    'GDP_per_capita':'mean',\n",
    "    'Criminality':'mean'\n",
    "}).reset_index()   \n",
    "\n",
    "#The reset_index() method in pandas is used to reset the index of a DataFrame"
   ]
  },
  {
   "cell_type": "code",
   "execution_count": 33,
   "metadata": {},
   "outputs": [
    {
     "name": "stdout",
     "output_type": "stream",
     "text": [
      "Descriptive Statistics for B=Numerical Data\n",
      "       Criminality  Criminal markets  Human trafficking  Human smuggling  \\\n",
      "count   193.000000        193.000000         193.000000        193.00000   \n",
      "mean      4.872383          4.650777           5.582902          4.76943   \n",
      "std       1.326322          1.272582           1.679648          1.91416   \n",
      "min       1.540000          1.600000           1.500000          1.00000   \n",
      "25%       4.000000          3.850000           4.500000          3.00000   \n",
      "50%       4.900000          4.750000           5.500000          5.00000   \n",
      "75%       5.890000          5.650000           7.000000          6.50000   \n",
      "max       7.750000          8.000000           9.500000          9.50000   \n",
      "\n",
      "       Arms trafficking  Flora crimes  Fauna crimes  \\\n",
      "count        193.000000    193.000000    193.000000   \n",
      "mean           4.919689      3.878238      4.634715   \n",
      "std            2.105307      2.315469      1.921639   \n",
      "min            1.000000      1.000000      1.000000   \n",
      "25%            3.000000      2.000000      3.500000   \n",
      "50%            5.000000      3.500000      4.500000   \n",
      "75%            6.500000      6.000000      6.000000   \n",
      "max            9.500000      8.500000      9.000000   \n",
      "\n",
      "       Non-renewable resource crimes  Heroin trade  Cocaine trade  ...  \\\n",
      "count                     193.000000    193.000000     193.000000  ...   \n",
      "mean                        4.505181      3.974093       4.523316  ...   \n",
      "std                         2.432950      2.060757       2.016398  ...   \n",
      "min                         1.000000      1.000000       1.000000  ...   \n",
      "25%                         2.000000      2.000000       3.000000  ...   \n",
      "50%                         4.000000      4.000000       4.500000  ...   \n",
      "75%                         6.500000      5.500000       6.000000  ...   \n",
      "max                         9.500000      9.500000       9.500000  ...   \n",
      "\n",
      "       Judicial system and detention  Law enforcement  Territorial integrity  \\\n",
      "count                     193.000000       193.000000             193.000000   \n",
      "mean                        4.593264         4.911917               5.119171   \n",
      "std                         1.831895         1.768507               1.846674   \n",
      "min                         1.500000         1.500000               1.500000   \n",
      "25%                         3.000000         4.000000               4.000000   \n",
      "50%                         4.500000         5.000000               5.000000   \n",
      "75%                         6.000000         6.000000               6.000000   \n",
      "max                         9.000000         9.000000               9.500000   \n",
      "\n",
      "       Anti-money laundering  Economic regulatory capacity  \\\n",
      "count             193.000000                    193.000000   \n",
      "mean                4.683938                      4.678756   \n",
      "std                 1.588074                      1.827998   \n",
      "min                 1.000000                      1.000000   \n",
      "25%                 3.500000                      3.500000   \n",
      "50%                 4.500000                      4.500000   \n",
      "75%                 6.000000                      6.000000   \n",
      "max                 8.500000                      9.000000   \n",
      "\n",
      "       Victim and witness support  Prevention  Non-state actors    Year  \\\n",
      "count                  193.000000  193.000000        193.000000   193.0   \n",
      "mean                     4.238342    4.474093          4.878238  2021.0   \n",
      "std                      1.954610    1.804754          1.909255     0.0   \n",
      "min                      1.000000    1.000000          1.000000  2021.0   \n",
      "25%                      3.000000    3.000000          3.500000  2021.0   \n",
      "50%                      4.000000    4.500000          5.000000  2021.0   \n",
      "75%                      5.500000    5.500000          6.000000  2021.0   \n",
      "max                      9.500000    9.500000          9.000000  2021.0   \n",
      "\n",
      "       GDP_per_capita  \n",
      "count      193.000000  \n",
      "mean     16974.958756  \n",
      "std      28904.860019  \n",
      "min        301.590000  \n",
      "25%       2081.800000  \n",
      "50%       6104.140000  \n",
      "75%      17736.420000  \n",
      "max     234317.080000  \n",
      "\n",
      "[8 rows x 32 columns]\n"
     ]
    }
   ],
   "source": [
    "numerical_cols = df1.select_dtypes(include=[np.number])\n",
    "print(\"Descriptive Statistics for Numerical Data:\")\n",
    "print(numerical_cols.describe())"
   ]
  },
  {
   "cell_type": "code",
   "execution_count": 37,
   "metadata": {},
   "outputs": [
    {
     "data": {
      "image/png": "[encoded data removed]",
      "text/plain": [
       "<Figure size 1000x600 with 1 Axes>"
      ]
     },
     "metadata": {},
     "output_type": "display_data"
    }
   ],
   "source": [
    "#This shows the distribution of GDP per Capita\n",
    "plt.figure(figsize=(10, 6))\n",
    "sns.histplot(df1['GDP_per_capita'], kde=True, color='blue')\n",
    "plt.title('Distribution of GDP per Capita')\n",
    "plt.xlabel('GDP per Capita (US Dollars)')\n",
    "plt.ylabel('Frequency')\n",
    "plt.grid(True)\n",
    "plt.show()"
   ]
  },
  {
   "cell_type": "code",
   "execution_count": 38,
   "metadata": {},
   "outputs": [
    {
     "data": {
      "image/png": "[encoded data removed]",
      "text/plain": [
       "<Figure size 1000x600 with 1 Axes>"
      ]
     },
     "metadata": {},
     "output_type": "display_data"
    }
   ],
   "source": [
    "#Box plot for GDP per capita to identify the outliers\n",
    "plt.figure(figsize=(10,6))\n",
    "sns.boxplot(x=df1['GDP_per_capita'])\n",
    "plt.title('Box Plot of GDP per Caapita')\n",
    "plt.xlabel('GDP Plot of Capita per Capita')\n",
    "plt.grid(True)\n",
    "plt.show()"
   ]
  },
  {
   "cell_type": "code",
   "execution_count": 40,
   "metadata": {},
   "outputs": [
    {
     "data": {
      "image/png": "[encoded data removed]",
      "text/plain": [
       "<Figure size 1200x600 with 1 Axes>"
      ]
     },
     "metadata": {},
     "output_type": "display_data"
    },
    {
     "data": {
      "image/png": "[encoded data removed]",
      "text/plain": [
       "<Figure size 1200x600 with 1 Axes>"
      ]
     },
     "metadata": {},
     "output_type": "display_data"
    }
   ],
   "source": [
    "plt.figure(figsize=(12, 6))\n",
    "sns.barplot(x='Continent', y='GDP_per_capita', data=regional_group)\n",
    "plt.title('Average GDP per Capita by Continent')\n",
    "plt.ylabel('Average GDP per Capita (US$)')\n",
    "plt.xlabel('Continent')\n",
    "plt.xticks(rotation=45)\n",
    "plt.show()\n",
    "\n",
    "plt.figure(figsize=(12, 6))\n",
    "sns.barplot(x='Continent', y='Criminality', data=regional_group)\n",
    "plt.title('Average Organized Crime Index by Continent')\n",
    "plt.ylabel('Average Organized Crime Index')\n",
    "plt.xlabel('Continent')\n",
    "plt.xticks(rotation=45)\n",
    "plt.show()"
   ]
  },
  {
   "cell_type": "code",
   "execution_count": 44,
   "metadata": {},
   "outputs": [
    {
     "name": "stdout",
     "output_type": "stream",
     "text": [
      "Correlation between GDP per capita and organized crime in Asia: -0.33\n",
      "Correlation between GDP per capita and organized crime in Africa: -0.30\n",
      "Correlation between GDP per capita and organized crime in South America: -0.64\n",
      "Correlation between GDP per capita and organized crime in North America: -0.18\n",
      "Correlation between GDP per capita and organized crime in Europe: -0.65\n",
      "Correlation between GDP per capita and organized crime in Oceania: 0.17\n"
     ]
    }
   ],
   "source": [
    "# Calculating correlation within each continent\n",
    "continents = df1['Continent'].unique()    #unique method would only select those continents uniquely without repetition.\n",
    "for continent in continents:\n",
    "    subset = df1[df1['Continent'] == continent]\n",
    "    correlation = subset['GDP_per_capita'].corr(subset['Criminality'])\n",
    "    print(f\"Correlation between GDP per capita and organized crime in {continent}: {correlation:.2f}\")"
   ]
  },
  {
   "cell_type": "code",
   "execution_count": 45,
   "metadata": {},
   "outputs": [],
   "source": [
    "# Exploring governance factors by continent\n",
    "governance_factors = ['Political leadership and governance', 'Government transparency and accountability', 'International cooperation']\n",
    "continent_governance = df1.groupby('Continent')[governance_factors].mean().reset_index()"
   ]
  },
  {
   "cell_type": "code",
   "execution_count": 46,
   "metadata": {},
   "outputs": [
    {
     "data": {
      "image/png": "[encoded data removed]",
      "text/plain": [
       "<Figure size 1200x800 with 2 Axes>"
      ]
     },
     "metadata": {},
     "output_type": "display_data"
    }
   ],
   "source": [
    "plt.figure(figsize=(12, 8))\n",
    "sns.heatmap(continent_governance.set_index('Continent'), annot=True, cmap='coolwarm', fmt=\".2f\")\n",
    "plt.title('Governance Factors by Continent')\n",
    "plt.show()"
   ]
  },
  {
   "cell_type": "code",
   "execution_count": 47,
   "metadata": {},
   "outputs": [],
   "source": [
    "# Correctly select columns related to resilience and governance factors\n",
    "resilience_governance_columns = df1.columns[df1.columns.str.contains('leadership|transparency|cooperation|policies|judicial|law enforcement|territorial|integrity|money laundering|regulatory|support|prevention')]\n"
   ]
  },
  {
   "cell_type": "code",
   "execution_count": 48,
   "metadata": {},
   "outputs": [],
   "source": [
    "# Filter the DataFrame to include only numeric columns for correlation calculation\n",
    "numeric_df = df1[resilience_governance_columns].select_dtypes(include=[np.number])"
   ]
  },
  {
   "cell_type": "code",
   "execution_count": 49,
   "metadata": {},
   "outputs": [
    {
     "data": {
      "text/html": [
       "<div>\n",
       "<style scoped>\n",
       "    .dataframe tbody tr th:only-of-type {\n",
       "        vertical-align: middle;\n",
       "    }\n",
       "\n",
       "    .dataframe tbody tr th {\n",
       "        vertical-align: top;\n",
       "    }\n",
       "\n",
       "    .dataframe thead th {\n",
       "        text-align: right;\n",
       "    }\n",
       "</style>\n",
       "<table border=\"1\" class=\"dataframe\">\n",
       "  <thead>\n",
       "    <tr style=\"text-align: right;\">\n",
       "      <th></th>\n",
       "      <th>Political leadership and governance</th>\n",
       "      <th>Government transparency and accountability</th>\n",
       "      <th>International cooperation</th>\n",
       "      <th>National policies and laws</th>\n",
       "      <th>Territorial integrity</th>\n",
       "      <th>Anti-money laundering</th>\n",
       "      <th>Economic regulatory capacity</th>\n",
       "      <th>Victim and witness support</th>\n",
       "    </tr>\n",
       "  </thead>\n",
       "  <tbody>\n",
       "    <tr>\n",
       "      <th>0</th>\n",
       "      <td>3.0</td>\n",
       "      <td>3.0</td>\n",
       "      <td>3.5</td>\n",
       "      <td>4.5</td>\n",
       "      <td>6.5</td>\n",
       "      <td>2.0</td>\n",
       "      <td>4.0</td>\n",
       "      <td>4.0</td>\n",
       "    </tr>\n",
       "    <tr>\n",
       "      <th>1</th>\n",
       "      <td>6.5</td>\n",
       "      <td>6.0</td>\n",
       "      <td>8.5</td>\n",
       "      <td>7.0</td>\n",
       "      <td>7.5</td>\n",
       "      <td>5.0</td>\n",
       "      <td>6.0</td>\n",
       "      <td>3.5</td>\n",
       "    </tr>\n",
       "    <tr>\n",
       "      <th>2</th>\n",
       "      <td>6.0</td>\n",
       "      <td>5.5</td>\n",
       "      <td>6.5</td>\n",
       "      <td>6.5</td>\n",
       "      <td>6.0</td>\n",
       "      <td>6.0</td>\n",
       "      <td>6.0</td>\n",
       "      <td>4.0</td>\n",
       "    </tr>\n",
       "    <tr>\n",
       "      <th>3</th>\n",
       "      <td>7.0</td>\n",
       "      <td>5.5</td>\n",
       "      <td>9.0</td>\n",
       "      <td>7.0</td>\n",
       "      <td>4.5</td>\n",
       "      <td>6.0</td>\n",
       "      <td>5.0</td>\n",
       "      <td>3.5</td>\n",
       "    </tr>\n",
       "    <tr>\n",
       "      <th>4</th>\n",
       "      <td>3.0</td>\n",
       "      <td>5.5</td>\n",
       "      <td>5.0</td>\n",
       "      <td>6.0</td>\n",
       "      <td>5.0</td>\n",
       "      <td>4.5</td>\n",
       "      <td>4.0</td>\n",
       "      <td>3.5</td>\n",
       "    </tr>\n",
       "    <tr>\n",
       "      <th>...</th>\n",
       "      <td>...</td>\n",
       "      <td>...</td>\n",
       "      <td>...</td>\n",
       "      <td>...</td>\n",
       "      <td>...</td>\n",
       "      <td>...</td>\n",
       "      <td>...</td>\n",
       "      <td>...</td>\n",
       "    </tr>\n",
       "    <tr>\n",
       "      <th>188</th>\n",
       "      <td>5.0</td>\n",
       "      <td>5.5</td>\n",
       "      <td>6.5</td>\n",
       "      <td>5.5</td>\n",
       "      <td>6.5</td>\n",
       "      <td>4.5</td>\n",
       "      <td>4.5</td>\n",
       "      <td>5.0</td>\n",
       "    </tr>\n",
       "    <tr>\n",
       "      <th>189</th>\n",
       "      <td>6.0</td>\n",
       "      <td>6.0</td>\n",
       "      <td>6.0</td>\n",
       "      <td>6.5</td>\n",
       "      <td>6.0</td>\n",
       "      <td>5.5</td>\n",
       "      <td>4.0</td>\n",
       "      <td>3.0</td>\n",
       "    </tr>\n",
       "    <tr>\n",
       "      <th>190</th>\n",
       "      <td>6.0</td>\n",
       "      <td>5.0</td>\n",
       "      <td>6.5</td>\n",
       "      <td>6.5</td>\n",
       "      <td>7.5</td>\n",
       "      <td>6.5</td>\n",
       "      <td>5.0</td>\n",
       "      <td>6.0</td>\n",
       "    </tr>\n",
       "    <tr>\n",
       "      <th>191</th>\n",
       "      <td>7.5</td>\n",
       "      <td>6.5</td>\n",
       "      <td>6.5</td>\n",
       "      <td>6.5</td>\n",
       "      <td>5.5</td>\n",
       "      <td>4.0</td>\n",
       "      <td>5.5</td>\n",
       "      <td>5.0</td>\n",
       "    </tr>\n",
       "    <tr>\n",
       "      <th>192</th>\n",
       "      <td>3.5</td>\n",
       "      <td>4.0</td>\n",
       "      <td>6.0</td>\n",
       "      <td>5.0</td>\n",
       "      <td>6.0</td>\n",
       "      <td>5.0</td>\n",
       "      <td>5.0</td>\n",
       "      <td>5.0</td>\n",
       "    </tr>\n",
       "  </tbody>\n",
       "</table>\n",
       "<p>193 rows × 8 columns</p>\n",
       "</div>"
      ],
      "text/plain": [
       "     Political leadership and governance  \\\n",
       "0                                    3.0   \n",
       "1                                    6.5   \n",
       "2                                    6.0   \n",
       "3                                    7.0   \n",
       "4                                    3.0   \n",
       "..                                   ...   \n",
       "188                                  5.0   \n",
       "189                                  6.0   \n",
       "190                                  6.0   \n",
       "191                                  7.5   \n",
       "192                                  3.5   \n",
       "\n",
       "     Government transparency and accountability  International cooperation  \\\n",
       "0                                           3.0                        3.5   \n",
       "1                                           6.0                        8.5   \n",
       "2                                           5.5                        6.5   \n",
       "3                                           5.5                        9.0   \n",
       "4                                           5.5                        5.0   \n",
       "..                                          ...                        ...   \n",
       "188                                         5.5                        6.5   \n",
       "189                                         6.0                        6.0   \n",
       "190                                         5.0                        6.5   \n",
       "191                                         6.5                        6.5   \n",
       "192                                         4.0                        6.0   \n",
       "\n",
       "     National policies and laws  Territorial integrity  Anti-money laundering  \\\n",
       "0                           4.5                    6.5                    2.0   \n",
       "1                           7.0                    7.5                    5.0   \n",
       "2                           6.5                    6.0                    6.0   \n",
       "3                           7.0                    4.5                    6.0   \n",
       "4                           6.0                    5.0                    4.5   \n",
       "..                          ...                    ...                    ...   \n",
       "188                         5.5                    6.5                    4.5   \n",
       "189                         6.5                    6.0                    5.5   \n",
       "190                         6.5                    7.5                    6.5   \n",
       "191                         6.5                    5.5                    4.0   \n",
       "192                         5.0                    6.0                    5.0   \n",
       "\n",
       "     Economic regulatory capacity  Victim and witness support  \n",
       "0                             4.0                         4.0  \n",
       "1                             6.0                         3.5  \n",
       "2                             6.0                         4.0  \n",
       "3                             5.0                         3.5  \n",
       "4                             4.0                         3.5  \n",
       "..                            ...                         ...  \n",
       "188                           4.5                         5.0  \n",
       "189                           4.0                         3.0  \n",
       "190                           5.0                         6.0  \n",
       "191                           5.5                         5.0  \n",
       "192                           5.0                         5.0  \n",
       "\n",
       "[193 rows x 8 columns]"
      ]
     },
     "execution_count": 49,
     "metadata": {},
     "output_type": "execute_result"
    }
   ],
   "source": [
    "numeric_df"
   ]
  },
  {
   "cell_type": "code",
   "execution_count": 51,
   "metadata": {},
   "outputs": [],
   "source": [
    "# Calculating the correlation matrix for resilience and governance factors with the organized crime index\n",
    "correlation_matrix = numeric_df.join(df1['Criminality']).corr()"
   ]
  },
  {
   "cell_type": "code",
   "execution_count": 52,
   "metadata": {},
   "outputs": [
    {
     "data": {
      "text/html": [
       "<div>\n",
       "<style scoped>\n",
       "    .dataframe tbody tr th:only-of-type {\n",
       "        vertical-align: middle;\n",
       "    }\n",
       "\n",
       "    .dataframe tbody tr th {\n",
       "        vertical-align: top;\n",
       "    }\n",
       "\n",
       "    .dataframe thead th {\n",
       "        text-align: right;\n",
       "    }\n",
       "</style>\n",
       "<table border=\"1\" class=\"dataframe\">\n",
       "  <thead>\n",
       "    <tr style=\"text-align: right;\">\n",
       "      <th></th>\n",
       "      <th>Political leadership and governance</th>\n",
       "      <th>Government transparency and accountability</th>\n",
       "      <th>International cooperation</th>\n",
       "      <th>National policies and laws</th>\n",
       "      <th>Territorial integrity</th>\n",
       "      <th>Anti-money laundering</th>\n",
       "      <th>Economic regulatory capacity</th>\n",
       "      <th>Victim and witness support</th>\n",
       "      <th>Criminality</th>\n",
       "    </tr>\n",
       "  </thead>\n",
       "  <tbody>\n",
       "    <tr>\n",
       "      <th>Political leadership and governance</th>\n",
       "      <td>1.000000</td>\n",
       "      <td>0.871555</td>\n",
       "      <td>0.805809</td>\n",
       "      <td>0.834768</td>\n",
       "      <td>0.732597</td>\n",
       "      <td>0.719293</td>\n",
       "      <td>0.768100</td>\n",
       "      <td>0.753358</td>\n",
       "      <td>-0.490887</td>\n",
       "    </tr>\n",
       "    <tr>\n",
       "      <th>Government transparency and accountability</th>\n",
       "      <td>0.871555</td>\n",
       "      <td>1.000000</td>\n",
       "      <td>0.843016</td>\n",
       "      <td>0.830748</td>\n",
       "      <td>0.704711</td>\n",
       "      <td>0.756305</td>\n",
       "      <td>0.786285</td>\n",
       "      <td>0.789386</td>\n",
       "      <td>-0.467097</td>\n",
       "    </tr>\n",
       "    <tr>\n",
       "      <th>International cooperation</th>\n",
       "      <td>0.805809</td>\n",
       "      <td>0.843016</td>\n",
       "      <td>1.000000</td>\n",
       "      <td>0.851945</td>\n",
       "      <td>0.678891</td>\n",
       "      <td>0.747885</td>\n",
       "      <td>0.771237</td>\n",
       "      <td>0.769248</td>\n",
       "      <td>-0.286804</td>\n",
       "    </tr>\n",
       "    <tr>\n",
       "      <th>National policies and laws</th>\n",
       "      <td>0.834768</td>\n",
       "      <td>0.830748</td>\n",
       "      <td>0.851945</td>\n",
       "      <td>1.000000</td>\n",
       "      <td>0.725738</td>\n",
       "      <td>0.775929</td>\n",
       "      <td>0.776137</td>\n",
       "      <td>0.776546</td>\n",
       "      <td>-0.432648</td>\n",
       "    </tr>\n",
       "    <tr>\n",
       "      <th>Territorial integrity</th>\n",
       "      <td>0.732597</td>\n",
       "      <td>0.704711</td>\n",
       "      <td>0.678891</td>\n",
       "      <td>0.725738</td>\n",
       "      <td>1.000000</td>\n",
       "      <td>0.698882</td>\n",
       "      <td>0.729612</td>\n",
       "      <td>0.687587</td>\n",
       "      <td>-0.441328</td>\n",
       "    </tr>\n",
       "    <tr>\n",
       "      <th>Anti-money laundering</th>\n",
       "      <td>0.719293</td>\n",
       "      <td>0.756305</td>\n",
       "      <td>0.747885</td>\n",
       "      <td>0.775929</td>\n",
       "      <td>0.698882</td>\n",
       "      <td>1.000000</td>\n",
       "      <td>0.791036</td>\n",
       "      <td>0.679617</td>\n",
       "      <td>-0.319440</td>\n",
       "    </tr>\n",
       "    <tr>\n",
       "      <th>Economic regulatory capacity</th>\n",
       "      <td>0.768100</td>\n",
       "      <td>0.786285</td>\n",
       "      <td>0.771237</td>\n",
       "      <td>0.776137</td>\n",
       "      <td>0.729612</td>\n",
       "      <td>0.791036</td>\n",
       "      <td>1.000000</td>\n",
       "      <td>0.803222</td>\n",
       "      <td>-0.320645</td>\n",
       "    </tr>\n",
       "    <tr>\n",
       "      <th>Victim and witness support</th>\n",
       "      <td>0.753358</td>\n",
       "      <td>0.789386</td>\n",
       "      <td>0.769248</td>\n",
       "      <td>0.776546</td>\n",
       "      <td>0.687587</td>\n",
       "      <td>0.679617</td>\n",
       "      <td>0.803222</td>\n",
       "      <td>1.000000</td>\n",
       "      <td>-0.367162</td>\n",
       "    </tr>\n",
       "    <tr>\n",
       "      <th>Criminality</th>\n",
       "      <td>-0.490887</td>\n",
       "      <td>-0.467097</td>\n",
       "      <td>-0.286804</td>\n",
       "      <td>-0.432648</td>\n",
       "      <td>-0.441328</td>\n",
       "      <td>-0.319440</td>\n",
       "      <td>-0.320645</td>\n",
       "      <td>-0.367162</td>\n",
       "      <td>1.000000</td>\n",
       "    </tr>\n",
       "  </tbody>\n",
       "</table>\n",
       "</div>"
      ],
      "text/plain": [
       "                                            Political leadership and governance  \\\n",
       "Political leadership and governance                                    1.000000   \n",
       "Government transparency and accountability                             0.871555   \n",
       "International cooperation                                              0.805809   \n",
       "National policies and laws                                             0.834768   \n",
       "Territorial integrity                                                  0.732597   \n",
       "Anti-money laundering                                                  0.719293   \n",
       "Economic regulatory capacity                                           0.768100   \n",
       "Victim and witness support                                             0.753358   \n",
       "Criminality                                                           -0.490887   \n",
       "\n",
       "                                            Government transparency and accountability  \\\n",
       "Political leadership and governance                                           0.871555   \n",
       "Government transparency and accountability                                    1.000000   \n",
       "International cooperation                                                     0.843016   \n",
       "National policies and laws                                                    0.830748   \n",
       "Territorial integrity                                                         0.704711   \n",
       "Anti-money laundering                                                         0.756305   \n",
       "Economic regulatory capacity                                                  0.786285   \n",
       "Victim and witness support                                                    0.789386   \n",
       "Criminality                                                                  -0.467097   \n",
       "\n",
       "                                            International cooperation  \\\n",
       "Political leadership and governance                          0.805809   \n",
       "Government transparency and accountability                   0.843016   \n",
       "International cooperation                                    1.000000   \n",
       "National policies and laws                                   0.851945   \n",
       "Territorial integrity                                        0.678891   \n",
       "Anti-money laundering                                        0.747885   \n",
       "Economic regulatory capacity                                 0.771237   \n",
       "Victim and witness support                                   0.769248   \n",
       "Criminality                                                 -0.286804   \n",
       "\n",
       "                                            National policies and laws  \\\n",
       "Political leadership and governance                           0.834768   \n",
       "Government transparency and accountability                    0.830748   \n",
       "International cooperation                                     0.851945   \n",
       "National policies and laws                                    1.000000   \n",
       "Territorial integrity                                         0.725738   \n",
       "Anti-money laundering                                         0.775929   \n",
       "Economic regulatory capacity                                  0.776137   \n",
       "Victim and witness support                                    0.776546   \n",
       "Criminality                                                  -0.432648   \n",
       "\n",
       "                                            Territorial integrity  \\\n",
       "Political leadership and governance                      0.732597   \n",
       "Government transparency and accountability               0.704711   \n",
       "International cooperation                                0.678891   \n",
       "National policies and laws                               0.725738   \n",
       "Territorial integrity                                    1.000000   \n",
       "Anti-money laundering                                    0.698882   \n",
       "Economic regulatory capacity                             0.729612   \n",
       "Victim and witness support                               0.687587   \n",
       "Criminality                                             -0.441328   \n",
       "\n",
       "                                            Anti-money laundering  \\\n",
       "Political leadership and governance                      0.719293   \n",
       "Government transparency and accountability               0.756305   \n",
       "International cooperation                                0.747885   \n",
       "National policies and laws                               0.775929   \n",
       "Territorial integrity                                    0.698882   \n",
       "Anti-money laundering                                    1.000000   \n",
       "Economic regulatory capacity                             0.791036   \n",
       "Victim and witness support                               0.679617   \n",
       "Criminality                                             -0.319440   \n",
       "\n",
       "                                            Economic regulatory capacity  \\\n",
       "Political leadership and governance                             0.768100   \n",
       "Government transparency and accountability                      0.786285   \n",
       "International cooperation                                       0.771237   \n",
       "National policies and laws                                      0.776137   \n",
       "Territorial integrity                                           0.729612   \n",
       "Anti-money laundering                                           0.791036   \n",
       "Economic regulatory capacity                                    1.000000   \n",
       "Victim and witness support                                      0.803222   \n",
       "Criminality                                                    -0.320645   \n",
       "\n",
       "                                            Victim and witness support  \\\n",
       "Political leadership and governance                           0.753358   \n",
       "Government transparency and accountability                    0.789386   \n",
       "International cooperation                                     0.769248   \n",
       "National policies and laws                                    0.776546   \n",
       "Territorial integrity                                         0.687587   \n",
       "Anti-money laundering                                         0.679617   \n",
       "Economic regulatory capacity                                  0.803222   \n",
       "Victim and witness support                                    1.000000   \n",
       "Criminality                                                  -0.367162   \n",
       "\n",
       "                                            Criminality  \n",
       "Political leadership and governance           -0.490887  \n",
       "Government transparency and accountability    -0.467097  \n",
       "International cooperation                     -0.286804  \n",
       "National policies and laws                    -0.432648  \n",
       "Territorial integrity                         -0.441328  \n",
       "Anti-money laundering                         -0.319440  \n",
       "Economic regulatory capacity                  -0.320645  \n",
       "Victim and witness support                    -0.367162  \n",
       "Criminality                                    1.000000  "
      ]
     },
     "execution_count": 52,
     "metadata": {},
     "output_type": "execute_result"
    }
   ],
   "source": [
    "correlation_matrix"
   ]
  },
  {
   "cell_type": "code",
   "execution_count": 53,
   "metadata": {},
   "outputs": [
    {
     "data": {
      "image/png": "[encoded data removed]",
      "text/plain": [
       "<Figure size 1200x800 with 2 Axes>"
      ]
     },
     "metadata": {},
     "output_type": "display_data"
    }
   ],
   "source": [
    "#Trying to visualize the correlation matrix using the heatmap.\n",
    "plt.figure(figsize=(12, 8))\n",
    "sns.heatmap(correlation_matrix, annot=True, cmap='coolwarm', fmt=\".2f\")\n",
    "plt.title('Correlation between Organized Crime Index and Resilience & Governance Factors')\n",
    "plt.show()"
   ]
  },
  {
   "cell_type": "code",
   "execution_count": 54,
   "metadata": {},
   "outputs": [
    {
     "name": "stdout",
     "output_type": "stream",
     "text": [
      "Correlation coefficients between organized crime index and resilience & governance factors:\n",
      "International cooperation                    -0.286804\n",
      "Anti-money laundering                        -0.319440\n",
      "Economic regulatory capacity                 -0.320645\n",
      "Victim and witness support                   -0.367162\n",
      "National policies and laws                   -0.432648\n",
      "Territorial integrity                        -0.441328\n",
      "Government transparency and accountability   -0.467097\n",
      "Political leadership and governance          -0.490887\n",
      "Name: Criminality, dtype: float64\n"
     ]
    }
   ],
   "source": [
    "# Analyzing the impact of resilience and governance factors on organized crime\n",
    "print(\"Correlation coefficients between organized crime index and resilience & governance factors:\")\n",
    "print(correlation_matrix['Criminality'].drop('Criminality').sort_values(ascending=False))"
   ]
  },
  {
   "cell_type": "code",
   "execution_count": 56,
   "metadata": {},
   "outputs": [],
   "source": [
    "import plotly.express as px"
   ]
  },
  {
   "cell_type": "code",
   "execution_count": 65,
   "metadata": {},
   "outputs": [],
   "source": [
    "#Creating a choropleth chart.\n",
    "fig1 = px.choropleth(df1, locations = 'Country', color = 'Criminality', scope='world')"
   ]
  },
  {
   "cell_type": "code",
   "execution_count": 66,
   "metadata": {},
   "outputs": [],
   "source": [
    "#Creating a scatter chart\n",
    "fig2 = px.scatter(df1, x='GDP_per_capita', y='Criminality', trendline='ols')"
   ]
  },
  {
   "cell_type": "code",
   "execution_count": 67,
   "metadata": {},
   "outputs": [],
   "source": [
    "#Creating a line chart\n",
    "fig3 = px.line(df1, x='Year', y='Criminality')"
   ]
  },
  {
   "cell_type": "code",
   "execution_count": 68,
   "metadata": {},
   "outputs": [],
   "source": [
    "#Creating a bar chart\n",
    "fig4 = px.bar(df1, x='Criminal markets', y='Criminality')"
   ]
  },
  {
   "cell_type": "code",
   "execution_count": 69,
   "metadata": {},
   "outputs": [
    {
     "data": {
      "application/vnd.plotly.v1+json": {
       "config": {
        "plotlyServerURL": "https://plot.ly"
       },
       "data": [
        {
         "coloraxis": "coloraxis",
         "geo": "geo",
         "hovertemplate": "Country=%{location}<br>Criminality=%{z}<extra></extra>",
         "locations": [
          "Turkey",
          "Cabo Verde",
          "South Africa",
          "Colombia",
          "Peru",
          "Iraq",
          "Suriname",
          "Venezuela",
          "Mauritius",
          "Botswana",
          "Iran",
          "Guyana",
          "Senegal",
          "Brazil",
          "Cambodia",
          "Nigeria",
          "Philippines",
          "Rwanda",
          "Ghana",
          "Ethiopia",
          "Bolivia",
          "Kenya",
          "Afghanistan",
          "Indonesia",
          "Gambia",
          "Namibia",
          "Mexico",
          "Sao Tome and Principe",
          "Tunisia",
          "Algeria",
          "Morocco",
          "Seychelles",
          "Djibouti",
          "India",
          "Angola",
          "Saudi Arabia",
          "Côte d'Ivoire",
          "Switzerland",
          "Yemen",
          "Tajikistan",
          "Zambia",
          "Syria",
          "Turkmenistan",
          "Ireland",
          "Korea, DPR",
          "Malawi",
          "Myanmar",
          "Nepal",
          "Tanzania",
          "Ecuador",
          "Egypt",
          "Costa Rica",
          "Togo",
          "Bahrain",
          "Uganda",
          "Uzbekistan",
          "Vietnam",
          "Thailand",
          "Panama",
          "United Arab Emirates",
          "Nicaragua",
          "Kuwait",
          "Lesotho",
          "Burkina Faso",
          "Haiti",
          "Azerbaijan",
          "Malaysia",
          "Benin",
          "Papua New Guinea",
          "Oman",
          "Pakistan",
          "Sierra Leone",
          "France",
          "Netherlands",
          "Kyrgyzstan",
          "Andorra",
          "Madagascar",
          "Israel",
          "Belgium",
          "Qatar",
          "Honduras",
          "Mozambique",
          "Germany",
          "United Kingdom",
          "Austria",
          "Congo, Rep.",
          "Lebanon",
          "Liechtenstein",
          "China",
          "Bhutan",
          "Luxembourg",
          "United States",
          "Kazakhstan",
          "Dominican Republic",
          "Eswatini",
          "Italy",
          "Niger",
          "Malta",
          "Zimbabwe",
          "Liberia",
          "Mongolia",
          "Gabon",
          "Portugal",
          "Greece",
          "Cuba",
          "Cameroon",
          "Mauritania",
          "Sudan",
          "Guinea",
          "Paraguay",
          "Bangladesh",
          "Armenia",
          "Spain",
          "Cyprus",
          "Monaco",
          "Chad",
          "Nauru",
          "San Marino",
          "Guinea-Bissau",
          "Japan",
          "Norway",
          "Belize",
          "Mali",
          "Sri Lanka",
          "Estonia",
          "Sweden",
          "Georgia",
          "Denmark",
          "Argentina",
          "Latvia",
          "Lithuania",
          "Canada",
          "Finland",
          "Grenada",
          "Iceland",
          "Comoros",
          "Ukraine",
          "Solomon Islands",
          "Guatemala",
          "Albania",
          "Poland",
          "Kiribati",
          "Russia",
          "Timor-Leste",
          "Eritrea",
          "Korea, Rep.",
          "Chile",
          "Fiji",
          "Bahamas",
          "Brunei",
          "Bulgaria",
          "Congo, Dem. Rep.",
          "Australia",
          "Belarus",
          "Tonga",
          "Croatia",
          "Romania",
          "Equatorial Guinea",
          "Serbia",
          "Samoa",
          "St. Kitts and Nevis",
          "Hungary",
          "Montenegro",
          "Trinidad and Tobago",
          "Czech Republic",
          "Barbados",
          "Laos",
          "Palau",
          "El Salvador",
          "Vanuatu",
          "Singapore",
          "Jordan",
          "New Zealand",
          "Antigua and Barbuda",
          "Bosnia and Herzegovina",
          "North Macedonia",
          "Slovakia",
          "Moldova",
          "Marshall Islands",
          "Micronesia (Federated States of)",
          "Burundi",
          "Central African Republic",
          "Tuvalu",
          "Maldives",
          "South Sudan",
          "Somalia",
          "Uruguay",
          "Libya",
          "Jamaica",
          "St. Vincent and the Grenadines",
          "Slovenia",
          "St. Lucia",
          "Dominica"
         ],
         "name": "",
         "type": "choropleth",
         "z": [
          6.89,
          4.04,
          6.63,
          7.66,
          6.35,
          7.05,
          4.9,
          6.64,
          4.51,
          3.71,
          7.1,
          5.1,
          4.81,
          6.5,
          5.83,
          7.15,
          6.84,
          3.68,
          6.01,
          4.79,
          4.3,
          6.95,
          7.08,
          6.38,
          4.83,
          4.33,
          7.56,
          1.78,
          3.79,
          4.51,
          4.79,
          3.68,
          3.99,
          5.53,
          5.29,
          6.01,
          6.15,
          4.34,
          6.13,
          5.61,
          4.93,
          6.84,
          4.61,
          4.9,
          4.78,
          3.83,
          7.59,
          6.16,
          6.15,
          6.25,
          5.16,
          4.99,
          5.33,
          4.83,
          6.14,
          4.96,
          6.28,
          5.76,
          6.68,
          5.75,
          6.06,
          5.14,
          3.9,
          5.49,
          5.73,
          5.08,
          5.94,
          5.25,
          5.44,
          4.14,
          6.28,
          5.4,
          5.66,
          4.69,
          5.33,
          2.96,
          5.59,
          4.41,
          4.34,
          5.21,
          6.98,
          6.53,
          4.9,
          4.89,
          4.04,
          5.03,
          6.76,
          1.88,
          6.01,
          3.69,
          2.36,
          5.5,
          4.26,
          5.15,
          3.63,
          5.81,
          6.01,
          4.65,
          5.66,
          5.05,
          4.01,
          4.9,
          4.55,
          4.93,
          3.44,
          6.31,
          4.38,
          6.46,
          5.2,
          6.7,
          4.98,
          3.26,
          5.78,
          4.19,
          2.43,
          5.86,
          1.76,
          3.01,
          5.45,
          4.53,
          3.81,
          4.64,
          5.89,
          4.64,
          3.6,
          4.56,
          2.96,
          3.86,
          4.38,
          3.51,
          3.31,
          3.66,
          2.71,
          3.05,
          3.39,
          3.86,
          6.18,
          4.15,
          6.48,
          5.63,
          4.01,
          2.35,
          6.24,
          3.96,
          4.34,
          4.91,
          4.6,
          3.9,
          3.79,
          2.76,
          5.43,
          7.75,
          4,
          5.08,
          3.78,
          5.06,
          4.59,
          4.11,
          6.21,
          2.04,
          4.1,
          4.5,
          6,
          4.94,
          4.63,
          3.21,
          5.51,
          2.94,
          5.94,
          2.2,
          3.13,
          4.71,
          3.25,
          3.34,
          5.89,
          5.31,
          4.69,
          4.45,
          2.31,
          3.3,
          4.51,
          7.04,
          1.54,
          4.06,
          6.34,
          5.79,
          2.69,
          6.55,
          5.91,
          3.3,
          4.29,
          4.09,
          2.63
         ]
        }
       ],
       "layout": {
        "coloraxis": {
         "colorbar": {
          "title": {
           "text": "Criminality"
          }
         },
         "colorscale": [
          [
           0,
           "#0d0887"
          ],
          [
           0.1111111111111111,
           "#46039f"
          ],
          [
           0.2222222222222222,
           "#7201a8"
          ],
          [
           0.3333333333333333,
           "#9c179e"
          ],
          [
           0.4444444444444444,
           "#bd3786"
          ],
          [
           0.5555555555555556,
           "#d8576b"
          ],
          [
           0.6666666666666666,
           "#ed7953"
          ],
          [
           0.7777777777777778,
           "#fb9f3a"
          ],
          [
           0.8888888888888888,
           "#fdca26"
          ],
          [
           1,
           "#f0f921"
          ]
         ]
        },
        "geo": {
         "center": {},
         "domain": {
          "x": [
           0,
           1
          ],
          "y": [
           0,
           1
          ]
         },
         "scope": "world"
        },
        "legend": {
         "tracegroupgap": 0
        },
        "margin": {
         "t": 60
        },
        "template": {
         "data": {
          "bar": [
           {
            "error_x": {
             "color": "#2a3f5f"
            },
            "error_y": {
             "color": "#2a3f5f"
            },
            "marker": {
             "line": {
              "color": "#E5ECF6",
              "width": 0.5
             },
             "pattern": {
              "fillmode": "overlay",
              "size": 10,
              "solidity": 0.2
             }
            },
            "type": "bar"
           }
          ],
          "barpolar": [
           {
            "marker": {
             "line": {
              "color": "#E5ECF6",
              "width": 0.5
             },
             "pattern": {
              "fillmode": "overlay",
              "size": 10,
              "solidity": 0.2
             }
            },
            "type": "barpolar"
           }
          ],
          "carpet": [
           {
            "aaxis": {
             "endlinecolor": "#2a3f5f",
             "gridcolor": "white",
             "linecolor": "white",
             "minorgridcolor": "white",
             "startlinecolor": "#2a3f5f"
            },
            "baxis": {
             "endlinecolor": "#2a3f5f",
             "gridcolor": "white",
             "linecolor": "white",
             "minorgridcolor": "white",
             "startlinecolor": "#2a3f5f"
            },
            "type": "carpet"
           }
          ],
          "choropleth": [
           {
            "colorbar": {
             "outlinewidth": 0,
             "ticks": ""
            },
            "type": "choropleth"
           }
          ],
          "contour": [
           {
            "colorbar": {
             "outlinewidth": 0,
             "ticks": ""
            },
            "colorscale": [
             [
              0,
              "#0d0887"
             ],
             [
              0.1111111111111111,
              "#46039f"
             ],
             [
              0.2222222222222222,
              "#7201a8"
             ],
             [
              0.3333333333333333,
              "#9c179e"
             ],
             [
              0.4444444444444444,
              "#bd3786"
             ],
             [
              0.5555555555555556,
              "#d8576b"
             ],
             [
              0.6666666666666666,
              "#ed7953"
             ],
             [
              0.7777777777777778,
              "#fb9f3a"
             ],
             [
              0.8888888888888888,
              "#fdca26"
             ],
             [
              1,
              "#f0f921"
             ]
            ],
            "type": "contour"
           }
          ],
          "contourcarpet": [
           {
            "colorbar": {
             "outlinewidth": 0,
             "ticks": ""
            },
            "type": "contourcarpet"
           }
          ],
          "heatmap": [
           {
            "colorbar": {
             "outlinewidth": 0,
             "ticks": ""
            },
            "colorscale": [
             [
              0,
              "#0d0887"
             ],
             [
              0.1111111111111111,
              "#46039f"
             ],
             [
              0.2222222222222222,
              "#7201a8"
             ],
             [
              0.3333333333333333,
              "#9c179e"
             ],
             [
              0.4444444444444444,
              "#bd3786"
             ],
             [
              0.5555555555555556,
              "#d8576b"
             ],
             [
              0.6666666666666666,
              "#ed7953"
             ],
             [
              0.7777777777777778,
              "#fb9f3a"
             ],
             [
              0.8888888888888888,
              "#fdca26"
             ],
             [
              1,
              "#f0f921"
             ]
            ],
            "type": "heatmap"
           }
          ],
          "heatmapgl": [
           {
            "colorbar": {
             "outlinewidth": 0,
             "ticks": ""
            },
            "colorscale": [
             [
              0,
              "#0d0887"
             ],
             [
              0.1111111111111111,
              "#46039f"
             ],
             [
              0.2222222222222222,
              "#7201a8"
             ],
             [
              0.3333333333333333,
              "#9c179e"
             ],
             [
              0.4444444444444444,
              "#bd3786"
             ],
             [
              0.5555555555555556,
              "#d8576b"
             ],
             [
              0.6666666666666666,
              "#ed7953"
             ],
             [
              0.7777777777777778,
              "#fb9f3a"
             ],
             [
              0.8888888888888888,
              "#fdca26"
             ],
             [
              1,
              "#f0f921"
             ]
            ],
            "type": "heatmapgl"
           }
          ],
          "histogram": [
           {
            "marker": {
             "pattern": {
              "fillmode": "overlay",
              "size": 10,
              "solidity": 0.2
             }
            },
            "type": "histogram"
           }
          ],
          "histogram2d": [
           {
            "colorbar": {
             "outlinewidth": 0,
             "ticks": ""
            },
            "colorscale": [
             [
              0,
              "#0d0887"
             ],
             [
              0.1111111111111111,
              "#46039f"
             ],
             [
              0.2222222222222222,
              "#7201a8"
             ],
             [
              0.3333333333333333,
              "#9c179e"
             ],
             [
              0.4444444444444444,
              "#bd3786"
             ],
             [
              0.5555555555555556,
              "#d8576b"
             ],
             [
              0.6666666666666666,
              "#ed7953"
             ],
             [
              0.7777777777777778,
              "#fb9f3a"
             ],
             [
              0.8888888888888888,
              "#fdca26"
             ],
             [
              1,
              "#f0f921"
             ]
            ],
            "type": "histogram2d"
           }
          ],
          "histogram2dcontour": [
           {
            "colorbar": {
             "outlinewidth": 0,
             "ticks": ""
            },
            "colorscale": [
             [
              0,
              "#0d0887"
             ],
             [
              0.1111111111111111,
              "#46039f"
             ],
             [
              0.2222222222222222,
              "#7201a8"
             ],
             [
              0.3333333333333333,
              "#9c179e"
             ],
             [
              0.4444444444444444,
              "#bd3786"
             ],
             [
              0.5555555555555556,
              "#d8576b"
             ],
             [
              0.6666666666666666,
              "#ed7953"
             ],
             [
              0.7777777777777778,
              "#fb9f3a"
             ],
             [
              0.8888888888888888,
              "#fdca26"
             ],
             [
              1,
              "#f0f921"
             ]
            ],
            "type": "histogram2dcontour"
           }
          ],
          "mesh3d": [
           {
            "colorbar": {
             "outlinewidth": 0,
             "ticks": ""
            },
            "type": "mesh3d"
           }
          ],
          "parcoords": [
           {
            "line": {
             "colorbar": {
              "outlinewidth": 0,
              "ticks": ""
             }
            },
            "type": "parcoords"
           }
          ],
          "pie": [
           {
            "automargin": true,
            "type": "pie"
           }
          ],
          "scatter": [
           {
            "fillpattern": {
             "fillmode": "overlay",
             "size": 10,
             "solidity": 0.2
            },
            "type": "scatter"
           }
          ],
          "scatter3d": [
           {
            "line": {
             "colorbar": {
              "outlinewidth": 0,
              "ticks": ""
             }
            },
            "marker": {
             "colorbar": {
              "outlinewidth": 0,
              "ticks": ""
             }
            },
            "type": "scatter3d"
           }
          ],
          "scattercarpet": [
           {
            "marker": {
             "colorbar": {
              "outlinewidth": 0,
              "ticks": ""
             }
            },
            "type": "scattercarpet"
           }
          ],
          "scattergeo": [
           {
            "marker": {
             "colorbar": {
              "outlinewidth": 0,
              "ticks": ""
             }
            },
            "type": "scattergeo"
           }
          ],
          "scattergl": [
           {
            "marker": {
             "colorbar": {
              "outlinewidth": 0,
              "ticks": ""
             }
            },
            "type": "scattergl"
           }
          ],
          "scattermapbox": [
           {
            "marker": {
             "colorbar": {
              "outlinewidth": 0,
              "ticks": ""
             }
            },
            "type": "scattermapbox"
           }
          ],
          "scatterpolar": [
           {
            "marker": {
             "colorbar": {
              "outlinewidth": 0,
              "ticks": ""
             }
            },
            "type": "scatterpolar"
           }
          ],
          "scatterpolargl": [
           {
            "marker": {
             "colorbar": {
              "outlinewidth": 0,
              "ticks": ""
             }
            },
            "type": "scatterpolargl"
           }
          ],
          "scatterternary": [
           {
            "marker": {
             "colorbar": {
              "outlinewidth": 0,
              "ticks": ""
             }
            },
            "type": "scatterternary"
           }
          ],
          "surface": [
           {
            "colorbar": {
             "outlinewidth": 0,
             "ticks": ""
            },
            "colorscale": [
             [
              0,
              "#0d0887"
             ],
             [
              0.1111111111111111,
              "#46039f"
             ],
             [
              0.2222222222222222,
              "#7201a8"
             ],
             [
              0.3333333333333333,
              "#9c179e"
             ],
             [
              0.4444444444444444,
              "#bd3786"
             ],
             [
              0.5555555555555556,
              "#d8576b"
             ],
             [
              0.6666666666666666,
              "#ed7953"
             ],
             [
              0.7777777777777778,
              "#fb9f3a"
             ],
             [
              0.8888888888888888,
              "#fdca26"
             ],
             [
              1,
              "#f0f921"
             ]
            ],
            "type": "surface"
           }
          ],
          "table": [
           {
            "cells": {
             "fill": {
              "color": "#EBF0F8"
             },
             "line": {
              "color": "white"
             }
            },
            "header": {
             "fill": {
              "color": "#C8D4E3"
             },
             "line": {
              "color": "white"
             }
            },
            "type": "table"
           }
          ]
         },
         "layout": {
          "annotationdefaults": {
           "arrowcolor": "#2a3f5f",
           "arrowhead": 0,
           "arrowwidth": 1
          },
          "autotypenumbers": "strict",
          "coloraxis": {
           "colorbar": {
            "outlinewidth": 0,
            "ticks": ""
           }
          },
          "colorscale": {
           "diverging": [
            [
             0,
             "#8e0152"
            ],
            [
             0.1,
             "#c51b7d"
            ],
            [
             0.2,
             "#de77ae"
            ],
            [
             0.3,
             "#f1b6da"
            ],
            [
             0.4,
             "#fde0ef"
            ],
            [
             0.5,
             "#f7f7f7"
            ],
            [
             0.6,
             "#e6f5d0"
            ],
            [
             0.7,
             "#b8e186"
            ],
            [
             0.8,
             "#7fbc41"
            ],
            [
             0.9,
             "#4d9221"
            ],
            [
             1,
             "#276419"
            ]
           ],
           "sequential": [
            [
             0,
             "#0d0887"
            ],
            [
             0.1111111111111111,
             "#46039f"
            ],
            [
             0.2222222222222222,
             "#7201a8"
            ],
            [
             0.3333333333333333,
             "#9c179e"
            ],
            [
             0.4444444444444444,
             "#bd3786"
            ],
            [
             0.5555555555555556,
             "#d8576b"
            ],
            [
             0.6666666666666666,
             "#ed7953"
            ],
            [
             0.7777777777777778,
             "#fb9f3a"
            ],
            [
             0.8888888888888888,
             "#fdca26"
            ],
            [
             1,
             "#f0f921"
            ]
           ],
           "sequentialminus": [
            [
             0,
             "#0d0887"
            ],
            [
             0.1111111111111111,
             "#46039f"
            ],
            [
             0.2222222222222222,
             "#7201a8"
            ],
            [
             0.3333333333333333,
             "#9c179e"
            ],
            [
             0.4444444444444444,
             "#bd3786"
            ],
            [
             0.5555555555555556,
             "#d8576b"
            ],
            [
             0.6666666666666666,
             "#ed7953"
            ],
            [
             0.7777777777777778,
             "#fb9f3a"
            ],
            [
             0.8888888888888888,
             "#fdca26"
            ],
            [
             1,
             "#f0f921"
            ]
           ]
          },
          "colorway": [
           "#636efa",
           "#EF553B",
           "#00cc96",
           "#ab63fa",
           "#FFA15A",
           "#19d3f3",
           "#FF6692",
           "#B6E880",
           "#FF97FF",
           "#FECB52"
          ],
          "font": {
           "color": "#2a3f5f"
          },
          "geo": {
           "bgcolor": "white",
           "lakecolor": "white",
           "landcolor": "#E5ECF6",
           "showlakes": true,
           "showland": true,
           "subunitcolor": "white"
          },
          "hoverlabel": {
           "align": "left"
          },
          "hovermode": "closest",
          "mapbox": {
           "style": "light"
          },
          "paper_bgcolor": "white",
          "plot_bgcolor": "#E5ECF6",
          "polar": {
           "angularaxis": {
            "gridcolor": "white",
            "linecolor": "white",
            "ticks": ""
           },
           "bgcolor": "#E5ECF6",
           "radialaxis": {
            "gridcolor": "white",
            "linecolor": "white",
            "ticks": ""
           }
          },
          "scene": {
           "xaxis": {
            "backgroundcolor": "#E5ECF6",
            "gridcolor": "white",
            "gridwidth": 2,
            "linecolor": "white",
            "showbackground": true,
            "ticks": "",
            "zerolinecolor": "white"
           },
           "yaxis": {
            "backgroundcolor": "#E5ECF6",
            "gridcolor": "white",
            "gridwidth": 2,
            "linecolor": "white",
            "showbackground": true,
            "ticks": "",
            "zerolinecolor": "white"
           },
           "zaxis": {
            "backgroundcolor": "#E5ECF6",
            "gridcolor": "white",
            "gridwidth": 2,
            "linecolor": "white",
            "showbackground": true,
            "ticks": "",
            "zerolinecolor": "white"
           }
          },
          "shapedefaults": {
           "line": {
            "color": "#2a3f5f"
           }
          },
          "ternary": {
           "aaxis": {
            "gridcolor": "white",
            "linecolor": "white",
            "ticks": ""
           },
           "baxis": {
            "gridcolor": "white",
            "linecolor": "white",
            "ticks": ""
           },
           "bgcolor": "#E5ECF6",
           "caxis": {
            "gridcolor": "white",
            "linecolor": "white",
            "ticks": ""
           }
          },
          "title": {
           "x": 0.05
          },
          "xaxis": {
           "automargin": true,
           "gridcolor": "white",
           "linecolor": "white",
           "ticks": "",
           "title": {
            "standoff": 15
           },
           "zerolinecolor": "white",
           "zerolinewidth": 2
          },
          "yaxis": {
           "automargin": true,
           "gridcolor": "white",
           "linecolor": "white",
           "ticks": "",
           "title": {
            "standoff": 15
           },
           "zerolinecolor": "white",
           "zerolinewidth": 2
          }
         }
        }
       }
      }
     },
     "metadata": {},
     "output_type": "display_data"
    },
    {
     "data": {
      "application/vnd.plotly.v1+json": {
       "config": {
        "plotlyServerURL": "https://plot.ly"
       },
       "data": [
        {
         "hovertemplate": "GDP_per_capita=%{x}<br>Criminality=%{y}<extra></extra>",
         "legendgroup": "",
         "marker": {
          "color": "#636efa",
          "symbol": "circle"
         },
         "mode": "markers",
         "name": "",
         "orientation": "v",
         "showlegend": false,
         "type": "scatter",
         "x": [
          9661.23,
          3293.23,
          7055.06,
          6104.14,
          6621.65,
          4686.13,
          5259.26,
          3965.03,
          8872.96,
          6805.25,
          6766.02,
          9998.55,
          1636.88,
          7507.16,
          1607.66,
          2019.31,
          3460.53,
          822.32,
          2408.63,
          825.29,
          3345.2,
          2081.8,
          372.55,
          4332.71,
          772.15,
          4836.17,
          10045.68,
          2485.82,
          3807.18,
          3700.32,
          3853.28,
          12084.63,
          3348.01,
          2274.48,
          2044.22,
          23185.87,
          2538.91,
          93525.37,
          301.59,
          897.05,
          1094.5,
          924.71,
          8507.67,
          101108.99,
          654.15,
          613.34,
          1088.93,
          1205.5,
          1136.19,
          5965.13,
          3898.02,
          12472.44,
          943.94,
          26562.97,
          930.37,
          2031.57,
          3756.49,
          7066.68,
          14617.6,
          43295.39,
          2045.53,
          32150.18,
          1040.31,
          893.08,
          1663.56,
          5296.44,
          11100.94,
          1360.91,
          2672.97,
          19509.47,
          1480.11,
          504.62,
          44229.39,
          57871.35,
          1339.01,
          42066.04,
          499.72,
          54111.02,
          51165.51,
          66798.77,
          2771.72,
          491.84,
          51073.12,
          46541.76,
          53840.39,
          2200.32,
          6784.8,
          169260.22,
          12437.21,
          3062.91,
          133745.4,
          69184.7,
          10054.89,
          8476.75,
          3968.91,
          35578.85,
          590.63,
          33641.6,
          1507.99,
          470.77,
          4509.86,
          7910.85,
          24651.18,
          20571.22,
          11255.28,
          1668.01,
          2166.04,
          785.58,
          1185.06,
          6035.14,
          2449.91,
          4966.52,
          30058.39,
          32280.93,
          234317.08,
          955.17,
          12390.37,
          50425.1,
          758.55,
          39649.93,
          89241.71,
          6228.7,
          874.55,
          3918.02,
          27990.62,
          60729.71,
          4975.12,
          68036.72,
          10761.08,
          21267.46,
          23844.13,
          52112.06,
          53703.45,
          8950.23,
          69133.13,
          1631.48,
          4596.35,
          2305.98,
          4883.21,
          6396.46,
          17736.42,
          1764.93,
          12258.77,
          1517.22,
          622.98,
          34940.41,
          16265.1,
          4646.54,
          27478.39,
          31448.91,
          12207.26,
          551.13,
          66915.86,
          7121,
          4450.53,
          16983.45,
          14697.75,
          7605.45,
          8643.29,
          3918.66,
          18082.69,
          18728.32,
          9252.31,
          16032.5,
          26808.54,
          17225.46,
          2568.92,
          12084.13,
          4551.18,
          3072.57,
          66821.72,
          4058.35,
          48823.51,
          15245.82,
          7143.28,
          6599.62,
          21390.45,
          4468.42,
          6111.27,
          3572.66,
          310.71,
          461.36,
          5370.42,
          10366.29,
          400.44,
          447,
          17312.64,
          5791.25,
          5183.58,
          8440.03,
          29134.8,
          9824.06,
          7570.78
         ],
         "xaxis": "x",
         "y": [
          6.89,
          4.04,
          6.63,
          7.66,
          6.35,
          7.05,
          4.9,
          6.64,
          4.51,
          3.71,
          7.1,
          5.1,
          4.81,
          6.5,
          5.83,
          7.15,
          6.84,
          3.68,
          6.01,
          4.79,
          4.3,
          6.95,
          7.08,
          6.38,
          4.83,
          4.33,
          7.56,
          1.78,
          3.79,
          4.51,
          4.79,
          3.68,
          3.99,
          5.53,
          5.29,
          6.01,
          6.15,
          4.34,
          6.13,
          5.61,
          4.93,
          6.84,
          4.61,
          4.9,
          4.78,
          3.83,
          7.59,
          6.16,
          6.15,
          6.25,
          5.16,
          4.99,
          5.33,
          4.83,
          6.14,
          4.96,
          6.28,
          5.76,
          6.68,
          5.75,
          6.06,
          5.14,
          3.9,
          5.49,
          5.73,
          5.08,
          5.94,
          5.25,
          5.44,
          4.14,
          6.28,
          5.4,
          5.66,
          4.69,
          5.33,
          2.96,
          5.59,
          4.41,
          4.34,
          5.21,
          6.98,
          6.53,
          4.9,
          4.89,
          4.04,
          5.03,
          6.76,
          1.88,
          6.01,
          3.69,
          2.36,
          5.5,
          4.26,
          5.15,
          3.63,
          5.81,
          6.01,
          4.65,
          5.66,
          5.05,
          4.01,
          4.9,
          4.55,
          4.93,
          3.44,
          6.31,
          4.38,
          6.46,
          5.2,
          6.7,
          4.98,
          3.26,
          5.78,
          4.19,
          2.43,
          5.86,
          1.76,
          3.01,
          5.45,
          4.53,
          3.81,
          4.64,
          5.89,
          4.64,
          3.6,
          4.56,
          2.96,
          3.86,
          4.38,
          3.51,
          3.31,
          3.66,
          2.71,
          3.05,
          3.39,
          3.86,
          6.18,
          4.15,
          6.48,
          5.63,
          4.01,
          2.35,
          6.24,
          3.96,
          4.34,
          4.91,
          4.6,
          3.9,
          3.79,
          2.76,
          5.43,
          7.75,
          4,
          5.08,
          3.78,
          5.06,
          4.59,
          4.11,
          6.21,
          2.04,
          4.1,
          4.5,
          6,
          4.94,
          4.63,
          3.21,
          5.51,
          2.94,
          5.94,
          2.2,
          3.13,
          4.71,
          3.25,
          3.34,
          5.89,
          5.31,
          4.69,
          4.45,
          2.31,
          3.3,
          4.51,
          7.04,
          1.54,
          4.06,
          6.34,
          5.79,
          2.69,
          6.55,
          5.91,
          3.3,
          4.29,
          4.09,
          2.63
         ],
         "yaxis": "y"
        },
        {
         "hovertemplate": "<b>OLS trendline</b><br>Criminality = -1.59964e-05 * GDP_per_capita + 5.14392<br>R<sup>2</sup>=0.121532<br><br>GDP_per_capita=%{x}<br>Criminality=%{y} <b>(trend)</b><extra></extra>",
         "legendgroup": "",
         "marker": {
          "color": "#636efa",
          "symbol": "circle"
         },
         "mode": "lines",
         "name": "",
         "showlegend": false,
         "type": "scatter",
         "x": [
          301.59,
          310.71,
          372.55,
          400.44,
          447,
          461.36,
          470.77,
          491.84,
          499.72,
          504.62,
          551.13,
          590.63,
          613.34,
          622.98,
          654.15,
          758.55,
          772.15,
          785.58,
          822.32,
          825.29,
          874.55,
          893.08,
          897.05,
          924.71,
          930.37,
          943.94,
          955.17,
          1040.31,
          1088.93,
          1094.5,
          1136.19,
          1185.06,
          1205.5,
          1339.01,
          1360.91,
          1480.11,
          1507.99,
          1517.22,
          1607.66,
          1631.48,
          1636.88,
          1663.56,
          1668.01,
          1764.93,
          2019.31,
          2031.57,
          2044.22,
          2045.53,
          2081.8,
          2166.04,
          2200.32,
          2274.48,
          2305.98,
          2408.63,
          2449.91,
          2485.82,
          2538.91,
          2568.92,
          2672.97,
          2771.72,
          3062.91,
          3072.57,
          3293.23,
          3345.2,
          3348.01,
          3460.53,
          3572.66,
          3700.32,
          3756.49,
          3807.18,
          3853.28,
          3898.02,
          3918.02,
          3918.66,
          3965.03,
          3968.91,
          4058.35,
          4332.71,
          4450.53,
          4468.42,
          4509.86,
          4551.18,
          4596.35,
          4646.54,
          4686.13,
          4836.17,
          4883.21,
          4966.52,
          4975.12,
          5183.58,
          5259.26,
          5296.44,
          5370.42,
          5791.25,
          5965.13,
          6035.14,
          6104.14,
          6111.27,
          6228.7,
          6396.46,
          6599.62,
          6621.65,
          6766.02,
          6784.8,
          6805.25,
          7055.06,
          7066.68,
          7121,
          7143.28,
          7507.16,
          7570.78,
          7605.45,
          7910.85,
          8440.03,
          8476.75,
          8507.67,
          8643.29,
          8872.96,
          8950.23,
          9252.31,
          9661.23,
          9824.06,
          9998.55,
          10045.68,
          10054.89,
          10366.29,
          10761.08,
          11100.94,
          11255.28,
          12084.13,
          12084.63,
          12207.26,
          12258.77,
          12390.37,
          12437.21,
          12472.44,
          14617.6,
          14697.75,
          15245.82,
          16032.5,
          16265.1,
          16983.45,
          17225.46,
          17312.64,
          17736.42,
          18082.69,
          18728.32,
          19509.47,
          20571.22,
          21267.46,
          21390.45,
          23185.87,
          23844.13,
          24651.18,
          26562.97,
          26808.54,
          27478.39,
          27990.62,
          29134.8,
          30058.39,
          31448.91,
          32150.18,
          32280.93,
          33641.6,
          34940.41,
          35578.85,
          39649.93,
          42066.04,
          43295.39,
          44229.39,
          46541.76,
          48823.51,
          50425.1,
          51073.12,
          51165.51,
          52112.06,
          53703.45,
          53840.39,
          54111.02,
          57871.35,
          60729.71,
          66798.77,
          66821.72,
          66915.86,
          68036.72,
          69133.13,
          69184.7,
          89241.71,
          93525.37,
          101108.99,
          133745.4,
          169260.22,
          234317.08
         ],
         "xaxis": "x",
         "y": [
          5.139098042779556,
          5.138952155202899,
          5.137962935055921,
          5.137516794210201,
          5.136771999739902,
          5.136542290792447,
          5.136391764246796,
          5.136054719154673,
          5.13592866716958,
          5.135850284590017,
          5.135106289941957,
          5.134474430372008,
          5.1341111511104,
          5.133956945382442,
          5.133458336197751,
          5.131788307359708,
          5.131570755710308,
          5.131355923456525,
          5.130768214074248,
          5.130720704633165,
          5.129932719761882,
          5.129636305639575,
          5.129572799753683,
          5.12913033809027,
          5.129039798212652,
          5.128822726456597,
          5.128643086381393,
          5.1272811490703685,
          5.126503401923762,
          5.126414301726178,
          5.125747409942097,
          5.124965663684288,
          5.124638696352396,
          5.122503011005968,
          5.122152688864654,
          5.1202459126434405,
          5.11979993176217,
          5.119652284576584,
          5.118205566108073,
          5.117824530792726,
          5.117738149990759,
          5.117311364843259,
          5.117240180663859,
          5.115689805232986,
          5.1116206296025135,
          5.1114245131891565,
          5.111222158162325,
          5.111201202819625,
          5.110621011766408,
          5.109273471255712,
          5.108725113127665,
          5.107538816780641,
          5.1070349287691625,
          5.105392893709535,
          5.104732560467826,
          5.104158128134741,
          5.103308876879839,
          5.1028288235711265,
          5.101164393488767,
          5.099584744563893,
          5.094926739800007,
          5.094772214143154,
          5.091242438631634,
          5.090411103394919,
          5.090366153385006,
          5.088566233415116,
          5.0867725520587,
          5.084730445914404,
          5.083831925609491,
          5.08302106582213,
          5.082283629716443,
          5.081567948775696,
          5.081248019879519,
          5.081237782154841,
          5.080496027009056,
          5.080433960803197,
          5.079003238779494,
          5.074614454181741,
          5.072729753054363,
          5.072443576656733,
          5.071780683983855,
          5.0711197108843535,
          5.070397151472338,
          5.069594289907382,
          5.0689609906574,
          5.066560884078282,
          5.065808411314474,
          5.064475747497449,
          5.064338178072093,
          5.061003559187242,
          5.059792948244109,
          5.059198200426116,
          5.058014783439158,
          5.051282999570254,
          5.048501537746892,
          5.047381626645826,
          5.046277871954016,
          5.046163817302529,
          5.044285354788626,
          5.041601791207495,
          5.038351953480131,
          5.037999551800993,
          5.03569014506394,
          5.0353897318304295,
          5.035062604534089,
          5.031066532656393,
          5.030880653967714,
          5.030011727085697,
          5.029655326295356,
          5.023834539958315,
          5.022816846139577,
          5.022262249398055,
          5.017376935153434,
          5.008911936489492,
          5.0083245470361115,
          5.007829936962622,
          5.0056604991176465,
          5.0019865956384,
          5.000750550348021,
          4.995918344300167,
          4.9893770780889355,
          4.986772376980712,
          4.983981157326017,
          4.983227244882176,
          4.983079917625487,
          4.978098624712014,
          4.971783388265932,
          4.966346836533199,
          4.963877945241403,
          4.950619291961595,
          4.950611293739191,
          4.948649649712282,
          4.947825672840179,
          4.945720540703335,
          4.944971267228489,
          4.944407712477874,
          4.91009277893174,
          4.9088106638803115,
          4.90004349237393,
          4.887459409171711,
          4.883738636109175,
          4.872247589980744,
          4.868376290372557,
          4.866981720314122,
          4.860202746933031,
          4.854663657989073,
          4.844335873327141,
          4.831840250464715,
          4.814856025188929,
          4.803718660455221,
          4.801751257708182,
          4.773030920769493,
          4.762501101009625,
          4.74959117022665,
          4.719009327005556,
          4.7150810800538485,
          4.704365861498647,
          4.696172002574214,
          4.677869190352834,
          4.663095033891837,
          4.640851657456247,
          4.629633830605152,
          4.627542295446395,
          4.60577641288835,
          4.5850000704061795,
          4.574787300182423,
          4.509664493650047,
          4.471015323382958,
          4.45135009395721,
          4.436409414505752,
          4.399419715423132,
          4.362919827480559,
          4.337300081439168,
          4.326934065274143,
          4.325456153738254,
          4.310314718904445,
          4.284858136600104,
          4.2826675834479815,
          4.278338465589365,
          4.218186554281336,
          4.1724629562975375,
          4.075379572965993,
          4.07501245455763,
          4.0735065492433264,
          4.055576774114888,
          4.0380381120620275,
          4.037213175403235,
          3.716372321907864,
          3.6478489911380247,
          3.526538032356802,
          3.0044715010330973,
          2.4363606430071765,
          1.3956821725806838
         ],
         "yaxis": "y"
        }
       ],
       "layout": {
        "legend": {
         "tracegroupgap": 0
        },
        "margin": {
         "t": 60
        },
        "template": {
         "data": {
          "bar": [
           {
            "error_x": {
             "color": "#2a3f5f"
            },
            "error_y": {
             "color": "#2a3f5f"
            },
            "marker": {
             "line": {
              "color": "#E5ECF6",
              "width": 0.5
             },
             "pattern": {
              "fillmode": "overlay",
              "size": 10,
              "solidity": 0.2
             }
            },
            "type": "bar"
           }
          ],
          "barpolar": [
           {
            "marker": {
             "line": {
              "color": "#E5ECF6",
              "width": 0.5
             },
             "pattern": {
              "fillmode": "overlay",
              "size": 10,
              "solidity": 0.2
             }
            },
            "type": "barpolar"
           }
          ],
          "carpet": [
           {
            "aaxis": {
             "endlinecolor": "#2a3f5f",
             "gridcolor": "white",
             "linecolor": "white",
             "minorgridcolor": "white",
             "startlinecolor": "#2a3f5f"
            },
            "baxis": {
             "endlinecolor": "#2a3f5f",
             "gridcolor": "white",
             "linecolor": "white",
             "minorgridcolor": "white",
             "startlinecolor": "#2a3f5f"
            },
            "type": "carpet"
           }
          ],
          "choropleth": [
           {
            "colorbar": {
             "outlinewidth": 0,
             "ticks": ""
            },
            "type": "choropleth"
           }
          ],
          "contour": [
           {
            "colorbar": {
             "outlinewidth": 0,
             "ticks": ""
            },
            "colorscale": [
             [
              0,
              "#0d0887"
             ],
             [
              0.1111111111111111,
              "#46039f"
             ],
             [
              0.2222222222222222,
              "#7201a8"
             ],
             [
              0.3333333333333333,
              "#9c179e"
             ],
             [
              0.4444444444444444,
              "#bd3786"
             ],
             [
              0.5555555555555556,
              "#d8576b"
             ],
             [
              0.6666666666666666,
              "#ed7953"
             ],
             [
              0.7777777777777778,
              "#fb9f3a"
             ],
             [
              0.8888888888888888,
              "#fdca26"
             ],
             [
              1,
              "#f0f921"
             ]
            ],
            "type": "contour"
           }
          ],
          "contourcarpet": [
           {
            "colorbar": {
             "outlinewidth": 0,
             "ticks": ""
            },
            "type": "contourcarpet"
           }
          ],
          "heatmap": [
           {
            "colorbar": {
             "outlinewidth": 0,
             "ticks": ""
            },
            "colorscale": [
             [
              0,
              "#0d0887"
             ],
             [
              0.1111111111111111,
              "#46039f"
             ],
             [
              0.2222222222222222,
              "#7201a8"
             ],
             [
              0.3333333333333333,
              "#9c179e"
             ],
             [
              0.4444444444444444,
              "#bd3786"
             ],
             [
              0.5555555555555556,
              "#d8576b"
             ],
             [
              0.6666666666666666,
              "#ed7953"
             ],
             [
              0.7777777777777778,
              "#fb9f3a"
             ],
             [
              0.8888888888888888,
              "#fdca26"
             ],
             [
              1,
              "#f0f921"
             ]
            ],
            "type": "heatmap"
           }
          ],
          "heatmapgl": [
           {
            "colorbar": {
             "outlinewidth": 0,
             "ticks": ""
            },
            "colorscale": [
             [
              0,
              "#0d0887"
             ],
             [
              0.1111111111111111,
              "#46039f"
             ],
             [
              0.2222222222222222,
              "#7201a8"
             ],
             [
              0.3333333333333333,
              "#9c179e"
             ],
             [
              0.4444444444444444,
              "#bd3786"
             ],
             [
              0.5555555555555556,
              "#d8576b"
             ],
             [
              0.6666666666666666,
              "#ed7953"
             ],
             [
              0.7777777777777778,
              "#fb9f3a"
             ],
             [
              0.8888888888888888,
              "#fdca26"
             ],
             [
              1,
              "#f0f921"
             ]
            ],
            "type": "heatmapgl"
           }
          ],
          "histogram": [
           {
            "marker": {
             "pattern": {
              "fillmode": "overlay",
              "size": 10,
              "solidity": 0.2
             }
            },
            "type": "histogram"
           }
          ],
          "histogram2d": [
           {
            "colorbar": {
             "outlinewidth": 0,
             "ticks": ""
            },
            "colorscale": [
             [
              0,
              "#0d0887"
             ],
             [
              0.1111111111111111,
              "#46039f"
             ],
             [
              0.2222222222222222,
              "#7201a8"
             ],
             [
              0.3333333333333333,
              "#9c179e"
             ],
             [
              0.4444444444444444,
              "#bd3786"
             ],
             [
              0.5555555555555556,
              "#d8576b"
             ],
             [
              0.6666666666666666,
              "#ed7953"
             ],
             [
              0.7777777777777778,
              "#fb9f3a"
             ],
             [
              0.8888888888888888,
              "#fdca26"
             ],
             [
              1,
              "#f0f921"
             ]
            ],
            "type": "histogram2d"
           }
          ],
          "histogram2dcontour": [
           {
            "colorbar": {
             "outlinewidth": 0,
             "ticks": ""
            },
            "colorscale": [
             [
              0,
              "#0d0887"
             ],
             [
              0.1111111111111111,
              "#46039f"
             ],
             [
              0.2222222222222222,
              "#7201a8"
             ],
             [
              0.3333333333333333,
              "#9c179e"
             ],
             [
              0.4444444444444444,
              "#bd3786"
             ],
             [
              0.5555555555555556,
              "#d8576b"
             ],
             [
              0.6666666666666666,
              "#ed7953"
             ],
             [
              0.7777777777777778,
              "#fb9f3a"
             ],
             [
              0.8888888888888888,
              "#fdca26"
             ],
             [
              1,
              "#f0f921"
             ]
            ],
            "type": "histogram2dcontour"
           }
          ],
          "mesh3d": [
           {
            "colorbar": {
             "outlinewidth": 0,
             "ticks": ""
            },
            "type": "mesh3d"
           }
          ],
          "parcoords": [
           {
            "line": {
             "colorbar": {
              "outlinewidth": 0,
              "ticks": ""
             }
            },
            "type": "parcoords"
           }
          ],
          "pie": [
           {
            "automargin": true,
            "type": "pie"
           }
          ],
          "scatter": [
           {
            "fillpattern": {
             "fillmode": "overlay",
             "size": 10,
             "solidity": 0.2
            },
            "type": "scatter"
           }
          ],
          "scatter3d": [
           {
            "line": {
             "colorbar": {
              "outlinewidth": 0,
              "ticks": ""
             }
            },
            "marker": {
             "colorbar": {
              "outlinewidth": 0,
              "ticks": ""
             }
            },
            "type": "scatter3d"
           }
          ],
          "scattercarpet": [
           {
            "marker": {
             "colorbar": {
              "outlinewidth": 0,
              "ticks": ""
             }
            },
            "type": "scattercarpet"
           }
          ],
          "scattergeo": [
           {
            "marker": {
             "colorbar": {
              "outlinewidth": 0,
              "ticks": ""
             }
            },
            "type": "scattergeo"
           }
          ],
          "scattergl": [
           {
            "marker": {
             "colorbar": {
              "outlinewidth": 0,
              "ticks": ""
             }
            },
            "type": "scattergl"
           }
          ],
          "scattermapbox": [
           {
            "marker": {
             "colorbar": {
              "outlinewidth": 0,
              "ticks": ""
             }
            },
            "type": "scattermapbox"
           }
          ],
          "scatterpolar": [
           {
            "marker": {
             "colorbar": {
              "outlinewidth": 0,
              "ticks": ""
             }
            },
            "type": "scatterpolar"
           }
          ],
          "scatterpolargl": [
           {
            "marker": {
             "colorbar": {
              "outlinewidth": 0,
              "ticks": ""
             }
            },
            "type": "scatterpolargl"
           }
          ],
          "scatterternary": [
           {
            "marker": {
             "colorbar": {
              "outlinewidth": 0,
              "ticks": ""
             }
            },
            "type": "scatterternary"
           }
          ],
          "surface": [
           {
            "colorbar": {
             "outlinewidth": 0,
             "ticks": ""
            },
            "colorscale": [
             [
              0,
              "#0d0887"
             ],
             [
              0.1111111111111111,
              "#46039f"
             ],
             [
              0.2222222222222222,
              "#7201a8"
             ],
             [
              0.3333333333333333,
              "#9c179e"
             ],
             [
              0.4444444444444444,
              "#bd3786"
             ],
             [
              0.5555555555555556,
              "#d8576b"
             ],
             [
              0.6666666666666666,
              "#ed7953"
             ],
             [
              0.7777777777777778,
              "#fb9f3a"
             ],
             [
              0.8888888888888888,
              "#fdca26"
             ],
             [
              1,
              "#f0f921"
             ]
            ],
            "type": "surface"
           }
          ],
          "table": [
           {
            "cells": {
             "fill": {
              "color": "#EBF0F8"
             },
             "line": {
              "color": "white"
             }
            },
            "header": {
             "fill": {
              "color": "#C8D4E3"
             },
             "line": {
              "color": "white"
             }
            },
            "type": "table"
           }
          ]
         },
         "layout": {
          "annotationdefaults": {
           "arrowcolor": "#2a3f5f",
           "arrowhead": 0,
           "arrowwidth": 1
          },
          "autotypenumbers": "strict",
          "coloraxis": {
           "colorbar": {
            "outlinewidth": 0,
            "ticks": ""
           }
          },
          "colorscale": {
           "diverging": [
            [
             0,
             "#8e0152"
            ],
            [
             0.1,
             "#c51b7d"
            ],
            [
             0.2,
             "#de77ae"
            ],
            [
             0.3,
             "#f1b6da"
            ],
            [
             0.4,
             "#fde0ef"
            ],
            [
             0.5,
             "#f7f7f7"
            ],
            [
             0.6,
             "#e6f5d0"
            ],
            [
             0.7,
             "#b8e186"
            ],
            [
             0.8,
             "#7fbc41"
            ],
            [
             0.9,
             "#4d9221"
            ],
            [
             1,
             "#276419"
            ]
           ],
           "sequential": [
            [
             0,
             "#0d0887"
            ],
            [
             0.1111111111111111,
             "#46039f"
            ],
            [
             0.2222222222222222,
             "#7201a8"
            ],
            [
             0.3333333333333333,
             "#9c179e"
            ],
            [
             0.4444444444444444,
             "#bd3786"
            ],
            [
             0.5555555555555556,
             "#d8576b"
            ],
            [
             0.6666666666666666,
             "#ed7953"
            ],
            [
             0.7777777777777778,
             "#fb9f3a"
            ],
            [
             0.8888888888888888,
             "#fdca26"
            ],
            [
             1,
             "#f0f921"
            ]
           ],
           "sequentialminus": [
            [
             0,
             "#0d0887"
            ],
            [
             0.1111111111111111,
             "#46039f"
            ],
            [
             0.2222222222222222,
             "#7201a8"
            ],
            [
             0.3333333333333333,
             "#9c179e"
            ],
            [
             0.4444444444444444,
             "#bd3786"
            ],
            [
             0.5555555555555556,
             "#d8576b"
            ],
            [
             0.6666666666666666,
             "#ed7953"
            ],
            [
             0.7777777777777778,
             "#fb9f3a"
            ],
            [
             0.8888888888888888,
             "#fdca26"
            ],
            [
             1,
             "#f0f921"
            ]
           ]
          },
          "colorway": [
           "#636efa",
           "#EF553B",
           "#00cc96",
           "#ab63fa",
           "#FFA15A",
           "#19d3f3",
           "#FF6692",
           "#B6E880",
           "#FF97FF",
           "#FECB52"
          ],
          "font": {
           "color": "#2a3f5f"
          },
          "geo": {
           "bgcolor": "white",
           "lakecolor": "white",
           "landcolor": "#E5ECF6",
           "showlakes": true,
           "showland": true,
           "subunitcolor": "white"
          },
          "hoverlabel": {
           "align": "left"
          },
          "hovermode": "closest",
          "mapbox": {
           "style": "light"
          },
          "paper_bgcolor": "white",
          "plot_bgcolor": "#E5ECF6",
          "polar": {
           "angularaxis": {
            "gridcolor": "white",
            "linecolor": "white",
            "ticks": ""
           },
           "bgcolor": "#E5ECF6",
           "radialaxis": {
            "gridcolor": "white",
            "linecolor": "white",
            "ticks": ""
           }
          },
          "scene": {
           "xaxis": {
            "backgroundcolor": "#E5ECF6",
            "gridcolor": "white",
            "gridwidth": 2,
            "linecolor": "white",
            "showbackground": true,
            "ticks": "",
            "zerolinecolor": "white"
           },
           "yaxis": {
            "backgroundcolor": "#E5ECF6",
            "gridcolor": "white",
            "gridwidth": 2,
            "linecolor": "white",
            "showbackground": true,
            "ticks": "",
            "zerolinecolor": "white"
           },
           "zaxis": {
            "backgroundcolor": "#E5ECF6",
            "gridcolor": "white",
            "gridwidth": 2,
            "linecolor": "white",
            "showbackground": true,
            "ticks": "",
            "zerolinecolor": "white"
           }
          },
          "shapedefaults": {
           "line": {
            "color": "#2a3f5f"
           }
          },
          "ternary": {
           "aaxis": {
            "gridcolor": "white",
            "linecolor": "white",
            "ticks": ""
           },
           "baxis": {
            "gridcolor": "white",
            "linecolor": "white",
            "ticks": ""
           },
           "bgcolor": "#E5ECF6",
           "caxis": {
            "gridcolor": "white",
            "linecolor": "white",
            "ticks": ""
           }
          },
          "title": {
           "x": 0.05
          },
          "xaxis": {
           "automargin": true,
           "gridcolor": "white",
           "linecolor": "white",
           "ticks": "",
           "title": {
            "standoff": 15
           },
           "zerolinecolor": "white",
           "zerolinewidth": 2
          },
          "yaxis": {
           "automargin": true,
           "gridcolor": "white",
           "linecolor": "white",
           "ticks": "",
           "title": {
            "standoff": 15
           },
           "zerolinecolor": "white",
           "zerolinewidth": 2
          }
         }
        },
        "xaxis": {
         "anchor": "y",
         "domain": [
          0,
          1
         ],
         "title": {
          "text": "GDP_per_capita"
         }
        },
        "yaxis": {
         "anchor": "x",
         "domain": [
          0,
          1
         ],
         "title": {
          "text": "Criminality"
         }
        }
       }
      }
     },
     "metadata": {},
     "output_type": "display_data"
    },
    {
     "data": {
      "application/vnd.plotly.v1+json": {
       "config": {
        "plotlyServerURL": "https://plot.ly"
       },
       "data": [
        {
         "hovertemplate": "Year=%{x}<br>Criminality=%{y}<extra></extra>",
         "legendgroup": "",
         "line": {
          "color": "#636efa",
          "dash": "solid"
         },
         "marker": {
          "symbol": "circle"
         },
         "mode": "lines",
         "name": "",
         "orientation": "v",
         "showlegend": false,
         "type": "scatter",
         "x": [
          2021,
          2021,
          2021,
          2021,
          2021,
          2021,
          2021,
          2021,
          2021,
          2021,
          2021,
          2021,
          2021,
          2021,
          2021,
          2021,
          2021,
          2021,
          2021,
          2021,
          2021,
          2021,
          2021,
          2021,
          2021,
          2021,
          2021,
          2021,
          2021,
          2021,
          2021,
          2021,
          2021,
          2021,
          2021,
          2021,
          2021,
          2021,
          2021,
          2021,
          2021,
          2021,
          2021,
          2021,
          2021,
          2021,
          2021,
          2021,
          2021,
          2021,
          2021,
          2021,
          2021,
          2021,
          2021,
          2021,
          2021,
          2021,
          2021,
          2021,
          2021,
          2021,
          2021,
          2021,
          2021,
          2021,
          2021,
          2021,
          2021,
          2021,
          2021,
          2021,
          2021,
          2021,
          2021,
          2021,
          2021,
          2021,
          2021,
          2021,
          2021,
          2021,
          2021,
          2021,
          2021,
          2021,
          2021,
          2021,
          2021,
          2021,
          2021,
          2021,
          2021,
          2021,
          2021,
          2021,
          2021,
          2021,
          2021,
          2021,
          2021,
          2021,
          2021,
          2021,
          2021,
          2021,
          2021,
          2021,
          2021,
          2021,
          2021,
          2021,
          2021,
          2021,
          2021,
          2021,
          2021,
          2021,
          2021,
          2021,
          2021,
          2021,
          2021,
          2021,
          2021,
          2021,
          2021,
          2021,
          2021,
          2021,
          2021,
          2021,
          2021,
          2021,
          2021,
          2021,
          2021,
          2021,
          2021,
          2021,
          2021,
          2021,
          2021,
          2021,
          2021,
          2021,
          2021,
          2021,
          2021,
          2021,
          2021,
          2021,
          2021,
          2021,
          2021,
          2021,
          2021,
          2021,
          2021,
          2021,
          2021,
          2021,
          2021,
          2021,
          2021,
          2021,
          2021,
          2021,
          2021,
          2021,
          2021,
          2021,
          2021,
          2021,
          2021,
          2021,
          2021,
          2021,
          2021,
          2021,
          2021,
          2021,
          2021,
          2021,
          2021,
          2021,
          2021,
          2021,
          2021,
          2021,
          2021,
          2021,
          2021
         ],
         "xaxis": "x",
         "y": [
          6.89,
          4.04,
          6.63,
          7.66,
          6.35,
          7.05,
          4.9,
          6.64,
          4.51,
          3.71,
          7.1,
          5.1,
          4.81,
          6.5,
          5.83,
          7.15,
          6.84,
          3.68,
          6.01,
          4.79,
          4.3,
          6.95,
          7.08,
          6.38,
          4.83,
          4.33,
          7.56,
          1.78,
          3.79,
          4.51,
          4.79,
          3.68,
          3.99,
          5.53,
          5.29,
          6.01,
          6.15,
          4.34,
          6.13,
          5.61,
          4.93,
          6.84,
          4.61,
          4.9,
          4.78,
          3.83,
          7.59,
          6.16,
          6.15,
          6.25,
          5.16,
          4.99,
          5.33,
          4.83,
          6.14,
          4.96,
          6.28,
          5.76,
          6.68,
          5.75,
          6.06,
          5.14,
          3.9,
          5.49,
          5.73,
          5.08,
          5.94,
          5.25,
          5.44,
          4.14,
          6.28,
          5.4,
          5.66,
          4.69,
          5.33,
          2.96,
          5.59,
          4.41,
          4.34,
          5.21,
          6.98,
          6.53,
          4.9,
          4.89,
          4.04,
          5.03,
          6.76,
          1.88,
          6.01,
          3.69,
          2.36,
          5.5,
          4.26,
          5.15,
          3.63,
          5.81,
          6.01,
          4.65,
          5.66,
          5.05,
          4.01,
          4.9,
          4.55,
          4.93,
          3.44,
          6.31,
          4.38,
          6.46,
          5.2,
          6.7,
          4.98,
          3.26,
          5.78,
          4.19,
          2.43,
          5.86,
          1.76,
          3.01,
          5.45,
          4.53,
          3.81,
          4.64,
          5.89,
          4.64,
          3.6,
          4.56,
          2.96,
          3.86,
          4.38,
          3.51,
          3.31,
          3.66,
          2.71,
          3.05,
          3.39,
          3.86,
          6.18,
          4.15,
          6.48,
          5.63,
          4.01,
          2.35,
          6.24,
          3.96,
          4.34,
          4.91,
          4.6,
          3.9,
          3.79,
          2.76,
          5.43,
          7.75,
          4,
          5.08,
          3.78,
          5.06,
          4.59,
          4.11,
          6.21,
          2.04,
          4.1,
          4.5,
          6,
          4.94,
          4.63,
          3.21,
          5.51,
          2.94,
          5.94,
          2.2,
          3.13,
          4.71,
          3.25,
          3.34,
          5.89,
          5.31,
          4.69,
          4.45,
          2.31,
          3.3,
          4.51,
          7.04,
          1.54,
          4.06,
          6.34,
          5.79,
          2.69,
          6.55,
          5.91,
          3.3,
          4.29,
          4.09,
          2.63
         ],
         "yaxis": "y"
        }
       ],
       "layout": {
        "legend": {
         "tracegroupgap": 0
        },
        "margin": {
         "t": 60
        },
        "template": {
         "data": {
          "bar": [
           {
            "error_x": {
             "color": "#2a3f5f"
            },
            "error_y": {
             "color": "#2a3f5f"
            },
            "marker": {
             "line": {
              "color": "#E5ECF6",
              "width": 0.5
             },
             "pattern": {
              "fillmode": "overlay",
              "size": 10,
              "solidity": 0.2
             }
            },
            "type": "bar"
           }
          ],
          "barpolar": [
           {
            "marker": {
             "line": {
              "color": "#E5ECF6",
              "width": 0.5
             },
             "pattern": {
              "fillmode": "overlay",
              "size": 10,
              "solidity": 0.2
             }
            },
            "type": "barpolar"
           }
          ],
          "carpet": [
           {
            "aaxis": {
             "endlinecolor": "#2a3f5f",
             "gridcolor": "white",
             "linecolor": "white",
             "minorgridcolor": "white",
             "startlinecolor": "#2a3f5f"
            },
            "baxis": {
             "endlinecolor": "#2a3f5f",
             "gridcolor": "white",
             "linecolor": "white",
             "minorgridcolor": "white",
             "startlinecolor": "#2a3f5f"
            },
            "type": "carpet"
           }
          ],
          "choropleth": [
           {
            "colorbar": {
             "outlinewidth": 0,
             "ticks": ""
            },
            "type": "choropleth"
           }
          ],
          "contour": [
           {
            "colorbar": {
             "outlinewidth": 0,
             "ticks": ""
            },
            "colorscale": [
             [
              0,
              "#0d0887"
             ],
             [
              0.1111111111111111,
              "#46039f"
             ],
             [
              0.2222222222222222,
              "#7201a8"
             ],
             [
              0.3333333333333333,
              "#9c179e"
             ],
             [
              0.4444444444444444,
              "#bd3786"
             ],
             [
              0.5555555555555556,
              "#d8576b"
             ],
             [
              0.6666666666666666,
              "#ed7953"
             ],
             [
              0.7777777777777778,
              "#fb9f3a"
             ],
             [
              0.8888888888888888,
              "#fdca26"
             ],
             [
              1,
              "#f0f921"
             ]
            ],
            "type": "contour"
           }
          ],
          "contourcarpet": [
           {
            "colorbar": {
             "outlinewidth": 0,
             "ticks": ""
            },
            "type": "contourcarpet"
           }
          ],
          "heatmap": [
           {
            "colorbar": {
             "outlinewidth": 0,
             "ticks": ""
            },
            "colorscale": [
             [
              0,
              "#0d0887"
             ],
             [
              0.1111111111111111,
              "#46039f"
             ],
             [
              0.2222222222222222,
              "#7201a8"
             ],
             [
              0.3333333333333333,
              "#9c179e"
             ],
             [
              0.4444444444444444,
              "#bd3786"
             ],
             [
              0.5555555555555556,
              "#d8576b"
             ],
             [
              0.6666666666666666,
              "#ed7953"
             ],
             [
              0.7777777777777778,
              "#fb9f3a"
             ],
             [
              0.8888888888888888,
              "#fdca26"
             ],
             [
              1,
              "#f0f921"
             ]
            ],
            "type": "heatmap"
           }
          ],
          "heatmapgl": [
           {
            "colorbar": {
             "outlinewidth": 0,
             "ticks": ""
            },
            "colorscale": [
             [
              0,
              "#0d0887"
             ],
             [
              0.1111111111111111,
              "#46039f"
             ],
             [
              0.2222222222222222,
              "#7201a8"
             ],
             [
              0.3333333333333333,
              "#9c179e"
             ],
             [
              0.4444444444444444,
              "#bd3786"
             ],
             [
              0.5555555555555556,
              "#d8576b"
             ],
             [
              0.6666666666666666,
              "#ed7953"
             ],
             [
              0.7777777777777778,
              "#fb9f3a"
             ],
             [
              0.8888888888888888,
              "#fdca26"
             ],
             [
              1,
              "#f0f921"
             ]
            ],
            "type": "heatmapgl"
           }
          ],
          "histogram": [
           {
            "marker": {
             "pattern": {
              "fillmode": "overlay",
              "size": 10,
              "solidity": 0.2
             }
            },
            "type": "histogram"
           }
          ],
          "histogram2d": [
           {
            "colorbar": {
             "outlinewidth": 0,
             "ticks": ""
            },
            "colorscale": [
             [
              0,
              "#0d0887"
             ],
             [
              0.1111111111111111,
              "#46039f"
             ],
             [
              0.2222222222222222,
              "#7201a8"
             ],
             [
              0.3333333333333333,
              "#9c179e"
             ],
             [
              0.4444444444444444,
              "#bd3786"
             ],
             [
              0.5555555555555556,
              "#d8576b"
             ],
             [
              0.6666666666666666,
              "#ed7953"
             ],
             [
              0.7777777777777778,
              "#fb9f3a"
             ],
             [
              0.8888888888888888,
              "#fdca26"
             ],
             [
              1,
              "#f0f921"
             ]
            ],
            "type": "histogram2d"
           }
          ],
          "histogram2dcontour": [
           {
            "colorbar": {
             "outlinewidth": 0,
             "ticks": ""
            },
            "colorscale": [
             [
              0,
              "#0d0887"
             ],
             [
              0.1111111111111111,
              "#46039f"
             ],
             [
              0.2222222222222222,
              "#7201a8"
             ],
             [
              0.3333333333333333,
              "#9c179e"
             ],
             [
              0.4444444444444444,
              "#bd3786"
             ],
             [
              0.5555555555555556,
              "#d8576b"
             ],
             [
              0.6666666666666666,
              "#ed7953"
             ],
             [
              0.7777777777777778,
              "#fb9f3a"
             ],
             [
              0.8888888888888888,
              "#fdca26"
             ],
             [
              1,
              "#f0f921"
             ]
            ],
            "type": "histogram2dcontour"
           }
          ],
          "mesh3d": [
           {
            "colorbar": {
             "outlinewidth": 0,
             "ticks": ""
            },
            "type": "mesh3d"
           }
          ],
          "parcoords": [
           {
            "line": {
             "colorbar": {
              "outlinewidth": 0,
              "ticks": ""
             }
            },
            "type": "parcoords"
           }
          ],
          "pie": [
           {
            "automargin": true,
            "type": "pie"
           }
          ],
          "scatter": [
           {
            "fillpattern": {
             "fillmode": "overlay",
             "size": 10,
             "solidity": 0.2
            },
            "type": "scatter"
           }
          ],
          "scatter3d": [
           {
            "line": {
             "colorbar": {
              "outlinewidth": 0,
              "ticks": ""
             }
            },
            "marker": {
             "colorbar": {
              "outlinewidth": 0,
              "ticks": ""
             }
            },
            "type": "scatter3d"
           }
          ],
          "scattercarpet": [
           {
            "marker": {
             "colorbar": {
              "outlinewidth": 0,
              "ticks": ""
             }
            },
            "type": "scattercarpet"
           }
          ],
          "scattergeo": [
           {
            "marker": {
             "colorbar": {
              "outlinewidth": 0,
              "ticks": ""
             }
            },
            "type": "scattergeo"
           }
          ],
          "scattergl": [
           {
            "marker": {
             "colorbar": {
              "outlinewidth": 0,
              "ticks": ""
             }
            },
            "type": "scattergl"
           }
          ],
          "scattermapbox": [
           {
            "marker": {
             "colorbar": {
              "outlinewidth": 0,
              "ticks": ""
             }
            },
            "type": "scattermapbox"
           }
          ],
          "scatterpolar": [
           {
            "marker": {
             "colorbar": {
              "outlinewidth": 0,
              "ticks": ""
             }
            },
            "type": "scatterpolar"
           }
          ],
          "scatterpolargl": [
           {
            "marker": {
             "colorbar": {
              "outlinewidth": 0,
              "ticks": ""
             }
            },
            "type": "scatterpolargl"
           }
          ],
          "scatterternary": [
           {
            "marker": {
             "colorbar": {
              "outlinewidth": 0,
              "ticks": ""
             }
            },
            "type": "scatterternary"
           }
          ],
          "surface": [
           {
            "colorbar": {
             "outlinewidth": 0,
             "ticks": ""
            },
            "colorscale": [
             [
              0,
              "#0d0887"
             ],
             [
              0.1111111111111111,
              "#46039f"
             ],
             [
              0.2222222222222222,
              "#7201a8"
             ],
             [
              0.3333333333333333,
              "#9c179e"
             ],
             [
              0.4444444444444444,
              "#bd3786"
             ],
             [
              0.5555555555555556,
              "#d8576b"
             ],
             [
              0.6666666666666666,
              "#ed7953"
             ],
             [
              0.7777777777777778,
              "#fb9f3a"
             ],
             [
              0.8888888888888888,
              "#fdca26"
             ],
             [
              1,
              "#f0f921"
             ]
            ],
            "type": "surface"
           }
          ],
          "table": [
           {
            "cells": {
             "fill": {
              "color": "#EBF0F8"
             },
             "line": {
              "color": "white"
             }
            },
            "header": {
             "fill": {
              "color": "#C8D4E3"
             },
             "line": {
              "color": "white"
             }
            },
            "type": "table"
           }
          ]
         },
         "layout": {
          "annotationdefaults": {
           "arrowcolor": "#2a3f5f",
           "arrowhead": 0,
           "arrowwidth": 1
          },
          "autotypenumbers": "strict",
          "coloraxis": {
           "colorbar": {
            "outlinewidth": 0,
            "ticks": ""
           }
          },
          "colorscale": {
           "diverging": [
            [
             0,
             "#8e0152"
            ],
            [
             0.1,
             "#c51b7d"
            ],
            [
             0.2,
             "#de77ae"
            ],
            [
             0.3,
             "#f1b6da"
            ],
            [
             0.4,
             "#fde0ef"
            ],
            [
             0.5,
             "#f7f7f7"
            ],
            [
             0.6,
             "#e6f5d0"
            ],
            [
             0.7,
             "#b8e186"
            ],
            [
             0.8,
             "#7fbc41"
            ],
            [
             0.9,
             "#4d9221"
            ],
            [
             1,
             "#276419"
            ]
           ],
           "sequential": [
            [
             0,
             "#0d0887"
            ],
            [
             0.1111111111111111,
             "#46039f"
            ],
            [
             0.2222222222222222,
             "#7201a8"
            ],
            [
             0.3333333333333333,
             "#9c179e"
            ],
            [
             0.4444444444444444,
             "#bd3786"
            ],
            [
             0.5555555555555556,
             "#d8576b"
            ],
            [
             0.6666666666666666,
             "#ed7953"
            ],
            [
             0.7777777777777778,
             "#fb9f3a"
            ],
            [
             0.8888888888888888,
             "#fdca26"
            ],
            [
             1,
             "#f0f921"
            ]
           ],
           "sequentialminus": [
            [
             0,
             "#0d0887"
            ],
            [
             0.1111111111111111,
             "#46039f"
            ],
            [
             0.2222222222222222,
             "#7201a8"
            ],
            [
             0.3333333333333333,
             "#9c179e"
            ],
            [
             0.4444444444444444,
             "#bd3786"
            ],
            [
             0.5555555555555556,
             "#d8576b"
            ],
            [
             0.6666666666666666,
             "#ed7953"
            ],
            [
             0.7777777777777778,
             "#fb9f3a"
            ],
            [
             0.8888888888888888,
             "#fdca26"
            ],
            [
             1,
             "#f0f921"
            ]
           ]
          },
          "colorway": [
           "#636efa",
           "#EF553B",
           "#00cc96",
           "#ab63fa",
           "#FFA15A",
           "#19d3f3",
           "#FF6692",
           "#B6E880",
           "#FF97FF",
           "#FECB52"
          ],
          "font": {
           "color": "#2a3f5f"
          },
          "geo": {
           "bgcolor": "white",
           "lakecolor": "white",
           "landcolor": "#E5ECF6",
           "showlakes": true,
           "showland": true,
           "subunitcolor": "white"
          },
          "hoverlabel": {
           "align": "left"
          },
          "hovermode": "closest",
          "mapbox": {
           "style": "light"
          },
          "paper_bgcolor": "white",
          "plot_bgcolor": "#E5ECF6",
          "polar": {
           "angularaxis": {
            "gridcolor": "white",
            "linecolor": "white",
            "ticks": ""
           },
           "bgcolor": "#E5ECF6",
           "radialaxis": {
            "gridcolor": "white",
            "linecolor": "white",
            "ticks": ""
           }
          },
          "scene": {
           "xaxis": {
            "backgroundcolor": "#E5ECF6",
            "gridcolor": "white",
            "gridwidth": 2,
            "linecolor": "white",
            "showbackground": true,
            "ticks": "",
            "zerolinecolor": "white"
           },
           "yaxis": {
            "backgroundcolor": "#E5ECF6",
            "gridcolor": "white",
            "gridwidth": 2,
            "linecolor": "white",
            "showbackground": true,
            "ticks": "",
            "zerolinecolor": "white"
           },
           "zaxis": {
            "backgroundcolor": "#E5ECF6",
            "gridcolor": "white",
            "gridwidth": 2,
            "linecolor": "white",
            "showbackground": true,
            "ticks": "",
            "zerolinecolor": "white"
           }
          },
          "shapedefaults": {
           "line": {
            "color": "#2a3f5f"
           }
          },
          "ternary": {
           "aaxis": {
            "gridcolor": "white",
            "linecolor": "white",
            "ticks": ""
           },
           "baxis": {
            "gridcolor": "white",
            "linecolor": "white",
            "ticks": ""
           },
           "bgcolor": "#E5ECF6",
           "caxis": {
            "gridcolor": "white",
            "linecolor": "white",
            "ticks": ""
           }
          },
          "title": {
           "x": 0.05
          },
          "xaxis": {
           "automargin": true,
           "gridcolor": "white",
           "linecolor": "white",
           "ticks": "",
           "title": {
            "standoff": 15
           },
           "zerolinecolor": "white",
           "zerolinewidth": 2
          },
          "yaxis": {
           "automargin": true,
           "gridcolor": "white",
           "linecolor": "white",
           "ticks": "",
           "title": {
            "standoff": 15
           },
           "zerolinecolor": "white",
           "zerolinewidth": 2
          }
         }
        },
        "xaxis": {
         "anchor": "y",
         "domain": [
          0,
          1
         ],
         "title": {
          "text": "Year"
         }
        },
        "yaxis": {
         "anchor": "x",
         "domain": [
          0,
          1
         ],
         "title": {
          "text": "Criminality"
         }
        }
       }
      }
     },
     "metadata": {},
     "output_type": "display_data"
    },
    {
     "data": {
      "application/vnd.plotly.v1+json": {
       "config": {
        "plotlyServerURL": "https://plot.ly"
       },
       "data": [
        {
         "alignmentgroup": "True",
         "hovertemplate": "Criminal markets=%{x}<br>Criminality=%{y}<extra></extra>",
         "legendgroup": "",
         "marker": {
          "color": "#636efa",
          "pattern": {
           "shape": ""
          }
         },
         "name": "",
         "offsetgroup": "",
         "orientation": "v",
         "showlegend": false,
         "textposition": "auto",
         "type": "bar",
         "x": [
          6.4,
          3.7,
          6,
          7.2,
          6.2,
          6.35,
          4.55,
          5.65,
          4.4,
          3.8,
          6.95,
          4.7,
          5,
          6.5,
          6.15,
          7.05,
          6.3,
          4.1,
          6.15,
          4.95,
          4.6,
          6.65,
          6.9,
          6,
          5.15,
          3.9,
          8,
          1.8,
          4.2,
          4.65,
          4.95,
          3.6,
          3.6,
          6.3,
          5.2,
          6.9,
          6.05,
          4.3,
          5,
          5.1,
          4.6,
          6.05,
          4.35,
          4.55,
          5.3,
          4.15,
          7.05,
          5.7,
          6.55,
          6,
          4.95,
          4.85,
          4.9,
          5.65,
          5.65,
          4.55,
          6.05,
          6.4,
          6.35,
          6.75,
          5.5,
          6.15,
          3.55,
          5.35,
          5.45,
          4.15,
          6.25,
          5.25,
          5,
          4.9,
          6.3,
          5.05,
          5.7,
          5,
          4.4,
          2.55,
          5.3,
          4.2,
          5.05,
          5.8,
          5.7,
          6.05,
          4.8,
          4.4,
          3.95,
          4.8,
          5.9,
          2,
          5.9,
          3.75,
          2.35,
          5.5,
          4.15,
          5.3,
          3.25,
          5.25,
          5.9,
          4.05,
          5.2,
          5.1,
          3.9,
          4.8,
          4.1,
          4.1,
          4,
          6.25,
          4,
          5.55,
          5.15,
          5.9,
          4.95,
          3.4,
          5.3,
          3.5,
          1.6,
          5.35,
          1.65,
          1.9,
          4.9,
          4.05,
          4,
          4.4,
          6.15,
          4.65,
          3.45,
          4.25,
          3.05,
          3.85,
          3.75,
          3.65,
          3,
          3.45,
          2.8,
          2.85,
          2.65,
          3.85,
          5.6,
          3.55,
          5.95,
          5.25,
          4.4,
          2.45,
          6.1,
          3.55,
          4.05,
          3.95,
          4.45,
          3.8,
          3.95,
          3.15,
          5.1,
          6.5,
          3.75,
          4.4,
          3.3,
          4.75,
          5.05,
          3.85,
          5.55,
          2.45,
          3.2,
          4.75,
          5,
          4.25,
          4.75,
          2.55,
          5.65,
          3,
          5,
          2.4,
          3.25,
          4.55,
          3.25,
          3.05,
          5.15,
          5,
          4.25,
          3.9,
          2.5,
          2.85,
          4.4,
          5.7,
          1.7,
          3.5,
          5.3,
          4.45,
          2.75,
          6.1,
          4.2,
          2.85,
          3.95,
          3.05,
          2.75
         ],
         "xaxis": "x",
         "y": [
          6.89,
          4.04,
          6.63,
          7.66,
          6.35,
          7.05,
          4.9,
          6.64,
          4.51,
          3.71,
          7.1,
          5.1,
          4.81,
          6.5,
          5.83,
          7.15,
          6.84,
          3.68,
          6.01,
          4.79,
          4.3,
          6.95,
          7.08,
          6.38,
          4.83,
          4.33,
          7.56,
          1.78,
          3.79,
          4.51,
          4.79,
          3.68,
          3.99,
          5.53,
          5.29,
          6.01,
          6.15,
          4.34,
          6.13,
          5.61,
          4.93,
          6.84,
          4.61,
          4.9,
          4.78,
          3.83,
          7.59,
          6.16,
          6.15,
          6.25,
          5.16,
          4.99,
          5.33,
          4.83,
          6.14,
          4.96,
          6.28,
          5.76,
          6.68,
          5.75,
          6.06,
          5.14,
          3.9,
          5.49,
          5.73,
          5.08,
          5.94,
          5.25,
          5.44,
          4.14,
          6.28,
          5.4,
          5.66,
          4.69,
          5.33,
          2.96,
          5.59,
          4.41,
          4.34,
          5.21,
          6.98,
          6.53,
          4.9,
          4.89,
          4.04,
          5.03,
          6.76,
          1.88,
          6.01,
          3.69,
          2.36,
          5.5,
          4.26,
          5.15,
          3.63,
          5.81,
          6.01,
          4.65,
          5.66,
          5.05,
          4.01,
          4.9,
          4.55,
          4.93,
          3.44,
          6.31,
          4.38,
          6.46,
          5.2,
          6.7,
          4.98,
          3.26,
          5.78,
          4.19,
          2.43,
          5.86,
          1.76,
          3.01,
          5.45,
          4.53,
          3.81,
          4.64,
          5.89,
          4.64,
          3.6,
          4.56,
          2.96,
          3.86,
          4.38,
          3.51,
          3.31,
          3.66,
          2.71,
          3.05,
          3.39,
          3.86,
          6.18,
          4.15,
          6.48,
          5.63,
          4.01,
          2.35,
          6.24,
          3.96,
          4.34,
          4.91,
          4.6,
          3.9,
          3.79,
          2.76,
          5.43,
          7.75,
          4,
          5.08,
          3.78,
          5.06,
          4.59,
          4.11,
          6.21,
          2.04,
          4.1,
          4.5,
          6,
          4.94,
          4.63,
          3.21,
          5.51,
          2.94,
          5.94,
          2.2,
          3.13,
          4.71,
          3.25,
          3.34,
          5.89,
          5.31,
          4.69,
          4.45,
          2.31,
          3.3,
          4.51,
          7.04,
          1.54,
          4.06,
          6.34,
          5.79,
          2.69,
          6.55,
          5.91,
          3.3,
          4.29,
          4.09,
          2.63
         ],
         "yaxis": "y"
        }
       ],
       "layout": {
        "barmode": "relative",
        "legend": {
         "tracegroupgap": 0
        },
        "margin": {
         "t": 60
        },
        "template": {
         "data": {
          "bar": [
           {
            "error_x": {
             "color": "#2a3f5f"
            },
            "error_y": {
             "color": "#2a3f5f"
            },
            "marker": {
             "line": {
              "color": "#E5ECF6",
              "width": 0.5
             },
             "pattern": {
              "fillmode": "overlay",
              "size": 10,
              "solidity": 0.2
             }
            },
            "type": "bar"
           }
          ],
          "barpolar": [
           {
            "marker": {
             "line": {
              "color": "#E5ECF6",
              "width": 0.5
             },
             "pattern": {
              "fillmode": "overlay",
              "size": 10,
              "solidity": 0.2
             }
            },
            "type": "barpolar"
           }
          ],
          "carpet": [
           {
            "aaxis": {
             "endlinecolor": "#2a3f5f",
             "gridcolor": "white",
             "linecolor": "white",
             "minorgridcolor": "white",
             "startlinecolor": "#2a3f5f"
            },
            "baxis": {
             "endlinecolor": "#2a3f5f",
             "gridcolor": "white",
             "linecolor": "white",
             "minorgridcolor": "white",
             "startlinecolor": "#2a3f5f"
            },
            "type": "carpet"
           }
          ],
          "choropleth": [
           {
            "colorbar": {
             "outlinewidth": 0,
             "ticks": ""
            },
            "type": "choropleth"
           }
          ],
          "contour": [
           {
            "colorbar": {
             "outlinewidth": 0,
             "ticks": ""
            },
            "colorscale": [
             [
              0,
              "#0d0887"
             ],
             [
              0.1111111111111111,
              "#46039f"
             ],
             [
              0.2222222222222222,
              "#7201a8"
             ],
             [
              0.3333333333333333,
              "#9c179e"
             ],
             [
              0.4444444444444444,
              "#bd3786"
             ],
             [
              0.5555555555555556,
              "#d8576b"
             ],
             [
              0.6666666666666666,
              "#ed7953"
             ],
             [
              0.7777777777777778,
              "#fb9f3a"
             ],
             [
              0.8888888888888888,
              "#fdca26"
             ],
             [
              1,
              "#f0f921"
             ]
            ],
            "type": "contour"
           }
          ],
          "contourcarpet": [
           {
            "colorbar": {
             "outlinewidth": 0,
             "ticks": ""
            },
            "type": "contourcarpet"
           }
          ],
          "heatmap": [
           {
            "colorbar": {
             "outlinewidth": 0,
             "ticks": ""
            },
            "colorscale": [
             [
              0,
              "#0d0887"
             ],
             [
              0.1111111111111111,
              "#46039f"
             ],
             [
              0.2222222222222222,
              "#7201a8"
             ],
             [
              0.3333333333333333,
              "#9c179e"
             ],
             [
              0.4444444444444444,
              "#bd3786"
             ],
             [
              0.5555555555555556,
              "#d8576b"
             ],
             [
              0.6666666666666666,
              "#ed7953"
             ],
             [
              0.7777777777777778,
              "#fb9f3a"
             ],
             [
              0.8888888888888888,
              "#fdca26"
             ],
             [
              1,
              "#f0f921"
             ]
            ],
            "type": "heatmap"
           }
          ],
          "heatmapgl": [
           {
            "colorbar": {
             "outlinewidth": 0,
             "ticks": ""
            },
            "colorscale": [
             [
              0,
              "#0d0887"
             ],
             [
              0.1111111111111111,
              "#46039f"
             ],
             [
              0.2222222222222222,
              "#7201a8"
             ],
             [
              0.3333333333333333,
              "#9c179e"
             ],
             [
              0.4444444444444444,
              "#bd3786"
             ],
             [
              0.5555555555555556,
              "#d8576b"
             ],
             [
              0.6666666666666666,
              "#ed7953"
             ],
             [
              0.7777777777777778,
              "#fb9f3a"
             ],
             [
              0.8888888888888888,
              "#fdca26"
             ],
             [
              1,
              "#f0f921"
             ]
            ],
            "type": "heatmapgl"
           }
          ],
          "histogram": [
           {
            "marker": {
             "pattern": {
              "fillmode": "overlay",
              "size": 10,
              "solidity": 0.2
             }
            },
            "type": "histogram"
           }
          ],
          "histogram2d": [
           {
            "colorbar": {
             "outlinewidth": 0,
             "ticks": ""
            },
            "colorscale": [
             [
              0,
              "#0d0887"
             ],
             [
              0.1111111111111111,
              "#46039f"
             ],
             [
              0.2222222222222222,
              "#7201a8"
             ],
             [
              0.3333333333333333,
              "#9c179e"
             ],
             [
              0.4444444444444444,
              "#bd3786"
             ],
             [
              0.5555555555555556,
              "#d8576b"
             ],
             [
              0.6666666666666666,
              "#ed7953"
             ],
             [
              0.7777777777777778,
              "#fb9f3a"
             ],
             [
              0.8888888888888888,
              "#fdca26"
             ],
             [
              1,
              "#f0f921"
             ]
            ],
            "type": "histogram2d"
           }
          ],
          "histogram2dcontour": [
           {
            "colorbar": {
             "outlinewidth": 0,
             "ticks": ""
            },
            "colorscale": [
             [
              0,
              "#0d0887"
             ],
             [
              0.1111111111111111,
              "#46039f"
             ],
             [
              0.2222222222222222,
              "#7201a8"
             ],
             [
              0.3333333333333333,
              "#9c179e"
             ],
             [
              0.4444444444444444,
              "#bd3786"
             ],
             [
              0.5555555555555556,
              "#d8576b"
             ],
             [
              0.6666666666666666,
              "#ed7953"
             ],
             [
              0.7777777777777778,
              "#fb9f3a"
             ],
             [
              0.8888888888888888,
              "#fdca26"
             ],
             [
              1,
              "#f0f921"
             ]
            ],
            "type": "histogram2dcontour"
           }
          ],
          "mesh3d": [
           {
            "colorbar": {
             "outlinewidth": 0,
             "ticks": ""
            },
            "type": "mesh3d"
           }
          ],
          "parcoords": [
           {
            "line": {
             "colorbar": {
              "outlinewidth": 0,
              "ticks": ""
             }
            },
            "type": "parcoords"
           }
          ],
          "pie": [
           {
            "automargin": true,
            "type": "pie"
           }
          ],
          "scatter": [
           {
            "fillpattern": {
             "fillmode": "overlay",
             "size": 10,
             "solidity": 0.2
            },
            "type": "scatter"
           }
          ],
          "scatter3d": [
           {
            "line": {
             "colorbar": {
              "outlinewidth": 0,
              "ticks": ""
             }
            },
            "marker": {
             "colorbar": {
              "outlinewidth": 0,
              "ticks": ""
             }
            },
            "type": "scatter3d"
           }
          ],
          "scattercarpet": [
           {
            "marker": {
             "colorbar": {
              "outlinewidth": 0,
              "ticks": ""
             }
            },
            "type": "scattercarpet"
           }
          ],
          "scattergeo": [
           {
            "marker": {
             "colorbar": {
              "outlinewidth": 0,
              "ticks": ""
             }
            },
            "type": "scattergeo"
           }
          ],
          "scattergl": [
           {
            "marker": {
             "colorbar": {
              "outlinewidth": 0,
              "ticks": ""
             }
            },
            "type": "scattergl"
           }
          ],
          "scattermapbox": [
           {
            "marker": {
             "colorbar": {
              "outlinewidth": 0,
              "ticks": ""
             }
            },
            "type": "scattermapbox"
           }
          ],
          "scatterpolar": [
           {
            "marker": {
             "colorbar": {
              "outlinewidth": 0,
              "ticks": ""
             }
            },
            "type": "scatterpolar"
           }
          ],
          "scatterpolargl": [
           {
            "marker": {
             "colorbar": {
              "outlinewidth": 0,
              "ticks": ""
             }
            },
            "type": "scatterpolargl"
           }
          ],
          "scatterternary": [
           {
            "marker": {
             "colorbar": {
              "outlinewidth": 0,
              "ticks": ""
             }
            },
            "type": "scatterternary"
           }
          ],
          "surface": [
           {
            "colorbar": {
             "outlinewidth": 0,
             "ticks": ""
            },
            "colorscale": [
             [
              0,
              "#0d0887"
             ],
             [
              0.1111111111111111,
              "#46039f"
             ],
             [
              0.2222222222222222,
              "#7201a8"
             ],
             [
              0.3333333333333333,
              "#9c179e"
             ],
             [
              0.4444444444444444,
              "#bd3786"
             ],
             [
              0.5555555555555556,
              "#d8576b"
             ],
             [
              0.6666666666666666,
              "#ed7953"
             ],
             [
              0.7777777777777778,
              "#fb9f3a"
             ],
             [
              0.8888888888888888,
              "#fdca26"
             ],
             [
              1,
              "#f0f921"
             ]
            ],
            "type": "surface"
           }
          ],
          "table": [
           {
            "cells": {
             "fill": {
              "color": "#EBF0F8"
             },
             "line": {
              "color": "white"
             }
            },
            "header": {
             "fill": {
              "color": "#C8D4E3"
             },
             "line": {
              "color": "white"
             }
            },
            "type": "table"
           }
          ]
         },
         "layout": {
          "annotationdefaults": {
           "arrowcolor": "#2a3f5f",
           "arrowhead": 0,
           "arrowwidth": 1
          },
          "autotypenumbers": "strict",
          "coloraxis": {
           "colorbar": {
            "outlinewidth": 0,
            "ticks": ""
           }
          },
          "colorscale": {
           "diverging": [
            [
             0,
             "#8e0152"
            ],
            [
             0.1,
             "#c51b7d"
            ],
            [
             0.2,
             "#de77ae"
            ],
            [
             0.3,
             "#f1b6da"
            ],
            [
             0.4,
             "#fde0ef"
            ],
            [
             0.5,
             "#f7f7f7"
            ],
            [
             0.6,
             "#e6f5d0"
            ],
            [
             0.7,
             "#b8e186"
            ],
            [
             0.8,
             "#7fbc41"
            ],
            [
             0.9,
             "#4d9221"
            ],
            [
             1,
             "#276419"
            ]
           ],
           "sequential": [
            [
             0,
             "#0d0887"
            ],
            [
             0.1111111111111111,
             "#46039f"
            ],
            [
             0.2222222222222222,
             "#7201a8"
            ],
            [
             0.3333333333333333,
             "#9c179e"
            ],
            [
             0.4444444444444444,
             "#bd3786"
            ],
            [
             0.5555555555555556,
             "#d8576b"
            ],
            [
             0.6666666666666666,
             "#ed7953"
            ],
            [
             0.7777777777777778,
             "#fb9f3a"
            ],
            [
             0.8888888888888888,
             "#fdca26"
            ],
            [
             1,
             "#f0f921"
            ]
           ],
           "sequentialminus": [
            [
             0,
             "#0d0887"
            ],
            [
             0.1111111111111111,
             "#46039f"
            ],
            [
             0.2222222222222222,
             "#7201a8"
            ],
            [
             0.3333333333333333,
             "#9c179e"
            ],
            [
             0.4444444444444444,
             "#bd3786"
            ],
            [
             0.5555555555555556,
             "#d8576b"
            ],
            [
             0.6666666666666666,
             "#ed7953"
            ],
            [
             0.7777777777777778,
             "#fb9f3a"
            ],
            [
             0.8888888888888888,
             "#fdca26"
            ],
            [
             1,
             "#f0f921"
            ]
           ]
          },
          "colorway": [
           "#636efa",
           "#EF553B",
           "#00cc96",
           "#ab63fa",
           "#FFA15A",
           "#19d3f3",
           "#FF6692",
           "#B6E880",
           "#FF97FF",
           "#FECB52"
          ],
          "font": {
           "color": "#2a3f5f"
          },
          "geo": {
           "bgcolor": "white",
           "lakecolor": "white",
           "landcolor": "#E5ECF6",
           "showlakes": true,
           "showland": true,
           "subunitcolor": "white"
          },
          "hoverlabel": {
           "align": "left"
          },
          "hovermode": "closest",
          "mapbox": {
           "style": "light"
          },
          "paper_bgcolor": "white",
          "plot_bgcolor": "#E5ECF6",
          "polar": {
           "angularaxis": {
            "gridcolor": "white",
            "linecolor": "white",
            "ticks": ""
           },
           "bgcolor": "#E5ECF6",
           "radialaxis": {
            "gridcolor": "white",
            "linecolor": "white",
            "ticks": ""
           }
          },
          "scene": {
           "xaxis": {
            "backgroundcolor": "#E5ECF6",
            "gridcolor": "white",
            "gridwidth": 2,
            "linecolor": "white",
            "showbackground": true,
            "ticks": "",
            "zerolinecolor": "white"
           },
           "yaxis": {
            "backgroundcolor": "#E5ECF6",
            "gridcolor": "white",
            "gridwidth": 2,
            "linecolor": "white",
            "showbackground": true,
            "ticks": "",
            "zerolinecolor": "white"
           },
           "zaxis": {
            "backgroundcolor": "#E5ECF6",
            "gridcolor": "white",
            "gridwidth": 2,
            "linecolor": "white",
            "showbackground": true,
            "ticks": "",
            "zerolinecolor": "white"
           }
          },
          "shapedefaults": {
           "line": {
            "color": "#2a3f5f"
           }
          },
          "ternary": {
           "aaxis": {
            "gridcolor": "white",
            "linecolor": "white",
            "ticks": ""
           },
           "baxis": {
            "gridcolor": "white",
            "linecolor": "white",
            "ticks": ""
           },
           "bgcolor": "#E5ECF6",
           "caxis": {
            "gridcolor": "white",
            "linecolor": "white",
            "ticks": ""
           }
          },
          "title": {
           "x": 0.05
          },
          "xaxis": {
           "automargin": true,
           "gridcolor": "white",
           "linecolor": "white",
           "ticks": "",
           "title": {
            "standoff": 15
           },
           "zerolinecolor": "white",
           "zerolinewidth": 2
          },
          "yaxis": {
           "automargin": true,
           "gridcolor": "white",
           "linecolor": "white",
           "ticks": "",
           "title": {
            "standoff": 15
           },
           "zerolinecolor": "white",
           "zerolinewidth": 2
          }
         }
        },
        "xaxis": {
         "anchor": "y",
         "domain": [
          0,
          1
         ],
         "title": {
          "text": "Criminal markets"
         }
        },
        "yaxis": {
         "anchor": "x",
         "domain": [
          0,
          1
         ],
         "title": {
          "text": "Criminality"
         }
        }
       }
      }
     },
     "metadata": {},
     "output_type": "display_data"
    },
    {
     "data": {
      "application/vnd.plotly.v1+json": {
       "config": {
        "plotlyServerURL": "https://plot.ly"
       },
       "data": [
        {
         "coloraxis": "coloraxis",
         "hovertemplate": "x: %{x}<br>y: %{y}<br>color: %{z}<extra></extra>",
         "name": "0",
         "type": "heatmap",
         "x": [
          "Criminality",
          "Criminal markets",
          "Human trafficking",
          "Human smuggling",
          "Arms trafficking",
          "Flora crimes",
          "Fauna crimes",
          "Non-renewable resource crimes",
          "Heroin trade",
          "Cocaine trade",
          "Cannabis trade",
          "Synthetic drug trade",
          "Criminal actors",
          "Mafia-style groups",
          "Criminal networks",
          "State-embedded actors",
          "Foreign actors",
          "Resilience",
          "Political leadership and governance",
          "Government transparency and accountability",
          "International cooperation",
          "National policies and laws",
          "Judicial system and detention",
          "Law enforcement",
          "Territorial integrity",
          "Anti-money laundering",
          "Economic regulatory capacity",
          "Victim and witness support",
          "Prevention",
          "Non-state actors",
          "Year",
          "GDP_per_capita"
         ],
         "xaxis": "x",
         "y": [
          "Criminality",
          "Criminal markets",
          "Human trafficking",
          "Human smuggling",
          "Arms trafficking",
          "Flora crimes",
          "Fauna crimes",
          "Non-renewable resource crimes",
          "Heroin trade",
          "Cocaine trade",
          "Cannabis trade",
          "Synthetic drug trade",
          "Criminal actors",
          "Mafia-style groups",
          "Criminal networks",
          "State-embedded actors",
          "Foreign actors",
          "Resilience",
          "Political leadership and governance",
          "Government transparency and accountability",
          "International cooperation",
          "National policies and laws",
          "Judicial system and detention",
          "Law enforcement",
          "Territorial integrity",
          "Anti-money laundering",
          "Economic regulatory capacity",
          "Victim and witness support",
          "Prevention",
          "Non-state actors",
          "Year",
          "GDP_per_capita"
         ],
         "yaxis": "y",
         "z": [
          [
           1,
           0.9372312165079616,
           0.7570494692764635,
           0.7277717239970033,
           0.7748980435428005,
           0.5718559392820983,
           0.5169748231891004,
           0.7002672597196744,
           0.4951636580400009,
           0.3391623623811848,
           0.5519887481875413,
           0.5081980277596859,
           0.9567865606760351,
           0.6670500267608489,
           0.8354628443286766,
           0.7760965885236619,
           0.5661336636108014,
           -0.4499305036444228,
           -0.4908868928061403,
           -0.46709685806883283,
           -0.28680377476790125,
           -0.4326483771465305,
           -0.4831581781006282,
           -0.47362289008478026,
           -0.4413275080538032,
           -0.3194402626580328,
           -0.32064454437960144,
           -0.3671621763081809,
           -0.38246911034484,
           -0.3169462785707443,
           null,
           -0.3486143681276771
          ],
          [
           0.9372312165079616,
           1,
           0.7789085750549555,
           0.752269071062615,
           0.734031191862648,
           0.6215943104971735,
           0.6092428410458397,
           0.7385302403090396,
           0.5759567325457741,
           0.3394132864331361,
           0.559250982231604,
           0.6235767953971416,
           0.7953420746784041,
           0.5113986733397136,
           0.7450236506322695,
           0.6873300241248381,
           0.41727632496257133,
           -0.37517483432700394,
           -0.41521419413150706,
           -0.4020644119563133,
           -0.2313366195701823,
           -0.3665011534269215,
           -0.42976998454272036,
           -0.3806598800479474,
           -0.3610700848305882,
           -0.23388432006369095,
           -0.22244002655826875,
           -0.310545591928799,
           -0.32501620993173264,
           -0.30167624536347004,
           null,
           -0.3344386512090716
          ],
          [
           0.7570494692764635,
           0.7789085750549555,
           1,
           0.765329007186954,
           0.6554796534170241,
           0.3668680806998292,
           0.39993392119731025,
           0.5692871862253687,
           0.37379255106720766,
           0.05940112923765016,
           0.3943905025326531,
           0.4278232976636641,
           0.6664963862884391,
           0.4000916177277642,
           0.589826781916887,
           0.6658463622830576,
           0.29492391891133457,
           -0.5084399895170963,
           -0.49150495963093777,
           -0.5325232653090552,
           -0.4143366069662231,
           -0.5086003136187516,
           -0.5382653894942379,
           -0.47795248648879596,
           -0.42634839919417644,
           -0.37136781396512103,
           -0.34623366087846635,
           -0.43240233556100266,
           -0.4034839156136285,
           -0.4576784865594582,
           null,
           -0.33588891287201467
          ],
          [
           0.7277717239970033,
           0.752269071062615,
           0.765329007186954,
           1,
           0.6270533663187661,
           0.2636161033992605,
           0.2824752776219626,
           0.44201595544858746,
           0.47347875102243175,
           0.11306388469308119,
           0.41060800568518707,
           0.4770867146413771,
           0.6380364081610611,
           0.46430603942221677,
           0.590190169864409,
           0.5656389234109079,
           0.241120401292508,
           -0.3637426998309664,
           -0.38638980025211844,
           -0.4053024083011868,
           -0.2561400995171775,
           -0.35794039721325566,
           -0.411953016299404,
           -0.33874370575567697,
           -0.2644029679850563,
           -0.23013011561162525,
           -0.2460397963024386,
           -0.2963625545350409,
           -0.2968619020224673,
           -0.3665002540146887,
           null,
           -0.2554841381919093
          ],
          [
           0.7748980435428005,
           0.734031191862648,
           0.6554796534170241,
           0.6270533663187661,
           1,
           0.28138340261704176,
           0.25276452401435123,
           0.5763724762782348,
           0.21650543996716617,
           0.24060792222820618,
           0.48350930083127724,
           0.34533580438041106,
           0.7349802141317222,
           0.5069652202236165,
           0.6152768748178784,
           0.6248262521846712,
           0.4285608589510124,
           -0.44434647804495375,
           -0.47082815213331575,
           -0.4351477790990192,
           -0.31957739157048165,
           -0.4499902409143213,
           -0.45619233091521644,
           -0.46738287874673173,
           -0.388035038345581,
           -0.35268490966304117,
           -0.3616525569548694,
           -0.35351097366976675,
           -0.3805969672208283,
           -0.29787525561896505,
           null,
           -0.25532643357062634
          ],
          [
           0.5718559392820983,
           0.6215943104971735,
           0.3668680806998292,
           0.2636161033992605,
           0.28138340261704176,
           1,
           0.7051546183375645,
           0.47555823982372564,
           0.24929420595889912,
           0.1341966439697686,
           0.1361541060691146,
           0.1813734592806497,
           0.47523654176461333,
           0.21553798949884423,
           0.4456787038510675,
           0.4782231872797524,
           0.2818274640115088,
           -0.34283623229609755,
           -0.3932755484357699,
           -0.37120365253238197,
           -0.26911059508779983,
           -0.27828926300832085,
           -0.3236203168640032,
           -0.3110684545047896,
           -0.3571352847977195,
           -0.22900151142184572,
           -0.2495457732309838,
           -0.30829789552634473,
           -0.2818117649845104,
           -0.2604995604428769,
           null,
           -0.334868752956114
          ],
          [
           0.5169748231891004,
           0.6092428410458397,
           0.39993392119731025,
           0.2824752776219626,
           0.25276452401435123,
           0.7051546183375645,
           1,
           0.4284700649379615,
           0.2642597894675068,
           0.02136378139633446,
           0.09513396126360521,
           0.3285319509250397,
           0.3905196257093819,
           0.15204919816416837,
           0.40785245212205634,
           0.34266054822698455,
           0.2983221717760222,
           -0.28403420186741174,
           -0.30537485746723336,
           -0.27829164021649466,
           -0.17778455395268575,
           -0.2328245392733054,
           -0.2717541549378512,
           -0.2577933099372954,
           -0.32083665855538085,
           -0.15323125250716554,
           -0.15478970925527832,
           -0.3053360358699447,
           -0.2914618891337741,
           -0.24925773324924258,
           null,
           -0.34374935383337585
          ],
          [
           0.7002672597196744,
           0.7385302403090396,
           0.5692871862253687,
           0.44201595544858746,
           0.5763724762782348,
           0.47555823982372564,
           0.4284700649379615,
           1,
           0.29297312653627133,
           0.13188771669556368,
           0.29319768586905615,
           0.33966871901799955,
           0.6013663642005531,
           0.35887072415551596,
           0.46709183738962723,
           0.6285176507904606,
           0.2986622514365025,
           -0.4613208895578613,
           -0.43874261383166796,
           -0.46639287365573945,
           -0.37721305579097486,
           -0.4466337851614831,
           -0.464918742321677,
           -0.47500809975718344,
           -0.3997881178933632,
           -0.3446658552668241,
           -0.30439969180682963,
           -0.37099651606088374,
           -0.4465629439255538,
           -0.37127698476856585,
           null,
           -0.2958687513656243
          ],
          [
           0.4951636580400009,
           0.5759567325457741,
           0.37379255106720766,
           0.47347875102243175,
           0.21650543996716617,
           0.24929420595889912,
           0.2642597894675068,
           0.29297312653627133,
           1,
           0.026781242275937957,
           0.1824701040714152,
           0.5554993683664724,
           0.3805786930707881,
           0.28848418115003766,
           0.3719435490236757,
           0.3137016986541997,
           0.14107083014380567,
           -0.009689222998301513,
           -0.05165785317080172,
           -0.0578231328544954,
           0.02726605648974136,
           -0.006351341352496996,
           -0.059371737681708496,
           -0.027425176069606292,
           -0.027241140078772954,
           0.05636971019307064,
           0.10804148615935068,
           0.022552815804973713,
           0.00542022257526571,
           -0.08056223301307516,
           null,
           -0.05217787638919184
          ],
          [
           0.3391623623811848,
           0.3394132864331361,
           0.05940112923765016,
           0.11306388469308119,
           0.24060792222820618,
           0.1341966439697686,
           0.02136378139633446,
           0.13188771669556368,
           0.026781242275937957,
           1,
           0.4518322324679165,
           0.023484483539540194,
           0.30648192495416554,
           0.33459068164371064,
           0.30486912548639516,
           0.0650212741569378,
           0.23632707666230096,
           0.15769041246761664,
           0.12162468927190849,
           0.1739315972248621,
           0.2517414700026245,
           0.13229221019997517,
           0.07026119930654998,
           0.09734020673241038,
           0.06953585207130174,
           0.11169486253052499,
           0.09600815151023927,
           0.12379340339644299,
           0.14185701373827062,
           0.2797724261124406,
           null,
           0.0014448063126699235
          ],
          [
           0.5519887481875413,
           0.559250982231604,
           0.3943905025326531,
           0.41060800568518707,
           0.48350930083127724,
           0.1361541060691146,
           0.09513396126360521,
           0.29319768586905615,
           0.1824701040714152,
           0.4518322324679165,
           1,
           0.28874819747994573,
           0.4932715442884115,
           0.3129417294298747,
           0.5267961260756026,
           0.39558822997637144,
           0.2410868068544161,
           -0.13999888027352886,
           -0.16645479227989673,
           -0.1642288546966312,
           -0.02806075161326838,
           -0.17041791332675238,
           -0.21855001536024268,
           -0.1423759394102237,
           -0.11677814524025433,
           -0.04734866423301304,
           -0.12369860885058466,
           -0.1492599028024683,
           -0.10049396055265125,
           -0.05416313677943709,
           null,
           -0.22537133312403365
          ],
          [
           0.5081980277596859,
           0.6235767953971416,
           0.4278232976636641,
           0.4770867146413771,
           0.34533580438041106,
           0.1813734592806497,
           0.3285319509250397,
           0.33966871901799955,
           0.5554993683664724,
           0.023484483539540194,
           0.28874819747994573,
           1,
           0.3638640598228194,
           0.22301847451129395,
           0.4429407922688293,
           0.2631990617753898,
           0.17291047502602805,
           0.04544722495238719,
           -0.02046321855162251,
           0.011237418968045632,
           0.13491123641807168,
           0.0063411483028307574,
           -0.04484051583389905,
           0.021576073154515818,
           -0.020293373478195768,
           0.10989777935026182,
           0.18255954645702355,
           0.10965512624616824,
           0.03382401430476961,
           -0.034001490370550384,
           null,
           -0.02611094576972074
          ],
          [
           0.9567865606760351,
           0.7953420746784041,
           0.6664963862884391,
           0.6380364081610611,
           0.7349802141317222,
           0.47523654176461333,
           0.3905196257093819,
           0.6013663642005531,
           0.3805786930707881,
           0.30648192495416554,
           0.4932715442884115,
           0.3638640598228194,
           1,
           0.7332439111258809,
           0.8309343809374503,
           0.7758545165100523,
           0.6362641873136128,
           -0.4690335431355431,
           -0.5068303472615995,
           -0.4765633515043883,
           -0.3053950547982995,
           -0.44636624765044547,
           -0.4814000498188756,
           -0.5056344445137286,
           -0.46595127382951185,
           -0.3599847347967675,
           -0.3716339633174994,
           -0.3790833719983368,
           -0.3936352930023125,
           -0.2990100397335269,
           null,
           -0.3270953703408437
          ],
          [
           0.6670500267608489,
           0.5113986733397136,
           0.4000916177277642,
           0.46430603942221677,
           0.5069652202236165,
           0.21553798949884423,
           0.15204919816416837,
           0.35887072415551596,
           0.28848418115003766,
           0.33459068164371064,
           0.3129417294298747,
           0.22301847451129395,
           0.7332439111258809,
           1,
           0.4916640929073412,
           0.32009643388776304,
           0.2802185321800366,
           -0.12127055769384232,
           -0.16865889521761337,
           -0.1112471581265993,
           -0.012466764238969724,
           -0.10972922799614854,
           -0.18577271251258792,
           -0.1704459395221088,
           -0.19896216507895023,
           -0.09024043558699642,
           -0.09699770825335806,
           -0.0856654133680951,
           -0.0751961567497643,
           0.010988417298433781,
           null,
           -0.09762782512222554
          ],
          [
           0.8354628443286766,
           0.7450236506322695,
           0.589826781916887,
           0.590190169864409,
           0.6152768748178784,
           0.4456787038510675,
           0.40785245212205634,
           0.46709183738962723,
           0.3719435490236757,
           0.30486912548639516,
           0.5267961260756026,
           0.4429407922688293,
           0.8309343809374503,
           0.4916640929073412,
           1,
           0.5877081384637466,
           0.4543640697596022,
           -0.30566651991696814,
           -0.37094842498553876,
           -0.30756158452985793,
           -0.12680549540814967,
           -0.2984769627175373,
           -0.3211261163974599,
           -0.3541335136740586,
           -0.3351485867238314,
           -0.19005164317435622,
           -0.212185127240043,
           -0.27286845104817675,
           -0.2682232886494752,
           -0.1868852113472317,
           null,
           -0.2865996727351913
          ],
          [
           0.7760965885236619,
           0.6873300241248381,
           0.6658463622830576,
           0.5656389234109079,
           0.6248262521846712,
           0.4782231872797524,
           0.34266054822698455,
           0.6285176507904606,
           0.3137016986541997,
           0.0650212741569378,
           0.39558822997637144,
           0.2631990617753898,
           0.7758545165100523,
           0.32009643388776304,
           0.5877081384637466,
           1,
           0.3312569252376517,
           -0.7373887207777926,
           -0.7395945499671327,
           -0.7648208690144076,
           -0.6103809036429765,
           -0.689916316494361,
           -0.7194300391231612,
           -0.7085416963727897,
           -0.5613958060534019,
           -0.568962346102463,
           -0.602580053653438,
           -0.6102600426552159,
           -0.6335619216949431,
           -0.630054988695547,
           null,
           -0.4843612255118976
          ],
          [
           0.5661336636108014,
           0.41727632496257133,
           0.29492391891133457,
           0.241120401292508,
           0.4285608589510124,
           0.2818274640115088,
           0.2983221717760222,
           0.2986622514365025,
           0.14107083014380567,
           0.23632707666230096,
           0.2410868068544161,
           0.17291047502602805,
           0.6362641873136128,
           0.2802185321800366,
           0.4543640697596022,
           0.3312569252376517,
           1,
           -0.16289346937953075,
           -0.16193107039014867,
           -0.16308872490741266,
           -0.08838595133955814,
           -0.17291179166664036,
           -0.12416834026028667,
           -0.21883677138975474,
           -0.2662662731400727,
           -0.172547532100835,
           -0.13274949191525473,
           -0.10097035102276762,
           -0.14157940596918234,
           -0.0052219964321662685,
           null,
           -0.059742063970096876
          ],
          [
           -0.4499305036444228,
           -0.37517483432700394,
           -0.5084399895170963,
           -0.3637426998309664,
           -0.44434647804495375,
           -0.34283623229609755,
           -0.28403420186741174,
           -0.4613208895578613,
           -0.009689222998301513,
           0.15769041246761664,
           -0.13999888027352886,
           0.04544722495238719,
           -0.4690335431355431,
           -0.12127055769384232,
           -0.30566651991696814,
           -0.7373887207777926,
           -0.16289346937953075,
           1,
           0.9076317622867491,
           0.9240693380870857,
           0.8963473275316559,
           0.9148469290590395,
           0.9026042796309143,
           0.9185752546321703,
           0.8292393489058989,
           0.8465007433609049,
           0.8882594979199397,
           0.8851303284608205,
           0.8993012718529075,
           0.82767361918364,
           null,
           0.5842267754005623
          ],
          [
           -0.4908868928061403,
           -0.41521419413150706,
           -0.49150495963093777,
           -0.38638980025211844,
           -0.47082815213331575,
           -0.3932755484357699,
           -0.30537485746723336,
           -0.43874261383166796,
           -0.05165785317080172,
           0.12162468927190849,
           -0.16645479227989673,
           -0.02046321855162251,
           -0.5068303472615995,
           -0.16865889521761337,
           -0.37094842498553876,
           -0.7395945499671327,
           -0.16193107039014867,
           0.9076317622867491,
           1,
           0.8715548065321153,
           0.8058091331243635,
           0.8347676746775057,
           0.8221613463902611,
           0.8176683310675482,
           0.7325972909007331,
           0.7192925754736764,
           0.7681003780755392,
           0.7533582831943578,
           0.8004243256794007,
           0.729207847435361,
           null,
           0.4868296581447522
          ],
          [
           -0.46709685806883283,
           -0.4020644119563133,
           -0.5325232653090552,
           -0.4053024083011868,
           -0.4351477790990192,
           -0.37120365253238197,
           -0.27829164021649466,
           -0.46639287365573945,
           -0.0578231328544954,
           0.1739315972248621,
           -0.1642288546966312,
           0.011237418968045632,
           -0.4765633515043883,
           -0.1112471581265993,
           -0.30756158452985793,
           -0.7648208690144076,
           -0.16308872490741266,
           0.9240693380870857,
           0.8715548065321153,
           1,
           0.8430160228291674,
           0.8307480604457713,
           0.8309150120605405,
           0.8241665588720947,
           0.7047114837383698,
           0.7563054062507646,
           0.7862845090309358,
           0.7893860736817433,
           0.785206837499517,
           0.8008406581106471,
           null,
           0.5115027669121287
          ],
          [
           -0.28680377476790125,
           -0.2313366195701823,
           -0.4143366069662231,
           -0.2561400995171775,
           -0.31957739157048165,
           -0.26911059508779983,
           -0.17778455395268575,
           -0.37721305579097486,
           0.02726605648974136,
           0.2517414700026245,
           -0.02806075161326838,
           0.13491123641807168,
           -0.3053950547982995,
           -0.012466764238969724,
           -0.12680549540814967,
           -0.6103809036429765,
           -0.08838595133955814,
           0.8963473275316559,
           0.8058091331243635,
           0.8430160228291674,
           1,
           0.8519452024960327,
           0.7679135144750683,
           0.8020868785647588,
           0.6788911229058351,
           0.7478846309271919,
           0.7712372808436683,
           0.7692478701132366,
           0.7629733188192662,
           0.7435914624574311,
           null,
           0.4512472157820134
          ],
          [
           -0.4326483771465305,
           -0.3665011534269215,
           -0.5086003136187516,
           -0.35794039721325566,
           -0.4499902409143213,
           -0.27828926300832085,
           -0.2328245392733054,
           -0.4466337851614831,
           -0.006351341352496996,
           0.13229221019997517,
           -0.17041791332675238,
           0.0063411483028307574,
           -0.44636624765044547,
           -0.10972922799614854,
           -0.2984769627175373,
           -0.689916316494361,
           -0.17291179166664036,
           0.9148469290590395,
           0.8347676746775057,
           0.8307480604457713,
           0.8519452024960327,
           1,
           0.8333008388274112,
           0.8479071773915566,
           0.7257376301457851,
           0.7759290692048766,
           0.7761369042967605,
           0.7765464935236654,
           0.7757875018492222,
           0.7263314999532934,
           null,
           0.5020584444394378
          ],
          [
           -0.4831581781006282,
           -0.42976998454272036,
           -0.5382653894942379,
           -0.411953016299404,
           -0.45619233091521644,
           -0.3236203168640032,
           -0.2717541549378512,
           -0.464918742321677,
           -0.059371737681708496,
           0.07026119930654998,
           -0.21855001536024268,
           -0.04484051583389905,
           -0.4814000498188756,
           -0.18577271251258792,
           -0.3211261163974599,
           -0.7194300391231612,
           -0.12416834026028667,
           0.9026042796309143,
           0.8221613463902611,
           0.8309150120605405,
           0.7679135144750683,
           0.8333008388274112,
           1,
           0.8324978979264512,
           0.7449432298514623,
           0.7406302025605973,
           0.766438933484534,
           0.7679604792917839,
           0.7639970310593813,
           0.7314511767983432,
           null,
           0.6031601285765892
          ],
          [
           -0.47362289008478026,
           -0.3806598800479474,
           -0.47795248648879596,
           -0.33874370575567697,
           -0.46738287874673173,
           -0.3110684545047896,
           -0.2577933099372954,
           -0.47500809975718344,
           -0.027425176069606292,
           0.09734020673241038,
           -0.1423759394102237,
           0.021576073154515818,
           -0.5056344445137286,
           -0.1704459395221088,
           -0.3541335136740586,
           -0.7085416963727897,
           -0.21883677138975474,
           0.9185752546321703,
           0.8176683310675482,
           0.8241665588720947,
           0.8020868785647588,
           0.8479071773915566,
           0.8324978979264512,
           1,
           0.7886618706202414,
           0.7716972252624598,
           0.7717682568748452,
           0.797131494928347,
           0.8237614542655675,
           0.7048193510407962,
           null,
           0.5652102364030052
          ],
          [
           -0.4413275080538032,
           -0.3610700848305882,
           -0.42634839919417644,
           -0.2644029679850563,
           -0.388035038345581,
           -0.3571352847977195,
           -0.32083665855538085,
           -0.3997881178933632,
           -0.027241140078772954,
           0.06953585207130174,
           -0.11677814524025433,
           -0.020293373478195768,
           -0.46595127382951185,
           -0.19896216507895023,
           -0.3351485867238314,
           -0.5613958060534019,
           -0.2662662731400727,
           0.8292393489058989,
           0.7325972909007331,
           0.7047114837383698,
           0.6788911229058351,
           0.7257376301457851,
           0.7449432298514623,
           0.7886618706202414,
           1,
           0.6988821770608685,
           0.7296115394523816,
           0.6875873471441603,
           0.7592574419369101,
           0.5750819820429448,
           null,
           0.5149785340524707
          ],
          [
           -0.3194402626580328,
           -0.23388432006369095,
           -0.37136781396512103,
           -0.23013011561162525,
           -0.35268490966304117,
           -0.22900151142184572,
           -0.15323125250716554,
           -0.3446658552668241,
           0.05636971019307064,
           0.11169486253052499,
           -0.04734866423301304,
           0.10989777935026182,
           -0.3599847347967675,
           -0.09024043558699642,
           -0.19005164317435622,
           -0.568962346102463,
           -0.172547532100835,
           0.8465007433609049,
           0.7192925754736764,
           0.7563054062507646,
           0.7478846309271919,
           0.7759290692048766,
           0.7406302025605973,
           0.7716972252624598,
           0.6988821770608685,
           1,
           0.7910361599905118,
           0.679617324846781,
           0.7240201513625758,
           0.6464341855165102,
           null,
           0.4034725701418122
          ],
          [
           -0.32064454437960144,
           -0.22244002655826875,
           -0.34623366087846635,
           -0.2460397963024386,
           -0.3616525569548694,
           -0.2495457732309838,
           -0.15478970925527832,
           -0.30439969180682963,
           0.10804148615935068,
           0.09600815151023927,
           -0.12369860885058466,
           0.18255954645702355,
           -0.3716339633174994,
           -0.09699770825335806,
           -0.212185127240043,
           -0.602580053653438,
           -0.13274949191525473,
           0.8882594979199397,
           0.7681003780755392,
           0.7862845090309358,
           0.7712372808436683,
           0.7761369042967605,
           0.766438933484534,
           0.7717682568748452,
           0.7296115394523816,
           0.7910361599905118,
           1,
           0.8032224751062073,
           0.7998483309749047,
           0.6897470006286383,
           null,
           0.5205017088131402
          ],
          [
           -0.3671621763081809,
           -0.310545591928799,
           -0.43240233556100266,
           -0.2963625545350409,
           -0.35351097366976675,
           -0.30829789552634473,
           -0.3053360358699447,
           -0.37099651606088374,
           0.022552815804973713,
           0.12379340339644299,
           -0.1492599028024683,
           0.10965512624616824,
           -0.3790833719983368,
           -0.0856654133680951,
           -0.27286845104817675,
           -0.6102600426552159,
           -0.10097035102276762,
           0.8851303284608205,
           0.7533582831943578,
           0.7893860736817433,
           0.7692478701132366,
           0.7765464935236654,
           0.7679604792917839,
           0.797131494928347,
           0.6875873471441603,
           0.679617324846781,
           0.8032224751062073,
           1,
           0.8485070448605512,
           0.7181999989616116,
           null,
           0.6500049250950634
          ],
          [
           -0.38246911034484,
           -0.32501620993173264,
           -0.4034839156136285,
           -0.2968619020224673,
           -0.3805969672208283,
           -0.2818117649845104,
           -0.2914618891337741,
           -0.4465629439255538,
           0.00542022257526571,
           0.14185701373827062,
           -0.10049396055265125,
           0.03382401430476961,
           -0.3936352930023125,
           -0.0751961567497643,
           -0.2682232886494752,
           -0.6335619216949431,
           -0.14157940596918234,
           0.8993012718529075,
           0.8004243256794007,
           0.785206837499517,
           0.7629733188192662,
           0.7757875018492222,
           0.7639970310593813,
           0.8237614542655675,
           0.7592574419369101,
           0.7240201513625758,
           0.7998483309749047,
           0.8485070448605512,
           1,
           0.7159230104569412,
           null,
           0.5439986377387916
          ],
          [
           -0.3169462785707443,
           -0.30167624536347004,
           -0.4576784865594582,
           -0.3665002540146887,
           -0.29787525561896505,
           -0.2604995604428769,
           -0.24925773324924258,
           -0.37127698476856585,
           -0.08056223301307516,
           0.2797724261124406,
           -0.05416313677943709,
           -0.034001490370550384,
           -0.2990100397335269,
           0.010988417298433781,
           -0.1868852113472317,
           -0.630054988695547,
           -0.0052219964321662685,
           0.82767361918364,
           0.729207847435361,
           0.8008406581106471,
           0.7435914624574311,
           0.7263314999532934,
           0.7314511767983432,
           0.7048193510407962,
           0.5750819820429448,
           0.6464341855165102,
           0.6897470006286383,
           0.7181999989616116,
           0.7159230104569412,
           1,
           null,
           0.4381515510846364
          ],
          [
           null,
           null,
           null,
           null,
           null,
           null,
           null,
           null,
           null,
           null,
           null,
           null,
           null,
           null,
           null,
           null,
           null,
           null,
           null,
           null,
           null,
           null,
           null,
           null,
           null,
           null,
           null,
           null,
           null,
           null,
           null,
           null
          ],
          [
           -0.3486143681276771,
           -0.3344386512090716,
           -0.33588891287201467,
           -0.2554841381919093,
           -0.25532643357062634,
           -0.334868752956114,
           -0.34374935383337585,
           -0.2958687513656243,
           -0.05217787638919184,
           0.0014448063126699235,
           -0.22537133312403365,
           -0.02611094576972074,
           -0.3270953703408437,
           -0.09762782512222554,
           -0.2865996727351913,
           -0.4843612255118976,
           -0.059742063970096876,
           0.5842267754005623,
           0.4868296581447522,
           0.5115027669121287,
           0.4512472157820134,
           0.5020584444394378,
           0.6031601285765892,
           0.5652102364030052,
           0.5149785340524707,
           0.4034725701418122,
           0.5205017088131402,
           0.6500049250950634,
           0.5439986377387916,
           0.4381515510846364,
           null,
           1
          ]
         ]
        }
       ],
       "layout": {
        "coloraxis": {
         "colorscale": [
          [
           0,
           "#0d0887"
          ],
          [
           0.1111111111111111,
           "#46039f"
          ],
          [
           0.2222222222222222,
           "#7201a8"
          ],
          [
           0.3333333333333333,
           "#9c179e"
          ],
          [
           0.4444444444444444,
           "#bd3786"
          ],
          [
           0.5555555555555556,
           "#d8576b"
          ],
          [
           0.6666666666666666,
           "#ed7953"
          ],
          [
           0.7777777777777778,
           "#fb9f3a"
          ],
          [
           0.8888888888888888,
           "#fdca26"
          ],
          [
           1,
           "#f0f921"
          ]
         ]
        },
        "margin": {
         "t": 60
        },
        "template": {
         "data": {
          "bar": [
           {
            "error_x": {
             "color": "#2a3f5f"
            },
            "error_y": {
             "color": "#2a3f5f"
            },
            "marker": {
             "line": {
              "color": "#E5ECF6",
              "width": 0.5
             },
             "pattern": {
              "fillmode": "overlay",
              "size": 10,
              "solidity": 0.2
             }
            },
            "type": "bar"
           }
          ],
          "barpolar": [
           {
            "marker": {
             "line": {
              "color": "#E5ECF6",
              "width": 0.5
             },
             "pattern": {
              "fillmode": "overlay",
              "size": 10,
              "solidity": 0.2
             }
            },
            "type": "barpolar"
           }
          ],
          "carpet": [
           {
            "aaxis": {
             "endlinecolor": "#2a3f5f",
             "gridcolor": "white",
             "linecolor": "white",
             "minorgridcolor": "white",
             "startlinecolor": "#2a3f5f"
            },
            "baxis": {
             "endlinecolor": "#2a3f5f",
             "gridcolor": "white",
             "linecolor": "white",
             "minorgridcolor": "white",
             "startlinecolor": "#2a3f5f"
            },
            "type": "carpet"
           }
          ],
          "choropleth": [
           {
            "colorbar": {
             "outlinewidth": 0,
             "ticks": ""
            },
            "type": "choropleth"
           }
          ],
          "contour": [
           {
            "colorbar": {
             "outlinewidth": 0,
             "ticks": ""
            },
            "colorscale": [
             [
              0,
              "#0d0887"
             ],
             [
              0.1111111111111111,
              "#46039f"
             ],
             [
              0.2222222222222222,
              "#7201a8"
             ],
             [
              0.3333333333333333,
              "#9c179e"
             ],
             [
              0.4444444444444444,
              "#bd3786"
             ],
             [
              0.5555555555555556,
              "#d8576b"
             ],
             [
              0.6666666666666666,
              "#ed7953"
             ],
             [
              0.7777777777777778,
              "#fb9f3a"
             ],
             [
              0.8888888888888888,
              "#fdca26"
             ],
             [
              1,
              "#f0f921"
             ]
            ],
            "type": "contour"
           }
          ],
          "contourcarpet": [
           {
            "colorbar": {
             "outlinewidth": 0,
             "ticks": ""
            },
            "type": "contourcarpet"
           }
          ],
          "heatmap": [
           {
            "colorbar": {
             "outlinewidth": 0,
             "ticks": ""
            },
            "colorscale": [
             [
              0,
              "#0d0887"
             ],
             [
              0.1111111111111111,
              "#46039f"
             ],
             [
              0.2222222222222222,
              "#7201a8"
             ],
             [
              0.3333333333333333,
              "#9c179e"
             ],
             [
              0.4444444444444444,
              "#bd3786"
             ],
             [
              0.5555555555555556,
              "#d8576b"
             ],
             [
              0.6666666666666666,
              "#ed7953"
             ],
             [
              0.7777777777777778,
              "#fb9f3a"
             ],
             [
              0.8888888888888888,
              "#fdca26"
             ],
             [
              1,
              "#f0f921"
             ]
            ],
            "type": "heatmap"
           }
          ],
          "heatmapgl": [
           {
            "colorbar": {
             "outlinewidth": 0,
             "ticks": ""
            },
            "colorscale": [
             [
              0,
              "#0d0887"
             ],
             [
              0.1111111111111111,
              "#46039f"
             ],
             [
              0.2222222222222222,
              "#7201a8"
             ],
             [
              0.3333333333333333,
              "#9c179e"
             ],
             [
              0.4444444444444444,
              "#bd3786"
             ],
             [
              0.5555555555555556,
              "#d8576b"
             ],
             [
              0.6666666666666666,
              "#ed7953"
             ],
             [
              0.7777777777777778,
              "#fb9f3a"
             ],
             [
              0.8888888888888888,
              "#fdca26"
             ],
             [
              1,
              "#f0f921"
             ]
            ],
            "type": "heatmapgl"
           }
          ],
          "histogram": [
           {
            "marker": {
             "pattern": {
              "fillmode": "overlay",
              "size": 10,
              "solidity": 0.2
             }
            },
            "type": "histogram"
           }
          ],
          "histogram2d": [
           {
            "colorbar": {
             "outlinewidth": 0,
             "ticks": ""
            },
            "colorscale": [
             [
              0,
              "#0d0887"
             ],
             [
              0.1111111111111111,
              "#46039f"
             ],
             [
              0.2222222222222222,
              "#7201a8"
             ],
             [
              0.3333333333333333,
              "#9c179e"
             ],
             [
              0.4444444444444444,
              "#bd3786"
             ],
             [
              0.5555555555555556,
              "#d8576b"
             ],
             [
              0.6666666666666666,
              "#ed7953"
             ],
             [
              0.7777777777777778,
              "#fb9f3a"
             ],
             [
              0.8888888888888888,
              "#fdca26"
             ],
             [
              1,
              "#f0f921"
             ]
            ],
            "type": "histogram2d"
           }
          ],
          "histogram2dcontour": [
           {
            "colorbar": {
             "outlinewidth": 0,
             "ticks": ""
            },
            "colorscale": [
             [
              0,
              "#0d0887"
             ],
             [
              0.1111111111111111,
              "#46039f"
             ],
             [
              0.2222222222222222,
              "#7201a8"
             ],
             [
              0.3333333333333333,
              "#9c179e"
             ],
             [
              0.4444444444444444,
              "#bd3786"
             ],
             [
              0.5555555555555556,
              "#d8576b"
             ],
             [
              0.6666666666666666,
              "#ed7953"
             ],
             [
              0.7777777777777778,
              "#fb9f3a"
             ],
             [
              0.8888888888888888,
              "#fdca26"
             ],
             [
              1,
              "#f0f921"
             ]
            ],
            "type": "histogram2dcontour"
           }
          ],
          "mesh3d": [
           {
            "colorbar": {
             "outlinewidth": 0,
             "ticks": ""
            },
            "type": "mesh3d"
           }
          ],
          "parcoords": [
           {
            "line": {
             "colorbar": {
              "outlinewidth": 0,
              "ticks": ""
             }
            },
            "type": "parcoords"
           }
          ],
          "pie": [
           {
            "automargin": true,
            "type": "pie"
           }
          ],
          "scatter": [
           {
            "fillpattern": {
             "fillmode": "overlay",
             "size": 10,
             "solidity": 0.2
            },
            "type": "scatter"
           }
          ],
          "scatter3d": [
           {
            "line": {
             "colorbar": {
              "outlinewidth": 0,
              "ticks": ""
             }
            },
            "marker": {
             "colorbar": {
              "outlinewidth": 0,
              "ticks": ""
             }
            },
            "type": "scatter3d"
           }
          ],
          "scattercarpet": [
           {
            "marker": {
             "colorbar": {
              "outlinewidth": 0,
              "ticks": ""
             }
            },
            "type": "scattercarpet"
           }
          ],
          "scattergeo": [
           {
            "marker": {
             "colorbar": {
              "outlinewidth": 0,
              "ticks": ""
             }
            },
            "type": "scattergeo"
           }
          ],
          "scattergl": [
           {
            "marker": {
             "colorbar": {
              "outlinewidth": 0,
              "ticks": ""
             }
            },
            "type": "scattergl"
           }
          ],
          "scattermapbox": [
           {
            "marker": {
             "colorbar": {
              "outlinewidth": 0,
              "ticks": ""
             }
            },
            "type": "scattermapbox"
           }
          ],
          "scatterpolar": [
           {
            "marker": {
             "colorbar": {
              "outlinewidth": 0,
              "ticks": ""
             }
            },
            "type": "scatterpolar"
           }
          ],
          "scatterpolargl": [
           {
            "marker": {
             "colorbar": {
              "outlinewidth": 0,
              "ticks": ""
             }
            },
            "type": "scatterpolargl"
           }
          ],
          "scatterternary": [
           {
            "marker": {
             "colorbar": {
              "outlinewidth": 0,
              "ticks": ""
             }
            },
            "type": "scatterternary"
           }
          ],
          "surface": [
           {
            "colorbar": {
             "outlinewidth": 0,
             "ticks": ""
            },
            "colorscale": [
             [
              0,
              "#0d0887"
             ],
             [
              0.1111111111111111,
              "#46039f"
             ],
             [
              0.2222222222222222,
              "#7201a8"
             ],
             [
              0.3333333333333333,
              "#9c179e"
             ],
             [
              0.4444444444444444,
              "#bd3786"
             ],
             [
              0.5555555555555556,
              "#d8576b"
             ],
             [
              0.6666666666666666,
              "#ed7953"
             ],
             [
              0.7777777777777778,
              "#fb9f3a"
             ],
             [
              0.8888888888888888,
              "#fdca26"
             ],
             [
              1,
              "#f0f921"
             ]
            ],
            "type": "surface"
           }
          ],
          "table": [
           {
            "cells": {
             "fill": {
              "color": "#EBF0F8"
             },
             "line": {
              "color": "white"
             }
            },
            "header": {
             "fill": {
              "color": "#C8D4E3"
             },
             "line": {
              "color": "white"
             }
            },
            "type": "table"
           }
          ]
         },
         "layout": {
          "annotationdefaults": {
           "arrowcolor": "#2a3f5f",
           "arrowhead": 0,
           "arrowwidth": 1
          },
          "autotypenumbers": "strict",
          "coloraxis": {
           "colorbar": {
            "outlinewidth": 0,
            "ticks": ""
           }
          },
          "colorscale": {
           "diverging": [
            [
             0,
             "#8e0152"
            ],
            [
             0.1,
             "#c51b7d"
            ],
            [
             0.2,
             "#de77ae"
            ],
            [
             0.3,
             "#f1b6da"
            ],
            [
             0.4,
             "#fde0ef"
            ],
            [
             0.5,
             "#f7f7f7"
            ],
            [
             0.6,
             "#e6f5d0"
            ],
            [
             0.7,
             "#b8e186"
            ],
            [
             0.8,
             "#7fbc41"
            ],
            [
             0.9,
             "#4d9221"
            ],
            [
             1,
             "#276419"
            ]
           ],
           "sequential": [
            [
             0,
             "#0d0887"
            ],
            [
             0.1111111111111111,
             "#46039f"
            ],
            [
             0.2222222222222222,
             "#7201a8"
            ],
            [
             0.3333333333333333,
             "#9c179e"
            ],
            [
             0.4444444444444444,
             "#bd3786"
            ],
            [
             0.5555555555555556,
             "#d8576b"
            ],
            [
             0.6666666666666666,
             "#ed7953"
            ],
            [
             0.7777777777777778,
             "#fb9f3a"
            ],
            [
             0.8888888888888888,
             "#fdca26"
            ],
            [
             1,
             "#f0f921"
            ]
           ],
           "sequentialminus": [
            [
             0,
             "#0d0887"
            ],
            [
             0.1111111111111111,
             "#46039f"
            ],
            [
             0.2222222222222222,
             "#7201a8"
            ],
            [
             0.3333333333333333,
             "#9c179e"
            ],
            [
             0.4444444444444444,
             "#bd3786"
            ],
            [
             0.5555555555555556,
             "#d8576b"
            ],
            [
             0.6666666666666666,
             "#ed7953"
            ],
            [
             0.7777777777777778,
             "#fb9f3a"
            ],
            [
             0.8888888888888888,
             "#fdca26"
            ],
            [
             1,
             "#f0f921"
            ]
           ]
          },
          "colorway": [
           "#636efa",
           "#EF553B",
           "#00cc96",
           "#ab63fa",
           "#FFA15A",
           "#19d3f3",
           "#FF6692",
           "#B6E880",
           "#FF97FF",
           "#FECB52"
          ],
          "font": {
           "color": "#2a3f5f"
          },
          "geo": {
           "bgcolor": "white",
           "lakecolor": "white",
           "landcolor": "#E5ECF6",
           "showlakes": true,
           "showland": true,
           "subunitcolor": "white"
          },
          "hoverlabel": {
           "align": "left"
          },
          "hovermode": "closest",
          "mapbox": {
           "style": "light"
          },
          "paper_bgcolor": "white",
          "plot_bgcolor": "#E5ECF6",
          "polar": {
           "angularaxis": {
            "gridcolor": "white",
            "linecolor": "white",
            "ticks": ""
           },
           "bgcolor": "#E5ECF6",
           "radialaxis": {
            "gridcolor": "white",
            "linecolor": "white",
            "ticks": ""
           }
          },
          "scene": {
           "xaxis": {
            "backgroundcolor": "#E5ECF6",
            "gridcolor": "white",
            "gridwidth": 2,
            "linecolor": "white",
            "showbackground": true,
            "ticks": "",
            "zerolinecolor": "white"
           },
           "yaxis": {
            "backgroundcolor": "#E5ECF6",
            "gridcolor": "white",
            "gridwidth": 2,
            "linecolor": "white",
            "showbackground": true,
            "ticks": "",
            "zerolinecolor": "white"
           },
           "zaxis": {
            "backgroundcolor": "#E5ECF6",
            "gridcolor": "white",
            "gridwidth": 2,
            "linecolor": "white",
            "showbackground": true,
            "ticks": "",
            "zerolinecolor": "white"
           }
          },
          "shapedefaults": {
           "line": {
            "color": "#2a3f5f"
           }
          },
          "ternary": {
           "aaxis": {
            "gridcolor": "white",
            "linecolor": "white",
            "ticks": ""
           },
           "baxis": {
            "gridcolor": "white",
            "linecolor": "white",
            "ticks": ""
           },
           "bgcolor": "#E5ECF6",
           "caxis": {
            "gridcolor": "white",
            "linecolor": "white",
            "ticks": ""
           }
          },
          "title": {
           "x": 0.05
          },
          "xaxis": {
           "automargin": true,
           "gridcolor": "white",
           "linecolor": "white",
           "ticks": "",
           "title": {
            "standoff": 15
           },
           "zerolinecolor": "white",
           "zerolinewidth": 2
          },
          "yaxis": {
           "automargin": true,
           "gridcolor": "white",
           "linecolor": "white",
           "ticks": "",
           "title": {
            "standoff": 15
           },
           "zerolinecolor": "white",
           "zerolinewidth": 2
          }
         }
        },
        "xaxis": {
         "anchor": "y",
         "constrain": "domain",
         "domain": [
          0,
          1
         ],
         "scaleanchor": "y"
        },
        "yaxis": {
         "anchor": "x",
         "autorange": "reversed",
         "constrain": "domain",
         "domain": [
          0,
          1
         ]
        }
       }
      }
     },
     "metadata": {},
     "output_type": "display_data"
    },
    {
     "data": {
      "application/vnd.plotly.v1+json": {
       "config": {
        "plotlyServerURL": "https://plot.ly"
       },
       "data": [
        {
         "domain": {
          "x": [
           0,
           1
          ],
          "y": [
           0,
           1
          ]
         },
         "hovertemplate": "Criminal markets=%{label}<br>Criminality=%{value}<extra></extra>",
         "labels": [
          6.4,
          3.7,
          6,
          7.2,
          6.2,
          6.35,
          4.55,
          5.65,
          4.4,
          3.8,
          6.95,
          4.7,
          5,
          6.5,
          6.15,
          7.05,
          6.3,
          4.1,
          6.15,
          4.95,
          4.6,
          6.65,
          6.9,
          6,
          5.15,
          3.9,
          8,
          1.8,
          4.2,
          4.65,
          4.95,
          3.6,
          3.6,
          6.3,
          5.2,
          6.9,
          6.05,
          4.3,
          5,
          5.1,
          4.6,
          6.05,
          4.35,
          4.55,
          5.3,
          4.15,
          7.05,
          5.7,
          6.55,
          6,
          4.95,
          4.85,
          4.9,
          5.65,
          5.65,
          4.55,
          6.05,
          6.4,
          6.35,
          6.75,
          5.5,
          6.15,
          3.55,
          5.35,
          5.45,
          4.15,
          6.25,
          5.25,
          5,
          4.9,
          6.3,
          5.05,
          5.7,
          5,
          4.4,
          2.55,
          5.3,
          4.2,
          5.05,
          5.8,
          5.7,
          6.05,
          4.8,
          4.4,
          3.95,
          4.8,
          5.9,
          2,
          5.9,
          3.75,
          2.35,
          5.5,
          4.15,
          5.3,
          3.25,
          5.25,
          5.9,
          4.05,
          5.2,
          5.1,
          3.9,
          4.8,
          4.1,
          4.1,
          4,
          6.25,
          4,
          5.55,
          5.15,
          5.9,
          4.95,
          3.4,
          5.3,
          3.5,
          1.6,
          5.35,
          1.65,
          1.9,
          4.9,
          4.05,
          4,
          4.4,
          6.15,
          4.65,
          3.45,
          4.25,
          3.05,
          3.85,
          3.75,
          3.65,
          3,
          3.45,
          2.8,
          2.85,
          2.65,
          3.85,
          5.6,
          3.55,
          5.95,
          5.25,
          4.4,
          2.45,
          6.1,
          3.55,
          4.05,
          3.95,
          4.45,
          3.8,
          3.95,
          3.15,
          5.1,
          6.5,
          3.75,
          4.4,
          3.3,
          4.75,
          5.05,
          3.85,
          5.55,
          2.45,
          3.2,
          4.75,
          5,
          4.25,
          4.75,
          2.55,
          5.65,
          3,
          5,
          2.4,
          3.25,
          4.55,
          3.25,
          3.05,
          5.15,
          5,
          4.25,
          3.9,
          2.5,
          2.85,
          4.4,
          5.7,
          1.7,
          3.5,
          5.3,
          4.45,
          2.75,
          6.1,
          4.2,
          2.85,
          3.95,
          3.05,
          2.75
         ],
         "legendgroup": "",
         "name": "",
         "showlegend": true,
         "type": "pie",
         "values": [
          6.89,
          4.04,
          6.63,
          7.66,
          6.35,
          7.05,
          4.9,
          6.64,
          4.51,
          3.71,
          7.1,
          5.1,
          4.81,
          6.5,
          5.83,
          7.15,
          6.84,
          3.68,
          6.01,
          4.79,
          4.3,
          6.95,
          7.08,
          6.38,
          4.83,
          4.33,
          7.56,
          1.78,
          3.79,
          4.51,
          4.79,
          3.68,
          3.99,
          5.53,
          5.29,
          6.01,
          6.15,
          4.34,
          6.13,
          5.61,
          4.93,
          6.84,
          4.61,
          4.9,
          4.78,
          3.83,
          7.59,
          6.16,
          6.15,
          6.25,
          5.16,
          4.99,
          5.33,
          4.83,
          6.14,
          4.96,
          6.28,
          5.76,
          6.68,
          5.75,
          6.06,
          5.14,
          3.9,
          5.49,
          5.73,
          5.08,
          5.94,
          5.25,
          5.44,
          4.14,
          6.28,
          5.4,
          5.66,
          4.69,
          5.33,
          2.96,
          5.59,
          4.41,
          4.34,
          5.21,
          6.98,
          6.53,
          4.9,
          4.89,
          4.04,
          5.03,
          6.76,
          1.88,
          6.01,
          3.69,
          2.36,
          5.5,
          4.26,
          5.15,
          3.63,
          5.81,
          6.01,
          4.65,
          5.66,
          5.05,
          4.01,
          4.9,
          4.55,
          4.93,
          3.44,
          6.31,
          4.38,
          6.46,
          5.2,
          6.7,
          4.98,
          3.26,
          5.78,
          4.19,
          2.43,
          5.86,
          1.76,
          3.01,
          5.45,
          4.53,
          3.81,
          4.64,
          5.89,
          4.64,
          3.6,
          4.56,
          2.96,
          3.86,
          4.38,
          3.51,
          3.31,
          3.66,
          2.71,
          3.05,
          3.39,
          3.86,
          6.18,
          4.15,
          6.48,
          5.63,
          4.01,
          2.35,
          6.24,
          3.96,
          4.34,
          4.91,
          4.6,
          3.9,
          3.79,
          2.76,
          5.43,
          7.75,
          4,
          5.08,
          3.78,
          5.06,
          4.59,
          4.11,
          6.21,
          2.04,
          4.1,
          4.5,
          6,
          4.94,
          4.63,
          3.21,
          5.51,
          2.94,
          5.94,
          2.2,
          3.13,
          4.71,
          3.25,
          3.34,
          5.89,
          5.31,
          4.69,
          4.45,
          2.31,
          3.3,
          4.51,
          7.04,
          1.54,
          4.06,
          6.34,
          5.79,
          2.69,
          6.55,
          5.91,
          3.3,
          4.29,
          4.09,
          2.63
         ]
        }
       ],
       "layout": {
        "legend": {
         "tracegroupgap": 0
        },
        "margin": {
         "t": 60
        },
        "template": {
         "data": {
          "bar": [
           {
            "error_x": {
             "color": "#2a3f5f"
            },
            "error_y": {
             "color": "#2a3f5f"
            },
            "marker": {
             "line": {
              "color": "#E5ECF6",
              "width": 0.5
             },
             "pattern": {
              "fillmode": "overlay",
              "size": 10,
              "solidity": 0.2
             }
            },
            "type": "bar"
           }
          ],
          "barpolar": [
           {
            "marker": {
             "line": {
              "color": "#E5ECF6",
              "width": 0.5
             },
             "pattern": {
              "fillmode": "overlay",
              "size": 10,
              "solidity": 0.2
             }
            },
            "type": "barpolar"
           }
          ],
          "carpet": [
           {
            "aaxis": {
             "endlinecolor": "#2a3f5f",
             "gridcolor": "white",
             "linecolor": "white",
             "minorgridcolor": "white",
             "startlinecolor": "#2a3f5f"
            },
            "baxis": {
             "endlinecolor": "#2a3f5f",
             "gridcolor": "white",
             "linecolor": "white",
             "minorgridcolor": "white",
             "startlinecolor": "#2a3f5f"
            },
            "type": "carpet"
           }
          ],
          "choropleth": [
           {
            "colorbar": {
             "outlinewidth": 0,
             "ticks": ""
            },
            "type": "choropleth"
           }
          ],
          "contour": [
           {
            "colorbar": {
             "outlinewidth": 0,
             "ticks": ""
            },
            "colorscale": [
             [
              0,
              "#0d0887"
             ],
             [
              0.1111111111111111,
              "#46039f"
             ],
             [
              0.2222222222222222,
              "#7201a8"
             ],
             [
              0.3333333333333333,
              "#9c179e"
             ],
             [
              0.4444444444444444,
              "#bd3786"
             ],
             [
              0.5555555555555556,
              "#d8576b"
             ],
             [
              0.6666666666666666,
              "#ed7953"
             ],
             [
              0.7777777777777778,
              "#fb9f3a"
             ],
             [
              0.8888888888888888,
              "#fdca26"
             ],
             [
              1,
              "#f0f921"
             ]
            ],
            "type": "contour"
           }
          ],
          "contourcarpet": [
           {
            "colorbar": {
             "outlinewidth": 0,
             "ticks": ""
            },
            "type": "contourcarpet"
           }
          ],
          "heatmap": [
           {
            "colorbar": {
             "outlinewidth": 0,
             "ticks": ""
            },
            "colorscale": [
             [
              0,
              "#0d0887"
             ],
             [
              0.1111111111111111,
              "#46039f"
             ],
             [
              0.2222222222222222,
              "#7201a8"
             ],
             [
              0.3333333333333333,
              "#9c179e"
             ],
             [
              0.4444444444444444,
              "#bd3786"
             ],
             [
              0.5555555555555556,
              "#d8576b"
             ],
             [
              0.6666666666666666,
              "#ed7953"
             ],
             [
              0.7777777777777778,
              "#fb9f3a"
             ],
             [
              0.8888888888888888,
              "#fdca26"
             ],
             [
              1,
              "#f0f921"
             ]
            ],
            "type": "heatmap"
           }
          ],
          "heatmapgl": [
           {
            "colorbar": {
             "outlinewidth": 0,
             "ticks": ""
            },
            "colorscale": [
             [
              0,
              "#0d0887"
             ],
             [
              0.1111111111111111,
              "#46039f"
             ],
             [
              0.2222222222222222,
              "#7201a8"
             ],
             [
              0.3333333333333333,
              "#9c179e"
             ],
             [
              0.4444444444444444,
              "#bd3786"
             ],
             [
              0.5555555555555556,
              "#d8576b"
             ],
             [
              0.6666666666666666,
              "#ed7953"
             ],
             [
              0.7777777777777778,
              "#fb9f3a"
             ],
             [
              0.8888888888888888,
              "#fdca26"
             ],
             [
              1,
              "#f0f921"
             ]
            ],
            "type": "heatmapgl"
           }
          ],
          "histogram": [
           {
            "marker": {
             "pattern": {
              "fillmode": "overlay",
              "size": 10,
              "solidity": 0.2
             }
            },
            "type": "histogram"
           }
          ],
          "histogram2d": [
           {
            "colorbar": {
             "outlinewidth": 0,
             "ticks": ""
            },
            "colorscale": [
             [
              0,
              "#0d0887"
             ],
             [
              0.1111111111111111,
              "#46039f"
             ],
             [
              0.2222222222222222,
              "#7201a8"
             ],
             [
              0.3333333333333333,
              "#9c179e"
             ],
             [
              0.4444444444444444,
              "#bd3786"
             ],
             [
              0.5555555555555556,
              "#d8576b"
             ],
             [
              0.6666666666666666,
              "#ed7953"
             ],
             [
              0.7777777777777778,
              "#fb9f3a"
             ],
             [
              0.8888888888888888,
              "#fdca26"
             ],
             [
              1,
              "#f0f921"
             ]
            ],
            "type": "histogram2d"
           }
          ],
          "histogram2dcontour": [
           {
            "colorbar": {
             "outlinewidth": 0,
             "ticks": ""
            },
            "colorscale": [
             [
              0,
              "#0d0887"
             ],
             [
              0.1111111111111111,
              "#46039f"
             ],
             [
              0.2222222222222222,
              "#7201a8"
             ],
             [
              0.3333333333333333,
              "#9c179e"
             ],
             [
              0.4444444444444444,
              "#bd3786"
             ],
             [
              0.5555555555555556,
              "#d8576b"
             ],
             [
              0.6666666666666666,
              "#ed7953"
             ],
             [
              0.7777777777777778,
              "#fb9f3a"
             ],
             [
              0.8888888888888888,
              "#fdca26"
             ],
             [
              1,
              "#f0f921"
             ]
            ],
            "type": "histogram2dcontour"
           }
          ],
          "mesh3d": [
           {
            "colorbar": {
             "outlinewidth": 0,
             "ticks": ""
            },
            "type": "mesh3d"
           }
          ],
          "parcoords": [
           {
            "line": {
             "colorbar": {
              "outlinewidth": 0,
              "ticks": ""
             }
            },
            "type": "parcoords"
           }
          ],
          "pie": [
           {
            "automargin": true,
            "type": "pie"
           }
          ],
          "scatter": [
           {
            "fillpattern": {
             "fillmode": "overlay",
             "size": 10,
             "solidity": 0.2
            },
            "type": "scatter"
           }
          ],
          "scatter3d": [
           {
            "line": {
             "colorbar": {
              "outlinewidth": 0,
              "ticks": ""
             }
            },
            "marker": {
             "colorbar": {
              "outlinewidth": 0,
              "ticks": ""
             }
            },
            "type": "scatter3d"
           }
          ],
          "scattercarpet": [
           {
            "marker": {
             "colorbar": {
              "outlinewidth": 0,
              "ticks": ""
             }
            },
            "type": "scattercarpet"
           }
          ],
          "scattergeo": [
           {
            "marker": {
             "colorbar": {
              "outlinewidth": 0,
              "ticks": ""
             }
            },
            "type": "scattergeo"
           }
          ],
          "scattergl": [
           {
            "marker": {
             "colorbar": {
              "outlinewidth": 0,
              "ticks": ""
             }
            },
            "type": "scattergl"
           }
          ],
          "scattermapbox": [
           {
            "marker": {
             "colorbar": {
              "outlinewidth": 0,
              "ticks": ""
             }
            },
            "type": "scattermapbox"
           }
          ],
          "scatterpolar": [
           {
            "marker": {
             "colorbar": {
              "outlinewidth": 0,
              "ticks": ""
             }
            },
            "type": "scatterpolar"
           }
          ],
          "scatterpolargl": [
           {
            "marker": {
             "colorbar": {
              "outlinewidth": 0,
              "ticks": ""
             }
            },
            "type": "scatterpolargl"
           }
          ],
          "scatterternary": [
           {
            "marker": {
             "colorbar": {
              "outlinewidth": 0,
              "ticks": ""
             }
            },
            "type": "scatterternary"
           }
          ],
          "surface": [
           {
            "colorbar": {
             "outlinewidth": 0,
             "ticks": ""
            },
            "colorscale": [
             [
              0,
              "#0d0887"
             ],
             [
              0.1111111111111111,
              "#46039f"
             ],
             [
              0.2222222222222222,
              "#7201a8"
             ],
             [
              0.3333333333333333,
              "#9c179e"
             ],
             [
              0.4444444444444444,
              "#bd3786"
             ],
             [
              0.5555555555555556,
              "#d8576b"
             ],
             [
              0.6666666666666666,
              "#ed7953"
             ],
             [
              0.7777777777777778,
              "#fb9f3a"
             ],
             [
              0.8888888888888888,
              "#fdca26"
             ],
             [
              1,
              "#f0f921"
             ]
            ],
            "type": "surface"
           }
          ],
          "table": [
           {
            "cells": {
             "fill": {
              "color": "#EBF0F8"
             },
             "line": {
              "color": "white"
             }
            },
            "header": {
             "fill": {
              "color": "#C8D4E3"
             },
             "line": {
              "color": "white"
             }
            },
            "type": "table"
           }
          ]
         },
         "layout": {
          "annotationdefaults": {
           "arrowcolor": "#2a3f5f",
           "arrowhead": 0,
           "arrowwidth": 1
          },
          "autotypenumbers": "strict",
          "coloraxis": {
           "colorbar": {
            "outlinewidth": 0,
            "ticks": ""
           }
          },
          "colorscale": {
           "diverging": [
            [
             0,
             "#8e0152"
            ],
            [
             0.1,
             "#c51b7d"
            ],
            [
             0.2,
             "#de77ae"
            ],
            [
             0.3,
             "#f1b6da"
            ],
            [
             0.4,
             "#fde0ef"
            ],
            [
             0.5,
             "#f7f7f7"
            ],
            [
             0.6,
             "#e6f5d0"
            ],
            [
             0.7,
             "#b8e186"
            ],
            [
             0.8,
             "#7fbc41"
            ],
            [
             0.9,
             "#4d9221"
            ],
            [
             1,
             "#276419"
            ]
           ],
           "sequential": [
            [
             0,
             "#0d0887"
            ],
            [
             0.1111111111111111,
             "#46039f"
            ],
            [
             0.2222222222222222,
             "#7201a8"
            ],
            [
             0.3333333333333333,
             "#9c179e"
            ],
            [
             0.4444444444444444,
             "#bd3786"
            ],
            [
             0.5555555555555556,
             "#d8576b"
            ],
            [
             0.6666666666666666,
             "#ed7953"
            ],
            [
             0.7777777777777778,
             "#fb9f3a"
            ],
            [
             0.8888888888888888,
             "#fdca26"
            ],
            [
             1,
             "#f0f921"
            ]
           ],
           "sequentialminus": [
            [
             0,
             "#0d0887"
            ],
            [
             0.1111111111111111,
             "#46039f"
            ],
            [
             0.2222222222222222,
             "#7201a8"
            ],
            [
             0.3333333333333333,
             "#9c179e"
            ],
            [
             0.4444444444444444,
             "#bd3786"
            ],
            [
             0.5555555555555556,
             "#d8576b"
            ],
            [
             0.6666666666666666,
             "#ed7953"
            ],
            [
             0.7777777777777778,
             "#fb9f3a"
            ],
            [
             0.8888888888888888,
             "#fdca26"
            ],
            [
             1,
             "#f0f921"
            ]
           ]
          },
          "colorway": [
           "#636efa",
           "#EF553B",
           "#00cc96",
           "#ab63fa",
           "#FFA15A",
           "#19d3f3",
           "#FF6692",
           "#B6E880",
           "#FF97FF",
           "#FECB52"
          ],
          "font": {
           "color": "#2a3f5f"
          },
          "geo": {
           "bgcolor": "white",
           "lakecolor": "white",
           "landcolor": "#E5ECF6",
           "showlakes": true,
           "showland": true,
           "subunitcolor": "white"
          },
          "hoverlabel": {
           "align": "left"
          },
          "hovermode": "closest",
          "mapbox": {
           "style": "light"
          },
          "paper_bgcolor": "white",
          "plot_bgcolor": "#E5ECF6",
          "polar": {
           "angularaxis": {
            "gridcolor": "white",
            "linecolor": "white",
            "ticks": ""
           },
           "bgcolor": "#E5ECF6",
           "radialaxis": {
            "gridcolor": "white",
            "linecolor": "white",
            "ticks": ""
           }
          },
          "scene": {
           "xaxis": {
            "backgroundcolor": "#E5ECF6",
            "gridcolor": "white",
            "gridwidth": 2,
            "linecolor": "white",
            "showbackground": true,
            "ticks": "",
            "zerolinecolor": "white"
           },
           "yaxis": {
            "backgroundcolor": "#E5ECF6",
            "gridcolor": "white",
            "gridwidth": 2,
            "linecolor": "white",
            "showbackground": true,
            "ticks": "",
            "zerolinecolor": "white"
           },
           "zaxis": {
            "backgroundcolor": "#E5ECF6",
            "gridcolor": "white",
            "gridwidth": 2,
            "linecolor": "white",
            "showbackground": true,
            "ticks": "",
            "zerolinecolor": "white"
           }
          },
          "shapedefaults": {
           "line": {
            "color": "#2a3f5f"
           }
          },
          "ternary": {
           "aaxis": {
            "gridcolor": "white",
            "linecolor": "white",
            "ticks": ""
           },
           "baxis": {
            "gridcolor": "white",
            "linecolor": "white",
            "ticks": ""
           },
           "bgcolor": "#E5ECF6",
           "caxis": {
            "gridcolor": "white",
            "linecolor": "white",
            "ticks": ""
           }
          },
          "title": {
           "x": 0.05
          },
          "xaxis": {
           "automargin": true,
           "gridcolor": "white",
           "linecolor": "white",
           "ticks": "",
           "title": {
            "standoff": 15
           },
           "zerolinecolor": "white",
           "zerolinewidth": 2
          },
          "yaxis": {
           "automargin": true,
           "gridcolor": "white",
           "linecolor": "white",
           "ticks": "",
           "title": {
            "standoff": 15
           },
           "zerolinecolor": "white",
           "zerolinewidth": 2
          }
         }
        }
       }
      }
     },
     "metadata": {},
     "output_type": "display_data"
    },
    {
     "data": {
      "application/vnd.plotly.v1+json": {
       "config": {
        "plotlyServerURL": "https://plot.ly"
       },
       "data": [
        {
         "alignmentgroup": "True",
         "bingroup": "x",
         "hovertemplate": "variable=Criminality<br>value=%{x}<br>count=%{y}<extra></extra>",
         "legendgroup": "Criminality",
         "marker": {
          "color": "#636efa",
          "pattern": {
           "shape": ""
          }
         },
         "name": "Criminality",
         "offsetgroup": "Criminality",
         "orientation": "v",
         "showlegend": true,
         "type": "histogram",
         "x": [
          6.89,
          4.04,
          6.63,
          7.66,
          6.35,
          7.05,
          4.9,
          6.64,
          4.51,
          3.71,
          7.1,
          5.1,
          4.81,
          6.5,
          5.83,
          7.15,
          6.84,
          3.68,
          6.01,
          4.79,
          4.3,
          6.95,
          7.08,
          6.38,
          4.83,
          4.33,
          7.56,
          1.78,
          3.79,
          4.51,
          4.79,
          3.68,
          3.99,
          5.53,
          5.29,
          6.01,
          6.15,
          4.34,
          6.13,
          5.61,
          4.93,
          6.84,
          4.61,
          4.9,
          4.78,
          3.83,
          7.59,
          6.16,
          6.15,
          6.25,
          5.16,
          4.99,
          5.33,
          4.83,
          6.14,
          4.96,
          6.28,
          5.76,
          6.68,
          5.75,
          6.06,
          5.14,
          3.9,
          5.49,
          5.73,
          5.08,
          5.94,
          5.25,
          5.44,
          4.14,
          6.28,
          5.4,
          5.66,
          4.69,
          5.33,
          2.96,
          5.59,
          4.41,
          4.34,
          5.21,
          6.98,
          6.53,
          4.9,
          4.89,
          4.04,
          5.03,
          6.76,
          1.88,
          6.01,
          3.69,
          2.36,
          5.5,
          4.26,
          5.15,
          3.63,
          5.81,
          6.01,
          4.65,
          5.66,
          5.05,
          4.01,
          4.9,
          4.55,
          4.93,
          3.44,
          6.31,
          4.38,
          6.46,
          5.2,
          6.7,
          4.98,
          3.26,
          5.78,
          4.19,
          2.43,
          5.86,
          1.76,
          3.01,
          5.45,
          4.53,
          3.81,
          4.64,
          5.89,
          4.64,
          3.6,
          4.56,
          2.96,
          3.86,
          4.38,
          3.51,
          3.31,
          3.66,
          2.71,
          3.05,
          3.39,
          3.86,
          6.18,
          4.15,
          6.48,
          5.63,
          4.01,
          2.35,
          6.24,
          3.96,
          4.34,
          4.91,
          4.6,
          3.9,
          3.79,
          2.76,
          5.43,
          7.75,
          4,
          5.08,
          3.78,
          5.06,
          4.59,
          4.11,
          6.21,
          2.04,
          4.1,
          4.5,
          6,
          4.94,
          4.63,
          3.21,
          5.51,
          2.94,
          5.94,
          2.2,
          3.13,
          4.71,
          3.25,
          3.34,
          5.89,
          5.31,
          4.69,
          4.45,
          2.31,
          3.3,
          4.51,
          7.04,
          1.54,
          4.06,
          6.34,
          5.79,
          2.69,
          6.55,
          5.91,
          3.3,
          4.29,
          4.09,
          2.63
         ],
         "xaxis": "x",
         "yaxis": "y"
        }
       ],
       "layout": {
        "barmode": "relative",
        "legend": {
         "title": {
          "text": "variable"
         },
         "tracegroupgap": 0
        },
        "margin": {
         "t": 60
        },
        "template": {
         "data": {
          "bar": [
           {
            "error_x": {
             "color": "#2a3f5f"
            },
            "error_y": {
             "color": "#2a3f5f"
            },
            "marker": {
             "line": {
              "color": "#E5ECF6",
              "width": 0.5
             },
             "pattern": {
              "fillmode": "overlay",
              "size": 10,
              "solidity": 0.2
             }
            },
            "type": "bar"
           }
          ],
          "barpolar": [
           {
            "marker": {
             "line": {
              "color": "#E5ECF6",
              "width": 0.5
             },
             "pattern": {
              "fillmode": "overlay",
              "size": 10,
              "solidity": 0.2
             }
            },
            "type": "barpolar"
           }
          ],
          "carpet": [
           {
            "aaxis": {
             "endlinecolor": "#2a3f5f",
             "gridcolor": "white",
             "linecolor": "white",
             "minorgridcolor": "white",
             "startlinecolor": "#2a3f5f"
            },
            "baxis": {
             "endlinecolor": "#2a3f5f",
             "gridcolor": "white",
             "linecolor": "white",
             "minorgridcolor": "white",
             "startlinecolor": "#2a3f5f"
            },
            "type": "carpet"
           }
          ],
          "choropleth": [
           {
            "colorbar": {
             "outlinewidth": 0,
             "ticks": ""
            },
            "type": "choropleth"
           }
          ],
          "contour": [
           {
            "colorbar": {
             "outlinewidth": 0,
             "ticks": ""
            },
            "colorscale": [
             [
              0,
              "#0d0887"
             ],
             [
              0.1111111111111111,
              "#46039f"
             ],
             [
              0.2222222222222222,
              "#7201a8"
             ],
             [
              0.3333333333333333,
              "#9c179e"
             ],
             [
              0.4444444444444444,
              "#bd3786"
             ],
             [
              0.5555555555555556,
              "#d8576b"
             ],
             [
              0.6666666666666666,
              "#ed7953"
             ],
             [
              0.7777777777777778,
              "#fb9f3a"
             ],
             [
              0.8888888888888888,
              "#fdca26"
             ],
             [
              1,
              "#f0f921"
             ]
            ],
            "type": "contour"
           }
          ],
          "contourcarpet": [
           {
            "colorbar": {
             "outlinewidth": 0,
             "ticks": ""
            },
            "type": "contourcarpet"
           }
          ],
          "heatmap": [
           {
            "colorbar": {
             "outlinewidth": 0,
             "ticks": ""
            },
            "colorscale": [
             [
              0,
              "#0d0887"
             ],
             [
              0.1111111111111111,
              "#46039f"
             ],
             [
              0.2222222222222222,
              "#7201a8"
             ],
             [
              0.3333333333333333,
              "#9c179e"
             ],
             [
              0.4444444444444444,
              "#bd3786"
             ],
             [
              0.5555555555555556,
              "#d8576b"
             ],
             [
              0.6666666666666666,
              "#ed7953"
             ],
             [
              0.7777777777777778,
              "#fb9f3a"
             ],
             [
              0.8888888888888888,
              "#fdca26"
             ],
             [
              1,
              "#f0f921"
             ]
            ],
            "type": "heatmap"
           }
          ],
          "heatmapgl": [
           {
            "colorbar": {
             "outlinewidth": 0,
             "ticks": ""
            },
            "colorscale": [
             [
              0,
              "#0d0887"
             ],
             [
              0.1111111111111111,
              "#46039f"
             ],
             [
              0.2222222222222222,
              "#7201a8"
             ],
             [
              0.3333333333333333,
              "#9c179e"
             ],
             [
              0.4444444444444444,
              "#bd3786"
             ],
             [
              0.5555555555555556,
              "#d8576b"
             ],
             [
              0.6666666666666666,
              "#ed7953"
             ],
             [
              0.7777777777777778,
              "#fb9f3a"
             ],
             [
              0.8888888888888888,
              "#fdca26"
             ],
             [
              1,
              "#f0f921"
             ]
            ],
            "type": "heatmapgl"
           }
          ],
          "histogram": [
           {
            "marker": {
             "pattern": {
              "fillmode": "overlay",
              "size": 10,
              "solidity": 0.2
             }
            },
            "type": "histogram"
           }
          ],
          "histogram2d": [
           {
            "colorbar": {
             "outlinewidth": 0,
             "ticks": ""
            },
            "colorscale": [
             [
              0,
              "#0d0887"
             ],
             [
              0.1111111111111111,
              "#46039f"
             ],
             [
              0.2222222222222222,
              "#7201a8"
             ],
             [
              0.3333333333333333,
              "#9c179e"
             ],
             [
              0.4444444444444444,
              "#bd3786"
             ],
             [
              0.5555555555555556,
              "#d8576b"
             ],
             [
              0.6666666666666666,
              "#ed7953"
             ],
             [
              0.7777777777777778,
              "#fb9f3a"
             ],
             [
              0.8888888888888888,
              "#fdca26"
             ],
             [
              1,
              "#f0f921"
             ]
            ],
            "type": "histogram2d"
           }
          ],
          "histogram2dcontour": [
           {
            "colorbar": {
             "outlinewidth": 0,
             "ticks": ""
            },
            "colorscale": [
             [
              0,
              "#0d0887"
             ],
             [
              0.1111111111111111,
              "#46039f"
             ],
             [
              0.2222222222222222,
              "#7201a8"
             ],
             [
              0.3333333333333333,
              "#9c179e"
             ],
             [
              0.4444444444444444,
              "#bd3786"
             ],
             [
              0.5555555555555556,
              "#d8576b"
             ],
             [
              0.6666666666666666,
              "#ed7953"
             ],
             [
              0.7777777777777778,
              "#fb9f3a"
             ],
             [
              0.8888888888888888,
              "#fdca26"
             ],
             [
              1,
              "#f0f921"
             ]
            ],
            "type": "histogram2dcontour"
           }
          ],
          "mesh3d": [
           {
            "colorbar": {
             "outlinewidth": 0,
             "ticks": ""
            },
            "type": "mesh3d"
           }
          ],
          "parcoords": [
           {
            "line": {
             "colorbar": {
              "outlinewidth": 0,
              "ticks": ""
             }
            },
            "type": "parcoords"
           }
          ],
          "pie": [
           {
            "automargin": true,
            "type": "pie"
           }
          ],
          "scatter": [
           {
            "fillpattern": {
             "fillmode": "overlay",
             "size": 10,
             "solidity": 0.2
            },
            "type": "scatter"
           }
          ],
          "scatter3d": [
           {
            "line": {
             "colorbar": {
              "outlinewidth": 0,
              "ticks": ""
             }
            },
            "marker": {
             "colorbar": {
              "outlinewidth": 0,
              "ticks": ""
             }
            },
            "type": "scatter3d"
           }
          ],
          "scattercarpet": [
           {
            "marker": {
             "colorbar": {
              "outlinewidth": 0,
              "ticks": ""
             }
            },
            "type": "scattercarpet"
           }
          ],
          "scattergeo": [
           {
            "marker": {
             "colorbar": {
              "outlinewidth": 0,
              "ticks": ""
             }
            },
            "type": "scattergeo"
           }
          ],
          "scattergl": [
           {
            "marker": {
             "colorbar": {
              "outlinewidth": 0,
              "ticks": ""
             }
            },
            "type": "scattergl"
           }
          ],
          "scattermapbox": [
           {
            "marker": {
             "colorbar": {
              "outlinewidth": 0,
              "ticks": ""
             }
            },
            "type": "scattermapbox"
           }
          ],
          "scatterpolar": [
           {
            "marker": {
             "colorbar": {
              "outlinewidth": 0,
              "ticks": ""
             }
            },
            "type": "scatterpolar"
           }
          ],
          "scatterpolargl": [
           {
            "marker": {
             "colorbar": {
              "outlinewidth": 0,
              "ticks": ""
             }
            },
            "type": "scatterpolargl"
           }
          ],
          "scatterternary": [
           {
            "marker": {
             "colorbar": {
              "outlinewidth": 0,
              "ticks": ""
             }
            },
            "type": "scatterternary"
           }
          ],
          "surface": [
           {
            "colorbar": {
             "outlinewidth": 0,
             "ticks": ""
            },
            "colorscale": [
             [
              0,
              "#0d0887"
             ],
             [
              0.1111111111111111,
              "#46039f"
             ],
             [
              0.2222222222222222,
              "#7201a8"
             ],
             [
              0.3333333333333333,
              "#9c179e"
             ],
             [
              0.4444444444444444,
              "#bd3786"
             ],
             [
              0.5555555555555556,
              "#d8576b"
             ],
             [
              0.6666666666666666,
              "#ed7953"
             ],
             [
              0.7777777777777778,
              "#fb9f3a"
             ],
             [
              0.8888888888888888,
              "#fdca26"
             ],
             [
              1,
              "#f0f921"
             ]
            ],
            "type": "surface"
           }
          ],
          "table": [
           {
            "cells": {
             "fill": {
              "color": "#EBF0F8"
             },
             "line": {
              "color": "white"
             }
            },
            "header": {
             "fill": {
              "color": "#C8D4E3"
             },
             "line": {
              "color": "white"
             }
            },
            "type": "table"
           }
          ]
         },
         "layout": {
          "annotationdefaults": {
           "arrowcolor": "#2a3f5f",
           "arrowhead": 0,
           "arrowwidth": 1
          },
          "autotypenumbers": "strict",
          "coloraxis": {
           "colorbar": {
            "outlinewidth": 0,
            "ticks": ""
           }
          },
          "colorscale": {
           "diverging": [
            [
             0,
             "#8e0152"
            ],
            [
             0.1,
             "#c51b7d"
            ],
            [
             0.2,
             "#de77ae"
            ],
            [
             0.3,
             "#f1b6da"
            ],
            [
             0.4,
             "#fde0ef"
            ],
            [
             0.5,
             "#f7f7f7"
            ],
            [
             0.6,
             "#e6f5d0"
            ],
            [
             0.7,
             "#b8e186"
            ],
            [
             0.8,
             "#7fbc41"
            ],
            [
             0.9,
             "#4d9221"
            ],
            [
             1,
             "#276419"
            ]
           ],
           "sequential": [
            [
             0,
             "#0d0887"
            ],
            [
             0.1111111111111111,
             "#46039f"
            ],
            [
             0.2222222222222222,
             "#7201a8"
            ],
            [
             0.3333333333333333,
             "#9c179e"
            ],
            [
             0.4444444444444444,
             "#bd3786"
            ],
            [
             0.5555555555555556,
             "#d8576b"
            ],
            [
             0.6666666666666666,
             "#ed7953"
            ],
            [
             0.7777777777777778,
             "#fb9f3a"
            ],
            [
             0.8888888888888888,
             "#fdca26"
            ],
            [
             1,
             "#f0f921"
            ]
           ],
           "sequentialminus": [
            [
             0,
             "#0d0887"
            ],
            [
             0.1111111111111111,
             "#46039f"
            ],
            [
             0.2222222222222222,
             "#7201a8"
            ],
            [
             0.3333333333333333,
             "#9c179e"
            ],
            [
             0.4444444444444444,
             "#bd3786"
            ],
            [
             0.5555555555555556,
             "#d8576b"
            ],
            [
             0.6666666666666666,
             "#ed7953"
            ],
            [
             0.7777777777777778,
             "#fb9f3a"
            ],
            [
             0.8888888888888888,
             "#fdca26"
            ],
            [
             1,
             "#f0f921"
            ]
           ]
          },
          "colorway": [
           "#636efa",
           "#EF553B",
           "#00cc96",
           "#ab63fa",
           "#FFA15A",
           "#19d3f3",
           "#FF6692",
           "#B6E880",
           "#FF97FF",
           "#FECB52"
          ],
          "font": {
           "color": "#2a3f5f"
          },
          "geo": {
           "bgcolor": "white",
           "lakecolor": "white",
           "landcolor": "#E5ECF6",
           "showlakes": true,
           "showland": true,
           "subunitcolor": "white"
          },
          "hoverlabel": {
           "align": "left"
          },
          "hovermode": "closest",
          "mapbox": {
           "style": "light"
          },
          "paper_bgcolor": "white",
          "plot_bgcolor": "#E5ECF6",
          "polar": {
           "angularaxis": {
            "gridcolor": "white",
            "linecolor": "white",
            "ticks": ""
           },
           "bgcolor": "#E5ECF6",
           "radialaxis": {
            "gridcolor": "white",
            "linecolor": "white",
            "ticks": ""
           }
          },
          "scene": {
           "xaxis": {
            "backgroundcolor": "#E5ECF6",
            "gridcolor": "white",
            "gridwidth": 2,
            "linecolor": "white",
            "showbackground": true,
            "ticks": "",
            "zerolinecolor": "white"
           },
           "yaxis": {
            "backgroundcolor": "#E5ECF6",
            "gridcolor": "white",
            "gridwidth": 2,
            "linecolor": "white",
            "showbackground": true,
            "ticks": "",
            "zerolinecolor": "white"
           },
           "zaxis": {
            "backgroundcolor": "#E5ECF6",
            "gridcolor": "white",
            "gridwidth": 2,
            "linecolor": "white",
            "showbackground": true,
            "ticks": "",
            "zerolinecolor": "white"
           }
          },
          "shapedefaults": {
           "line": {
            "color": "#2a3f5f"
           }
          },
          "ternary": {
           "aaxis": {
            "gridcolor": "white",
            "linecolor": "white",
            "ticks": ""
           },
           "baxis": {
            "gridcolor": "white",
            "linecolor": "white",
            "ticks": ""
           },
           "bgcolor": "#E5ECF6",
           "caxis": {
            "gridcolor": "white",
            "linecolor": "white",
            "ticks": ""
           }
          },
          "title": {
           "x": 0.05
          },
          "xaxis": {
           "automargin": true,
           "gridcolor": "white",
           "linecolor": "white",
           "ticks": "",
           "title": {
            "standoff": 15
           },
           "zerolinecolor": "white",
           "zerolinewidth": 2
          },
          "yaxis": {
           "automargin": true,
           "gridcolor": "white",
           "linecolor": "white",
           "ticks": "",
           "title": {
            "standoff": 15
           },
           "zerolinecolor": "white",
           "zerolinewidth": 2
          }
         }
        },
        "xaxis": {
         "anchor": "y",
         "domain": [
          0,
          1
         ],
         "title": {
          "text": "value"
         }
        },
        "yaxis": {
         "anchor": "x",
         "domain": [
          0,
          1
         ],
         "title": {
          "text": "count"
         }
        }
       }
      }
     },
     "metadata": {},
     "output_type": "display_data"
    },
    {
     "data": {
      "application/vnd.plotly.v1+json": {
       "config": {
        "plotlyServerURL": "https://plot.ly"
       },
       "data": [
        {
         "alignmentgroup": "True",
         "hovertemplate": "Region=%{x}<br>Criminality=%{y}<extra></extra>",
         "legendgroup": "",
         "marker": {
          "color": "#636efa"
         },
         "name": "",
         "notched": false,
         "offsetgroup": "",
         "orientation": "v",
         "showlegend": false,
         "type": "box",
         "x": [
          "Western Asia",
          "West Africa",
          "Southern Africa",
          "South America",
          "South America",
          "Western Asia",
          "South America",
          "South America",
          "Southern Africa",
          "Southern Africa",
          "Western Asia",
          "South America",
          "West Africa",
          "South America",
          "South-Eastern Asia",
          "West Africa",
          "South-Eastern Asia",
          "Central Africa",
          "West Africa",
          "East Africa",
          "South America",
          "East Africa",
          "Southern Asia",
          "South-Eastern Asia",
          "West Africa",
          "Southern Africa",
          "Central America",
          "Central Africa",
          "North Africa",
          "North Africa",
          "North Africa",
          "Southern Africa",
          "East Africa",
          "Southern Asia",
          "Central Africa",
          "Western Asia",
          "West Africa",
          "Western Europe",
          "Western Asia",
          "Central Asia and the Caucasus",
          "Southern Africa",
          "Western Asia",
          "Central Asia and the Caucasus",
          "Western Europe",
          "Eastern Asia",
          "Southern Africa",
          "South-Eastern Asia",
          "Southern Asia",
          "East Africa",
          "South America",
          "North Africa",
          "Central America",
          "West Africa",
          "Western Asia",
          "East Africa",
          "Central Asia and the Caucasus",
          "South-Eastern Asia",
          "South-Eastern Asia",
          "Central America",
          "Western Asia",
          "Central America",
          "Western Asia",
          "Southern Africa",
          "West Africa",
          "Caribbean",
          "Central Asia and the Caucasus",
          "South-Eastern Asia",
          "West Africa",
          "Melanesia",
          "Western Asia",
          "Southern Asia",
          "West Africa",
          "Western Europe",
          "Western Europe",
          "Central Asia and the Caucasus",
          "Western Europe",
          "Southern Africa",
          "Western Asia",
          "Western Europe",
          "Western Asia",
          "Central America",
          "Southern Africa",
          "Western Europe",
          "Western Europe",
          "Western Europe",
          "Central Africa",
          "Western Asia",
          "Western Europe",
          "Eastern Asia",
          "Southern Asia",
          "Western Europe",
          "North America",
          "Central Asia and the Caucasus",
          "Caribbean ",
          "Southern Africa",
          "Southern Europe",
          "West Africa",
          "Southern Europe",
          "Southern Africa",
          "West Africa",
          "Eastern Asia",
          "Central Africa",
          "Southern Europe",
          "Southern Europe",
          "Caribbean ",
          "Central Africa",
          "North Africa",
          "East Africa",
          "West Africa",
          "South America",
          "Southern Asia",
          "Central Asia and the Caucasus",
          "Southern Europe",
          "Southern Europe",
          "Southern Europe",
          "Central Africa",
          "Micronesia",
          "Southern Europe",
          "West Africa",
          "Eastern Asia",
          "Northern Europe",
          "Central America",
          "West Africa",
          "Southern Asia",
          "Northern Europe",
          "Northern Europe",
          "Central Asia and the Caucasus",
          "Northern Europe",
          "South America",
          "Northern Europe",
          "Northern Europe",
          "North America",
          "Northern Europe",
          "Caribbean ",
          "Northern Europe",
          "Southern Africa",
          "Central & Eastern Europe",
          "Melanesia",
          "Central America",
          "Central & Eastern Europe",
          "Central & Eastern Europe",
          "Melanesia",
          "Central & Eastern Europe",
          "South-Eastern Asia",
          "East Africa",
          "Eastern Asia",
          "South America",
          "Melanesia",
          "Caribbean ",
          "South-Eastern Asia",
          "Central & Eastern Europe",
          "Central Africa",
          "Australia and New Zealand",
          "Central & Eastern Europe",
          "Polynesia",
          "Central & Eastern Europe",
          "Central & Eastern Europe",
          "Central Africa",
          "Central & Eastern Europe",
          "Polynesia",
          "Caribbean ",
          "Central & Eastern Europe",
          "Central & Eastern Europe",
          "Caribbean ",
          "Central & Eastern Europe",
          "Caribbean ",
          "South-Eastern Asia",
          "Micronesia",
          "Central America",
          "Melanesia",
          "South-Eastern Asia",
          "Western Asia",
          "Australia and New Zealand",
          "Caribbean ",
          "Central & Eastern Europe",
          "Central & Eastern Europe",
          "Central & Eastern Europe",
          "Central & Eastern Europe",
          "Micronesia",
          "Micronesia",
          "Central Africa",
          "Central Africa",
          "Polynesia",
          "Southern Asia",
          "East Africa",
          "East Africa",
          "South America",
          "North Africa",
          "Caribbean ",
          "Caribbean ",
          "Central & Eastern Europe",
          "Caribbean ",
          "Caribbean "
         ],
         "x0": " ",
         "xaxis": "x",
         "y": [
          6.89,
          4.04,
          6.63,
          7.66,
          6.35,
          7.05,
          4.9,
          6.64,
          4.51,
          3.71,
          7.1,
          5.1,
          4.81,
          6.5,
          5.83,
          7.15,
          6.84,
          3.68,
          6.01,
          4.79,
          4.3,
          6.95,
          7.08,
          6.38,
          4.83,
          4.33,
          7.56,
          1.78,
          3.79,
          4.51,
          4.79,
          3.68,
          3.99,
          5.53,
          5.29,
          6.01,
          6.15,
          4.34,
          6.13,
          5.61,
          4.93,
          6.84,
          4.61,
          4.9,
          4.78,
          3.83,
          7.59,
          6.16,
          6.15,
          6.25,
          5.16,
          4.99,
          5.33,
          4.83,
          6.14,
          4.96,
          6.28,
          5.76,
          6.68,
          5.75,
          6.06,
          5.14,
          3.9,
          5.49,
          5.73,
          5.08,
          5.94,
          5.25,
          5.44,
          4.14,
          6.28,
          5.4,
          5.66,
          4.69,
          5.33,
          2.96,
          5.59,
          4.41,
          4.34,
          5.21,
          6.98,
          6.53,
          4.9,
          4.89,
          4.04,
          5.03,
          6.76,
          1.88,
          6.01,
          3.69,
          2.36,
          5.5,
          4.26,
          5.15,
          3.63,
          5.81,
          6.01,
          4.65,
          5.66,
          5.05,
          4.01,
          4.9,
          4.55,
          4.93,
          3.44,
          6.31,
          4.38,
          6.46,
          5.2,
          6.7,
          4.98,
          3.26,
          5.78,
          4.19,
          2.43,
          5.86,
          1.76,
          3.01,
          5.45,
          4.53,
          3.81,
          4.64,
          5.89,
          4.64,
          3.6,
          4.56,
          2.96,
          3.86,
          4.38,
          3.51,
          3.31,
          3.66,
          2.71,
          3.05,
          3.39,
          3.86,
          6.18,
          4.15,
          6.48,
          5.63,
          4.01,
          2.35,
          6.24,
          3.96,
          4.34,
          4.91,
          4.6,
          3.9,
          3.79,
          2.76,
          5.43,
          7.75,
          4,
          5.08,
          3.78,
          5.06,
          4.59,
          4.11,
          6.21,
          2.04,
          4.1,
          4.5,
          6,
          4.94,
          4.63,
          3.21,
          5.51,
          2.94,
          5.94,
          2.2,
          3.13,
          4.71,
          3.25,
          3.34,
          5.89,
          5.31,
          4.69,
          4.45,
          2.31,
          3.3,
          4.51,
          7.04,
          1.54,
          4.06,
          6.34,
          5.79,
          2.69,
          6.55,
          5.91,
          3.3,
          4.29,
          4.09,
          2.63
         ],
         "y0": " ",
         "yaxis": "y"
        }
       ],
       "layout": {
        "boxmode": "group",
        "legend": {
         "tracegroupgap": 0
        },
        "margin": {
         "t": 60
        },
        "template": {
         "data": {
          "bar": [
           {
            "error_x": {
             "color": "#2a3f5f"
            },
            "error_y": {
             "color": "#2a3f5f"
            },
            "marker": {
             "line": {
              "color": "#E5ECF6",
              "width": 0.5
             },
             "pattern": {
              "fillmode": "overlay",
              "size": 10,
              "solidity": 0.2
             }
            },
            "type": "bar"
           }
          ],
          "barpolar": [
           {
            "marker": {
             "line": {
              "color": "#E5ECF6",
              "width": 0.5
             },
             "pattern": {
              "fillmode": "overlay",
              "size": 10,
              "solidity": 0.2
             }
            },
            "type": "barpolar"
           }
          ],
          "carpet": [
           {
            "aaxis": {
             "endlinecolor": "#2a3f5f",
             "gridcolor": "white",
             "linecolor": "white",
             "minorgridcolor": "white",
             "startlinecolor": "#2a3f5f"
            },
            "baxis": {
             "endlinecolor": "#2a3f5f",
             "gridcolor": "white",
             "linecolor": "white",
             "minorgridcolor": "white",
             "startlinecolor": "#2a3f5f"
            },
            "type": "carpet"
           }
          ],
          "choropleth": [
           {
            "colorbar": {
             "outlinewidth": 0,
             "ticks": ""
            },
            "type": "choropleth"
           }
          ],
          "contour": [
           {
            "colorbar": {
             "outlinewidth": 0,
             "ticks": ""
            },
            "colorscale": [
             [
              0,
              "#0d0887"
             ],
             [
              0.1111111111111111,
              "#46039f"
             ],
             [
              0.2222222222222222,
              "#7201a8"
             ],
             [
              0.3333333333333333,
              "#9c179e"
             ],
             [
              0.4444444444444444,
              "#bd3786"
             ],
             [
              0.5555555555555556,
              "#d8576b"
             ],
             [
              0.6666666666666666,
              "#ed7953"
             ],
             [
              0.7777777777777778,
              "#fb9f3a"
             ],
             [
              0.8888888888888888,
              "#fdca26"
             ],
             [
              1,
              "#f0f921"
             ]
            ],
            "type": "contour"
           }
          ],
          "contourcarpet": [
           {
            "colorbar": {
             "outlinewidth": 0,
             "ticks": ""
            },
            "type": "contourcarpet"
           }
          ],
          "heatmap": [
           {
            "colorbar": {
             "outlinewidth": 0,
             "ticks": ""
            },
            "colorscale": [
             [
              0,
              "#0d0887"
             ],
             [
              0.1111111111111111,
              "#46039f"
             ],
             [
              0.2222222222222222,
              "#7201a8"
             ],
             [
              0.3333333333333333,
              "#9c179e"
             ],
             [
              0.4444444444444444,
              "#bd3786"
             ],
             [
              0.5555555555555556,
              "#d8576b"
             ],
             [
              0.6666666666666666,
              "#ed7953"
             ],
             [
              0.7777777777777778,
              "#fb9f3a"
             ],
             [
              0.8888888888888888,
              "#fdca26"
             ],
             [
              1,
              "#f0f921"
             ]
            ],
            "type": "heatmap"
           }
          ],
          "heatmapgl": [
           {
            "colorbar": {
             "outlinewidth": 0,
             "ticks": ""
            },
            "colorscale": [
             [
              0,
              "#0d0887"
             ],
             [
              0.1111111111111111,
              "#46039f"
             ],
             [
              0.2222222222222222,
              "#7201a8"
             ],
             [
              0.3333333333333333,
              "#9c179e"
             ],
             [
              0.4444444444444444,
              "#bd3786"
             ],
             [
              0.5555555555555556,
              "#d8576b"
             ],
             [
              0.6666666666666666,
              "#ed7953"
             ],
             [
              0.7777777777777778,
              "#fb9f3a"
             ],
             [
              0.8888888888888888,
              "#fdca26"
             ],
             [
              1,
              "#f0f921"
             ]
            ],
            "type": "heatmapgl"
           }
          ],
          "histogram": [
           {
            "marker": {
             "pattern": {
              "fillmode": "overlay",
              "size": 10,
              "solidity": 0.2
             }
            },
            "type": "histogram"
           }
          ],
          "histogram2d": [
           {
            "colorbar": {
             "outlinewidth": 0,
             "ticks": ""
            },
            "colorscale": [
             [
              0,
              "#0d0887"
             ],
             [
              0.1111111111111111,
              "#46039f"
             ],
             [
              0.2222222222222222,
              "#7201a8"
             ],
             [
              0.3333333333333333,
              "#9c179e"
             ],
             [
              0.4444444444444444,
              "#bd3786"
             ],
             [
              0.5555555555555556,
              "#d8576b"
             ],
             [
              0.6666666666666666,
              "#ed7953"
             ],
             [
              0.7777777777777778,
              "#fb9f3a"
             ],
             [
              0.8888888888888888,
              "#fdca26"
             ],
             [
              1,
              "#f0f921"
             ]
            ],
            "type": "histogram2d"
           }
          ],
          "histogram2dcontour": [
           {
            "colorbar": {
             "outlinewidth": 0,
             "ticks": ""
            },
            "colorscale": [
             [
              0,
              "#0d0887"
             ],
             [
              0.1111111111111111,
              "#46039f"
             ],
             [
              0.2222222222222222,
              "#7201a8"
             ],
             [
              0.3333333333333333,
              "#9c179e"
             ],
             [
              0.4444444444444444,
              "#bd3786"
             ],
             [
              0.5555555555555556,
              "#d8576b"
             ],
             [
              0.6666666666666666,
              "#ed7953"
             ],
             [
              0.7777777777777778,
              "#fb9f3a"
             ],
             [
              0.8888888888888888,
              "#fdca26"
             ],
             [
              1,
              "#f0f921"
             ]
            ],
            "type": "histogram2dcontour"
           }
          ],
          "mesh3d": [
           {
            "colorbar": {
             "outlinewidth": 0,
             "ticks": ""
            },
            "type": "mesh3d"
           }
          ],
          "parcoords": [
           {
            "line": {
             "colorbar": {
              "outlinewidth": 0,
              "ticks": ""
             }
            },
            "type": "parcoords"
           }
          ],
          "pie": [
           {
            "automargin": true,
            "type": "pie"
           }
          ],
          "scatter": [
           {
            "fillpattern": {
             "fillmode": "overlay",
             "size": 10,
             "solidity": 0.2
            },
            "type": "scatter"
           }
          ],
          "scatter3d": [
           {
            "line": {
             "colorbar": {
              "outlinewidth": 0,
              "ticks": ""
             }
            },
            "marker": {
             "colorbar": {
              "outlinewidth": 0,
              "ticks": ""
             }
            },
            "type": "scatter3d"
           }
          ],
          "scattercarpet": [
           {
            "marker": {
             "colorbar": {
              "outlinewidth": 0,
              "ticks": ""
             }
            },
            "type": "scattercarpet"
           }
          ],
          "scattergeo": [
           {
            "marker": {
             "colorbar": {
              "outlinewidth": 0,
              "ticks": ""
             }
            },
            "type": "scattergeo"
           }
          ],
          "scattergl": [
           {
            "marker": {
             "colorbar": {
              "outlinewidth": 0,
              "ticks": ""
             }
            },
            "type": "scattergl"
           }
          ],
          "scattermapbox": [
           {
            "marker": {
             "colorbar": {
              "outlinewidth": 0,
              "ticks": ""
             }
            },
            "type": "scattermapbox"
           }
          ],
          "scatterpolar": [
           {
            "marker": {
             "colorbar": {
              "outlinewidth": 0,
              "ticks": ""
             }
            },
            "type": "scatterpolar"
           }
          ],
          "scatterpolargl": [
           {
            "marker": {
             "colorbar": {
              "outlinewidth": 0,
              "ticks": ""
             }
            },
            "type": "scatterpolargl"
           }
          ],
          "scatterternary": [
           {
            "marker": {
             "colorbar": {
              "outlinewidth": 0,
              "ticks": ""
             }
            },
            "type": "scatterternary"
           }
          ],
          "surface": [
           {
            "colorbar": {
             "outlinewidth": 0,
             "ticks": ""
            },
            "colorscale": [
             [
              0,
              "#0d0887"
             ],
             [
              0.1111111111111111,
              "#46039f"
             ],
             [
              0.2222222222222222,
              "#7201a8"
             ],
             [
              0.3333333333333333,
              "#9c179e"
             ],
             [
              0.4444444444444444,
              "#bd3786"
             ],
             [
              0.5555555555555556,
              "#d8576b"
             ],
             [
              0.6666666666666666,
              "#ed7953"
             ],
             [
              0.7777777777777778,
              "#fb9f3a"
             ],
             [
              0.8888888888888888,
              "#fdca26"
             ],
             [
              1,
              "#f0f921"
             ]
            ],
            "type": "surface"
           }
          ],
          "table": [
           {
            "cells": {
             "fill": {
              "color": "#EBF0F8"
             },
             "line": {
              "color": "white"
             }
            },
            "header": {
             "fill": {
              "color": "#C8D4E3"
             },
             "line": {
              "color": "white"
             }
            },
            "type": "table"
           }
          ]
         },
         "layout": {
          "annotationdefaults": {
           "arrowcolor": "#2a3f5f",
           "arrowhead": 0,
           "arrowwidth": 1
          },
          "autotypenumbers": "strict",
          "coloraxis": {
           "colorbar": {
            "outlinewidth": 0,
            "ticks": ""
           }
          },
          "colorscale": {
           "diverging": [
            [
             0,
             "#8e0152"
            ],
            [
             0.1,
             "#c51b7d"
            ],
            [
             0.2,
             "#de77ae"
            ],
            [
             0.3,
             "#f1b6da"
            ],
            [
             0.4,
             "#fde0ef"
            ],
            [
             0.5,
             "#f7f7f7"
            ],
            [
             0.6,
             "#e6f5d0"
            ],
            [
             0.7,
             "#b8e186"
            ],
            [
             0.8,
             "#7fbc41"
            ],
            [
             0.9,
             "#4d9221"
            ],
            [
             1,
             "#276419"
            ]
           ],
           "sequential": [
            [
             0,
             "#0d0887"
            ],
            [
             0.1111111111111111,
             "#46039f"
            ],
            [
             0.2222222222222222,
             "#7201a8"
            ],
            [
             0.3333333333333333,
             "#9c179e"
            ],
            [
             0.4444444444444444,
             "#bd3786"
            ],
            [
             0.5555555555555556,
             "#d8576b"
            ],
            [
             0.6666666666666666,
             "#ed7953"
            ],
            [
             0.7777777777777778,
             "#fb9f3a"
            ],
            [
             0.8888888888888888,
             "#fdca26"
            ],
            [
             1,
             "#f0f921"
            ]
           ],
           "sequentialminus": [
            [
             0,
             "#0d0887"
            ],
            [
             0.1111111111111111,
             "#46039f"
            ],
            [
             0.2222222222222222,
             "#7201a8"
            ],
            [
             0.3333333333333333,
             "#9c179e"
            ],
            [
             0.4444444444444444,
             "#bd3786"
            ],
            [
             0.5555555555555556,
             "#d8576b"
            ],
            [
             0.6666666666666666,
             "#ed7953"
            ],
            [
             0.7777777777777778,
             "#fb9f3a"
            ],
            [
             0.8888888888888888,
             "#fdca26"
            ],
            [
             1,
             "#f0f921"
            ]
           ]
          },
          "colorway": [
           "#636efa",
           "#EF553B",
           "#00cc96",
           "#ab63fa",
           "#FFA15A",
           "#19d3f3",
           "#FF6692",
           "#B6E880",
           "#FF97FF",
           "#FECB52"
          ],
          "font": {
           "color": "#2a3f5f"
          },
          "geo": {
           "bgcolor": "white",
           "lakecolor": "white",
           "landcolor": "#E5ECF6",
           "showlakes": true,
           "showland": true,
           "subunitcolor": "white"
          },
          "hoverlabel": {
           "align": "left"
          },
          "hovermode": "closest",
          "mapbox": {
           "style": "light"
          },
          "paper_bgcolor": "white",
          "plot_bgcolor": "#E5ECF6",
          "polar": {
           "angularaxis": {
            "gridcolor": "white",
            "linecolor": "white",
            "ticks": ""
           },
           "bgcolor": "#E5ECF6",
           "radialaxis": {
            "gridcolor": "white",
            "linecolor": "white",
            "ticks": ""
           }
          },
          "scene": {
           "xaxis": {
            "backgroundcolor": "#E5ECF6",
            "gridcolor": "white",
            "gridwidth": 2,
            "linecolor": "white",
            "showbackground": true,
            "ticks": "",
            "zerolinecolor": "white"
           },
           "yaxis": {
            "backgroundcolor": "#E5ECF6",
            "gridcolor": "white",
            "gridwidth": 2,
            "linecolor": "white",
            "showbackground": true,
            "ticks": "",
            "zerolinecolor": "white"
           },
           "zaxis": {
            "backgroundcolor": "#E5ECF6",
            "gridcolor": "white",
            "gridwidth": 2,
            "linecolor": "white",
            "showbackground": true,
            "ticks": "",
            "zerolinecolor": "white"
           }
          },
          "shapedefaults": {
           "line": {
            "color": "#2a3f5f"
           }
          },
          "ternary": {
           "aaxis": {
            "gridcolor": "white",
            "linecolor": "white",
            "ticks": ""
           },
           "baxis": {
            "gridcolor": "white",
            "linecolor": "white",
            "ticks": ""
           },
           "bgcolor": "#E5ECF6",
           "caxis": {
            "gridcolor": "white",
            "linecolor": "white",
            "ticks": ""
           }
          },
          "title": {
           "x": 0.05
          },
          "xaxis": {
           "automargin": true,
           "gridcolor": "white",
           "linecolor": "white",
           "ticks": "",
           "title": {
            "standoff": 15
           },
           "zerolinecolor": "white",
           "zerolinewidth": 2
          },
          "yaxis": {
           "automargin": true,
           "gridcolor": "white",
           "linecolor": "white",
           "ticks": "",
           "title": {
            "standoff": 15
           },
           "zerolinecolor": "white",
           "zerolinewidth": 2
          }
         }
        },
        "xaxis": {
         "anchor": "y",
         "domain": [
          0,
          1
         ],
         "title": {
          "text": "Region"
         }
        },
        "yaxis": {
         "anchor": "x",
         "domain": [
          0,
          1
         ],
         "title": {
          "text": "Criminality"
         }
        }
       }
      }
     },
     "metadata": {},
     "output_type": "display_data"
    }
   ],
   "source": [
    "# Creating a heatmap\n",
    "numeric_df = df1.select_dtypes(include=['float64', 'int64'])\n",
    "fig5 = px.imshow(numeric_df.corr())\n",
    "\n",
    "# Creating a pie chart\n",
    "fig6 = px.pie(df1, values='Criminality', names='Criminal markets')\n",
    "\n",
    "# Creating a histogram\n",
    "fig7 = px.histogram(df1['Criminality'])\n",
    "\n",
    "# Creating a box plot\n",
    "fig8 = px.box(df1, y='Criminality', x='Region')\n",
    "\n",
    "# Showing the graphs\n",
    "figs = [fig1, fig2, fig3, fig4, fig5, fig6, fig7, fig8]\n",
    "for fig in figs:\n",
    "    fig.show()"
   ]
  },
  {
   "cell_type": "code",
   "execution_count": null,
   "metadata": {},
   "outputs": [],
   "source": []
  }
 ],
 "metadata": {
  "kernelspec": {
   "display_name": "Python 3",
   "language": "python",
   "name": "python3"
  },
  "language_info": {
   "codemirror_mode": {
    "name": "ipython",
    "version": 3
   },
   "file_extension": ".py",
   "mimetype": "text/x-python",
   "name": "python",
   "nbconvert_exporter": "python",
   "pygments_lexer": "ipython3",
   "version": "3.11.3"
  }
 },
 "nbformat": 4,
 "nbformat_minor": 2
}
